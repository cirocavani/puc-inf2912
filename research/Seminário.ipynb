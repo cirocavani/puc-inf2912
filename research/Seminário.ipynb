{
 "cells": [
  {
   "cell_type": "markdown",
   "metadata": {},
   "source": [
    "INF2912 - Otimização Combinatória\n",
    "\n",
    "Prof. Marcus Vinicius Soledade Poggi de Aragão\n",
    "\n",
    "2015-2\n",
    "\n",
    "Ciro Cavani\n",
    "\n",
    "25/11/2015"
   ]
  },
  {
   "cell_type": "markdown",
   "metadata": {},
   "source": [
    "Paper:\n",
    "\n",
    "**Learning in Combinatorial Optimization: What and How to Explore**\n",
    "\n",
    "http://www.mit.edu/~jvielma/publications/OCP_12.pdf\n",
    "\n",
    "*We study a family of sequential decision problems under model uncertainty where, at each period, the decision maker faces a different instance of a combinatorial optimization problem. Instances differ in their objective coefficient vectors, which are unobserved prior to implemen-tation. These vectors however are known to be random draws from a common and initially unknown distribution function. By implementing different solutions, the decision maker ex-tracts information about the objective function, but at the same time experiences the value associated with said solutions. We show that balancing the implied exploration vs. exploitation trade-off requires resolving critical challenges not present in previous studies: in addition to de-termining exploration frequencies, the decision maker must resolve the issue of what to explore and how to do so. Our work provides clear answers to both questions. In particular, we show that efficient data collection involves solving a new class of combinatorial problems, which we refer to as Optimality Cover Problem (OCP). Our main result establishes a fundamental limit on the performance of any admissible policy, which is expressed in terms of the solution to OCP. Using the insight derived from such a bound, we develop a family of policies and establish theoretical guarantees for their performance, which we contrast against the fundamental bound.*\n"
   ]
  }
 ],
 "metadata": {
  "kernelspec": {
   "display_name": "Julia 0.4.0",
   "language": "julia",
   "name": "julia-0.4"
  },
  "language_info": {
   "file_extension": ".jl",
   "mimetype": "application/julia",
   "name": "julia",
   "version": "0.4.0"
  }
 },
 "nbformat": 4,
 "nbformat_minor": 0
}
