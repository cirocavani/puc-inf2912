{
 "cells": [
  {
   "cell_type": "markdown",
   "metadata": {},
   "source": [
    "# Lista 1 - Exercício 3\n",
    "\n",
    "## INF2912 - Otimização Combinatória\n",
    "### Prof. Marcus Vinicius Soledade Poggi de Aragão\n",
    "### 2015-2\n",
    "\n",
    "### Ciro Cavani\n",
    "#### BigData / Globo.com"
   ]
  },
  {
   "cell_type": "markdown",
   "metadata": {},
   "source": [
    "## Facility Location Problem\n",
    "\n",
    "* $P$ - conjunto de centros de atendimento $|P| = p$\n",
    "* $J$ - conjunto de locais a serem atendidos $|J| = n$\n",
    "* $c_{ij}$ - custo fixo de atendimento do centro $i$ para o ponto $j$\n",
    "\n",
    "Objetivo:\n",
    "\n",
    "custo total de atendimento mínimo"
   ]
  },
  {
   "cell_type": "markdown",
   "metadata": {},
   "source": [
    "### Modelo ULP\n",
    "\n",
    "$\n",
    "\\begin{align}\n",
    "\\text{minimize} \\qquad & \\sum_{i=1}^{n}\\sum_{j=1}^{n} c_{ij} x_{ij} \\\\\n",
    " \\text{subject to} \\qquad \\qquad & \\sum_{i=1}^{n} x_{ij} = 1 & j = 1, \\ldots, n \\\\\n",
    "  \\quad \\quad & \\sum_{i=1}^{n} y_{i} = p \\\\\n",
    "  \\quad \\quad & x_{ij} - y_{i} \\le 0 & i,j = 1, \\ldots, n \\\\\n",
    "  \\qquad \\qquad & x_{ij} \\ge 0 & i,j = 1, \\ldots, n \\\\\n",
    "  \\qquad \\qquad & y_{i} \\in \\{0, 1\\} & i = 1, \\ldots, n \\\\\n",
    "\\end{align}\n",
    "$"
   ]
  },
  {
   "cell_type": "markdown",
   "metadata": {},
   "source": [
    "### JuMP\n",
    "\n",
    "http://www.juliaopt.org/\n",
    "\n",
    "http://jump.readthedocs.org/en/stable/\n",
    "\n",
    "Modeling language for Mathematical Programming (linear, mixed-integer, conic, nonlinear)"
   ]
  },
  {
   "cell_type": "code",
   "execution_count": 1,
   "metadata": {
    "collapsed": true
   },
   "outputs": [],
   "source": [
    "using JuMP"
   ]
  },
  {
   "cell_type": "code",
   "execution_count": 2,
   "metadata": {
    "collapsed": false
   },
   "outputs": [
    {
     "data": {
      "text/plain": [
       "3x3 Array{Int64,2}:\n",
       " 5  10  7\n",
       " 8   9  6\n",
       " 7  11  0"
      ]
     },
     "execution_count": 2,
     "metadata": {},
     "output_type": "execute_result"
    }
   ],
   "source": [
    "p = 2\n",
    "n = 3\n",
    "\n",
    "c = [5 10 7\n",
    "    8 9 6\n",
    "    7 11 0]"
   ]
  },
  {
   "cell_type": "code",
   "execution_count": 3,
   "metadata": {
    "collapsed": false
   },
   "outputs": [
    {
     "data": {
      "text/latex": [
       "$$ \\begin{alignat*}{1}\\min\\quad & 5 x_{1,1} + 10 x_{1,2} + 7 x_{1,3} + 8 x_{2,1} + 9 x_{2,2} + 6 x_{2,3} + 7 x_{3,1} + 11 x_{3,2}\\\\\n",
       "\\text{Subject to} \\quad & x_{1,1} + x_{2,1} + x_{3,1} = 1\\\\\n",
       " & x_{1,2} + x_{2,2} + x_{3,2} = 1\\\\\n",
       " & x_{1,3} + x_{2,3} + x_{3,3} = 1\\\\\n",
       " & y_{1} + y_{2} + y_{3} = 2\\\\\n",
       " & x_{1,1} - y_{1} \\leq 0\\\\\n",
       " & x_{1,2} - y_{1} \\leq 0\\\\\n",
       " & x_{1,3} - y_{1} \\leq 0\\\\\n",
       " & x_{2,1} - y_{2} \\leq 0\\\\\n",
       " & x_{2,2} - y_{2} \\leq 0\\\\\n",
       " & x_{2,3} - y_{2} \\leq 0\\\\\n",
       " & x_{3,1} - y_{3} \\leq 0\\\\\n",
       " & x_{3,2} - y_{3} \\leq 0\\\\\n",
       " & x_{3,3} - y_{3} \\leq 0\\\\\n",
       " & x_{i,j} \\geq 0 \\quad\\forall i \\in \\{1,2,3\\}, j \\in \\{1,2,3\\}\\\\\n",
       " & y_{i} \\in \\{0,1\\} \\quad\\forall i \\in \\{1,2,3\\}\\\\\n",
       "\\end{alignat*}\n",
       " $$"
      ],
      "text/plain": [
       "Minimization problem with:\n",
       " * 13 linear constraints\n",
       " * 12 variables: 3 binary\n",
       "Solver set to Default"
      ]
     },
     "execution_count": 3,
     "metadata": {},
     "output_type": "execute_result"
    }
   ],
   "source": [
    "mlp = Model()\n",
    "\n",
    "@defVar(mlp, x[1:n,1:n] ≥ 0)\n",
    "@defVar(mlp, y[1:n], Bin)\n",
    "\n",
    "for j=1:n\n",
    "    @addConstraint(mlp, sum{x[i,j], i=1:n} == 1)\n",
    "end\n",
    "\n",
    "@addConstraint(mlp, sum{y[i], i=1:n} == p)\n",
    "\n",
    "for i=1:n, j=1:n\n",
    "    @addConstraint(mlp, x[i,j] - y[i] ≤ 0)\n",
    "end\n",
    "\n",
    "@setObjective(mlp, Min, sum{c[i,j] * x[i,j], i=1:n, j=1:n})\n",
    "\n",
    "mlp"
   ]
  },
  {
   "cell_type": "code",
   "execution_count": 4,
   "metadata": {
    "collapsed": false
   },
   "outputs": [
    {
     "data": {
      "text/plain": [
       ":Optimal"
      ]
     },
     "execution_count": 4,
     "metadata": {},
     "output_type": "execute_result"
    }
   ],
   "source": [
    "solve(mlp)"
   ]
  },
  {
   "cell_type": "code",
   "execution_count": 5,
   "metadata": {
    "collapsed": false
   },
   "outputs": [
    {
     "data": {
      "text/plain": [
       "Cbc.CbcMathProgSolverInterface.CbcMathProgModel"
      ]
     },
     "execution_count": 5,
     "metadata": {},
     "output_type": "execute_result"
    }
   ],
   "source": [
    "typeof(getInternalModel(mlp))"
   ]
  },
  {
   "cell_type": "code",
   "execution_count": 6,
   "metadata": {
    "collapsed": false
   },
   "outputs": [
    {
     "data": {
      "text/plain": [
       "15.0"
      ]
     },
     "execution_count": 6,
     "metadata": {},
     "output_type": "execute_result"
    }
   ],
   "source": [
    "getObjectiveValue(mlp)"
   ]
  },
  {
   "cell_type": "code",
   "execution_count": 7,
   "metadata": {
    "collapsed": false
   },
   "outputs": [
    {
     "data": {
      "text/plain": [
       "3-element Array{Float64,1}:\n",
       " 1.0\n",
       " 0.0\n",
       " 1.0"
      ]
     },
     "execution_count": 7,
     "metadata": {},
     "output_type": "execute_result"
    }
   ],
   "source": [
    "getValue(y)"
   ]
  },
  {
   "cell_type": "code",
   "execution_count": 8,
   "metadata": {
    "collapsed": false
   },
   "outputs": [
    {
     "data": {
      "text/plain": [
       "3x3 Array{Float64,2}:\n",
       " 1.0  1.0  0.0\n",
       " 0.0  0.0  0.0\n",
       " 0.0  0.0  1.0"
      ]
     },
     "execution_count": 8,
     "metadata": {},
     "output_type": "execute_result"
    }
   ],
   "source": [
    "getValue(x)"
   ]
  }
 ],
 "metadata": {
  "kernelspec": {
   "display_name": "Julia 0.4.3",
   "language": "julia",
   "name": "julia-0.4"
  },
  "language_info": {
   "file_extension": ".jl",
   "mimetype": "application/julia",
   "name": "julia",
   "version": "0.4.3"
  }
 },
 "nbformat": 4,
 "nbformat_minor": 0
}
