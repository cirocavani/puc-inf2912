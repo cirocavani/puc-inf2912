{
 "cells": [
  {
   "cell_type": "markdown",
   "metadata": {},
   "source": [
    "# Lista 1 - Exercício 2\n",
    "\n",
    "## INF2912 - Otimização Combinatória\n",
    "### Prof. Marcus Vinicius Soledade Poggi de Aragão\n",
    "### 2015-2\n",
    "\n",
    "### Ciro Cavani\n",
    "#### BigData / Globo.com"
   ]
  },
  {
   "cell_type": "markdown",
   "metadata": {},
   "source": [
    "## Transport Problem\n",
    "\n",
    "* $A$ - conjunto de centros de produção $|A| = m$\n",
    "* $B$ - conjunto de centros de consumo $|B| = n$\n",
    "* $c_{ij}$ - custo unitário de desolocamento da produção $i$ para o consumo $j$\n",
    "* $a \\in \\mathbb{R}^m$ - vetor da quantidade produzida por centro\n",
    "* $b \\in \\mathbb{R}^n$ - vetor da quantidade consumida por centro\n",
    "* $\\sum^{m}{a_i} = \\sum^{n}{b_j}$\n",
    "\n",
    "Objetivo:\n",
    "\n",
    "custo total de transporte mínimo"
   ]
  },
  {
   "cell_type": "markdown",
   "metadata": {},
   "source": [
    "### Modelo LP\n",
    "\n",
    "$\n",
    "\\begin{align}\n",
    "\\text{minimize} \\qquad & \\sum_{i=1}^{m}\\sum_{j=1}^{n} c_{ij} x_{ij} \\\\\n",
    " \\text{subject to} \\qquad \\qquad & \\sum_{j=1}^{n} x_{ij} = a_j & i = 1, \\ldots, m \\\\\n",
    "  \\quad \\quad & \\sum_{i=1}^{m} x_{ij} = b_j & j = 1, \\ldots, n \\\\\n",
    "  \\qquad \\qquad & x_{ij} \\ge 0 & i = 1, \\ldots, m; j = 1, \\ldots, n \\\\\n",
    "\\end{align}\n",
    "$"
   ]
  },
  {
   "cell_type": "markdown",
   "metadata": {},
   "source": [
    "### JuMP\n",
    "\n",
    "http://www.juliaopt.org/\n",
    "\n",
    "http://jump.readthedocs.org/en/stable/\n",
    "\n",
    "Modeling language for Mathematical Programming (linear, mixed-integer, conic, nonlinear)"
   ]
  },
  {
   "cell_type": "code",
   "execution_count": 1,
   "metadata": {
    "collapsed": true
   },
   "outputs": [],
   "source": [
    "using JuMP"
   ]
  },
  {
   "cell_type": "code",
   "execution_count": 2,
   "metadata": {
    "collapsed": false
   },
   "outputs": [
    {
     "data": {
      "text/plain": [
       "2x3 Array{Int64,2}:\n",
       " 5  10  7\n",
       " 8   9  6"
      ]
     },
     "execution_count": 2,
     "metadata": {},
     "output_type": "execute_result"
    }
   ],
   "source": [
    "m = 2\n",
    "n = 3\n",
    "\n",
    "a = [15, 25]\n",
    "b = [15, 15, 10]\n",
    "c = [5 10 7\n",
    "    8 9 6]"
   ]
  },
  {
   "cell_type": "code",
   "execution_count": 3,
   "metadata": {
    "collapsed": false
   },
   "outputs": [
    {
     "data": {
      "text/latex": [
       "$$ \\begin{alignat*}{1}\\min\\quad & 5 x_{1,1} + 10 x_{1,2} + 7 x_{1,3} + 8 x_{2,1} + 9 x_{2,2} + 6 x_{2,3}\\\\\n",
       "\\text{Subject to} \\quad & x_{1,1} + x_{1,2} + x_{1,3} = 15\\\\\n",
       " & x_{2,1} + x_{2,2} + x_{2,3} = 25\\\\\n",
       " & x_{1,1} + x_{2,1} = 15\\\\\n",
       " & x_{1,2} + x_{2,2} = 15\\\\\n",
       " & x_{1,3} + x_{2,3} = 10\\\\\n",
       " & x_{i,j} \\geq 0 \\quad\\forall i \\in \\{1,2\\}, j \\in \\{1,2,3\\}\\\\\n",
       "\\end{alignat*}\n",
       " $$"
      ],
      "text/plain": [
       "Minimization problem with:\n",
       " * 5 linear constraints\n",
       " * 6 variables\n",
       "Solver set to Default"
      ]
     },
     "execution_count": 3,
     "metadata": {},
     "output_type": "execute_result"
    }
   ],
   "source": [
    "mtp = Model()\n",
    "\n",
    "@defVar(mtp, x[1:m,1:n] ≥ 0)\n",
    "\n",
    "for i=1:m\n",
    "    @addConstraint(mtp, sum{x[i,j], j=1:n} == a[i])\n",
    "end\n",
    "\n",
    "for j=1:n\n",
    "    @addConstraint(mtp, sum{x[i,j], i=1:m} == b[j])\n",
    "end\n",
    "\n",
    "@setObjective(mtp, Min, sum{c[i,j] * x[i,j], i=1:m, j=1:n})\n",
    "\n",
    "mtp"
   ]
  },
  {
   "cell_type": "code",
   "execution_count": 4,
   "metadata": {
    "collapsed": false
   },
   "outputs": [
    {
     "data": {
      "text/plain": [
       ":Optimal"
      ]
     },
     "execution_count": 4,
     "metadata": {},
     "output_type": "execute_result"
    }
   ],
   "source": [
    "solve(mtp)"
   ]
  },
  {
   "cell_type": "code",
   "execution_count": 5,
   "metadata": {
    "collapsed": false
   },
   "outputs": [
    {
     "data": {
      "text/plain": [
       "Clp.ClpMathProgSolverInterface.ClpMathProgModel"
      ]
     },
     "execution_count": 5,
     "metadata": {},
     "output_type": "execute_result"
    }
   ],
   "source": [
    "typeof(getInternalModel(mtp))"
   ]
  },
  {
   "cell_type": "code",
   "execution_count": 6,
   "metadata": {
    "collapsed": false
   },
   "outputs": [
    {
     "data": {
      "text/plain": [
       "270.0"
      ]
     },
     "execution_count": 6,
     "metadata": {},
     "output_type": "execute_result"
    }
   ],
   "source": [
    "getObjectiveValue(mtp)"
   ]
  },
  {
   "cell_type": "code",
   "execution_count": 7,
   "metadata": {
    "collapsed": false
   },
   "outputs": [
    {
     "data": {
      "text/plain": [
       "2x3 Array{Float64,2}:\n",
       " 15.0   0.0   0.0\n",
       "  0.0  15.0  10.0"
      ]
     },
     "execution_count": 7,
     "metadata": {},
     "output_type": "execute_result"
    }
   ],
   "source": [
    "getValue(x)"
   ]
  },
  {
   "cell_type": "code",
   "execution_count": 8,
   "metadata": {
    "collapsed": false
   },
   "outputs": [
    {
     "data": {
      "text/plain": [
       "2x3 Array{Float64,2}:\n",
       " 0.0  1.0  1.0\n",
       " 3.0  0.0  0.0"
      ]
     },
     "execution_count": 8,
     "metadata": {},
     "output_type": "execute_result"
    }
   ],
   "source": [
    "getDual(x)"
   ]
  }
 ],
 "metadata": {
  "kernelspec": {
   "display_name": "Julia 0.4.3",
   "language": "julia",
   "name": "julia-0.4"
  },
  "language_info": {
   "file_extension": ".jl",
   "mimetype": "application/julia",
   "name": "julia",
   "version": "0.4.3"
  }
 },
 "nbformat": 4,
 "nbformat_minor": 0
}
