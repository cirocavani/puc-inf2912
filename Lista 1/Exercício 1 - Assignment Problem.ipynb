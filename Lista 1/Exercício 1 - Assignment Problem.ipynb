{
 "cells": [
  {
   "cell_type": "markdown",
   "metadata": {},
   "source": [
    "# Lista 1 - Exercício 1\n",
    "\n",
    "## INF2912 - Otimização Combinatória\n",
    "### Prof. Marcus Vinicius Soledade Poggi de Aragão\n",
    "### 2015-2\n",
    "\n",
    "### Ciro Cavani\n",
    "#### BigData / Globo.com"
   ]
  },
  {
   "cell_type": "markdown",
   "metadata": {},
   "source": [
    "## Assignment Problem\n",
    "\n",
    "* $T$ - conjunto de tarefas $|T| = n$\n",
    "* $M$ - conjunto de máquinas $|M| = n$\n",
    "* $c_{ij}$ - custo de alocar a tarefa $i$ na máquina $j$\n",
    "\n",
    "Objetivo:\n",
    "\n",
    "custo total mínimo"
   ]
  },
  {
   "cell_type": "markdown",
   "metadata": {},
   "source": [
    "### Modelo IP\n",
    "\n",
    "$\n",
    "\\begin{align}\n",
    "\\text{minimize} \\qquad & \\sum_{i=1}^{n}\\sum_{j=1}^{n} c_{ij} x_{ij} \\\\\n",
    " \\text{subject to} \\quad \\quad & \\sum_{i=1}^{n} x_{ij} = 1 & j = 1, \\ldots, n \\\\\n",
    " \\qquad \\qquad & \\sum_{j=1}^{n} x_{ij} = 1 & i = 1, \\ldots, n \\\\\n",
    " \\qquad \\qquad & x_{ij} \\ge 0 & i,j = 1, \\ldots, n \\\\\n",
    " \\qquad \\qquad & x_{ij} \\in \\{ 0, 1 \\} & i,j = 1, \\ldots, n \\\\\n",
    "\\end{align}\n",
    "$"
   ]
  },
  {
   "cell_type": "markdown",
   "metadata": {},
   "source": [
    "### JuMP\n",
    "\n",
    "http://www.juliaopt.org/\n",
    "\n",
    "http://jump.readthedocs.org/en/stable/\n",
    "\n",
    "Modeling language for Mathematical Programming (linear, mixed-integer, conic, nonlinear)"
   ]
  },
  {
   "cell_type": "code",
   "execution_count": 1,
   "metadata": {
    "collapsed": true
   },
   "outputs": [],
   "source": [
    "using JuMP"
   ]
  },
  {
   "cell_type": "code",
   "execution_count": 2,
   "metadata": {
    "collapsed": false
   },
   "outputs": [
    {
     "data": {
      "text/plain": [
       "3x3 Array{Int64,2}:\n",
       " 5  10  7\n",
       " 8   9  6\n",
       " 3  13  2"
      ]
     },
     "execution_count": 2,
     "metadata": {},
     "output_type": "execute_result"
    }
   ],
   "source": [
    "n = 3\n",
    "\n",
    "c = [5 10 7\n",
    "    8 9 6\n",
    "    3 13 2]"
   ]
  },
  {
   "cell_type": "code",
   "execution_count": 3,
   "metadata": {
    "collapsed": false
   },
   "outputs": [
    {
     "data": {
      "text/latex": [
       "$$ \\begin{alignat*}{1}\\min\\quad & 5 x_{1,1} + 10 x_{1,2} + 7 x_{1,3} + 8 x_{2,1} + 9 x_{2,2} + 6 x_{2,3} + 3 x_{3,1} + 13 x_{3,2} + 2 x_{3,3}\\\\\n",
       "\\text{Subject to} \\quad & x_{1,1} + x_{2,1} + x_{3,1} = 1\\\\\n",
       " & x_{1,2} + x_{2,2} + x_{3,2} = 1\\\\\n",
       " & x_{1,3} + x_{2,3} + x_{3,3} = 1\\\\\n",
       " & x_{1,1} + x_{1,2} + x_{1,3} = 1\\\\\n",
       " & x_{2,1} + x_{2,2} + x_{2,3} = 1\\\\\n",
       " & x_{3,1} + x_{3,2} + x_{3,3} = 1\\\\\n",
       " & x_{i,j} \\in \\{0,1\\} \\quad\\forall i \\in \\{1,2,3\\}, j \\in \\{1,2,3\\}\\\\\n",
       "\\end{alignat*}\n",
       " $$"
      ],
      "text/plain": [
       "Minimization problem with:\n",
       " * 6 linear constraints\n",
       " * 9 variables: 9 binary\n",
       "Solver set to Default"
      ]
     },
     "execution_count": 3,
     "metadata": {},
     "output_type": "execute_result"
    }
   ],
   "source": [
    "map = Model()\n",
    "\n",
    "@defVar(map, x[1:n,1:n], Bin)\n",
    "\n",
    "for j=1:n\n",
    "    @addConstraint(map, sum{x[i,j], i=1:n} == 1)\n",
    "end\n",
    "\n",
    "for i=1:n\n",
    "    @addConstraint(map, sum{x[i,j], j=1:n} == 1)\n",
    "end\n",
    "\n",
    "@setObjective(map, Min, sum{c[i,j] * x[i,j], i=1:n, j=1:n})\n",
    "\n",
    "map"
   ]
  },
  {
   "cell_type": "code",
   "execution_count": 4,
   "metadata": {
    "collapsed": false
   },
   "outputs": [
    {
     "data": {
      "text/plain": [
       ":Optimal"
      ]
     },
     "execution_count": 4,
     "metadata": {},
     "output_type": "execute_result"
    }
   ],
   "source": [
    "solve(map)"
   ]
  },
  {
   "cell_type": "code",
   "execution_count": 5,
   "metadata": {
    "collapsed": false
   },
   "outputs": [
    {
     "data": {
      "text/plain": [
       "Cbc.CbcMathProgSolverInterface.CbcMathProgModel"
      ]
     },
     "execution_count": 5,
     "metadata": {},
     "output_type": "execute_result"
    }
   ],
   "source": [
    "typeof(getInternalModel(map))"
   ]
  },
  {
   "cell_type": "code",
   "execution_count": 6,
   "metadata": {
    "collapsed": false
   },
   "outputs": [
    {
     "data": {
      "text/plain": [
       "16.0"
      ]
     },
     "execution_count": 6,
     "metadata": {},
     "output_type": "execute_result"
    }
   ],
   "source": [
    "getObjectiveValue(map)"
   ]
  },
  {
   "cell_type": "code",
   "execution_count": 7,
   "metadata": {
    "collapsed": false
   },
   "outputs": [
    {
     "data": {
      "text/plain": [
       "3x3 Array{Float64,2}:\n",
       " 1.0  0.0  0.0\n",
       " 0.0  1.0  0.0\n",
       " 0.0  0.0  1.0"
      ]
     },
     "execution_count": 7,
     "metadata": {},
     "output_type": "execute_result"
    }
   ],
   "source": [
    "getValue(x)"
   ]
  },
  {
   "cell_type": "code",
   "execution_count": 8,
   "metadata": {
    "collapsed": false
   },
   "outputs": [
    {
     "ename": "LoadError",
     "evalue": "LoadError: Variable bound duals (reduced costs) not available. Check that the model was properly solved and no integer variables are present.\nwhile loading In[8], in expression starting on line 1",
     "output_type": "error",
     "traceback": [
      "LoadError: Variable bound duals (reduced costs) not available. Check that the model was properly solved and no integer variables are present.\nwhile loading In[8], in expression starting on line 1",
      "",
      " in getDual at /home/cavani/.julia/v0.4/JuMP/src/JuMP.jl:420",
      " in map at abstractarray.jl:1305",
      " in getDual at /home/cavani/.julia/v0.4/JuMP/src/JuMPContainer.jl:179"
     ]
    }
   ],
   "source": [
    "getDual(x) # Erro Esperado - não implementado para IP"
   ]
  }
 ],
 "metadata": {
  "kernelspec": {
   "display_name": "Julia 0.4.3",
   "language": "julia",
   "name": "julia-0.4"
  },
  "language_info": {
   "file_extension": ".jl",
   "mimetype": "application/julia",
   "name": "julia",
   "version": "0.4.3"
  }
 },
 "nbformat": 4,
 "nbformat_minor": 0
}
