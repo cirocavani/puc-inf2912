{
 "cells": [
  {
   "cell_type": "markdown",
   "metadata": {
    "collapsed": false
   },
   "source": [
    "Problema:\n",
    "\n",
    "Propor um classificador que identifique o grupo de cada objeto.\n",
    "\n",
    "Dados:\n",
    "\n",
    "* $g$: número de grupos diferentes\n",
    "* $n$: número de objetos (não necessariamente diferentes)\n",
    "* $n_{min}$: número mínimo de objetos em um grupo\n",
    "* $n_{max}$: número máximo de objetos em um grupo\n",
    "\n",
    "Para cada Objeto:\n",
    "\n",
    "* $c$: número de características binárias\n",
    "* $c_y$: número de características de um determinado grupo\n",
    "* $c_n$: número de características dos demais grupos ($c_n = c_y (g - 1)$)\n",
    "* $p$: probabilidade de ativação das características de um grupo ($p > 0.5$)\n",
    "* $1 - p$: probabilidade de ativação das características dos demais grupos\n",
    "* $p' = 0.5$: probabilidade de ativação das características que não são de qualquer grupo\n",
    "* (as características de cada grupo não tem interseção)"
   ]
  },
  {
   "cell_type": "markdown",
   "metadata": {},
   "source": [
    "## Gerador de Instância"
   ]
  },
  {
   "cell_type": "code",
   "execution_count": 3,
   "metadata": {
    "collapsed": false
   },
   "outputs": [
    {
     "data": {
      "text/plain": [
       "group_size (generic function with 1 method)"
      ]
     },
     "execution_count": 3,
     "metadata": {},
     "output_type": "execute_result"
    }
   ],
   "source": [
    "\"gera a distribuição de objetos para os grupos\"\n",
    "function group_size(g, n, n_min, n_max)\n",
    "    num_g = Array(Int, g)\n",
    "    sum = 0\n",
    "    for i=1:g\n",
    "        num_g[i] = rand(n_min:n_max)\n",
    "        sum += num_g[i]\n",
    "    end\n",
    "    correct = n / sum\n",
    "    sum = 0\n",
    "    for i=1:g\n",
    "        num_g[i] = round(Int, num_g[i] * correct)\n",
    "        sum += num_g[i]\n",
    "    end\n",
    "    if sum < n\n",
    "        num_g[g] += 1\n",
    "    end\n",
    "    num_g\n",
    "end"
   ]
  },
  {
   "cell_type": "code",
   "execution_count": 6,
   "metadata": {
    "collapsed": false
   },
   "outputs": [
    {
     "data": {
      "text/plain": [
       "5-element Array{Int64,1}:\n",
       " 2\n",
       " 2\n",
       " 6\n",
       " 2\n",
       " 7"
      ]
     },
     "execution_count": 6,
     "metadata": {},
     "output_type": "execute_result"
    }
   ],
   "source": [
    "let n = 20,\n",
    "    n_min = 2,\n",
    "    n_max = 5,\n",
    "    g = 5\n",
    "    \n",
    "    group_size(g, n, n_min, n_max)\n",
    "end"
   ]
  },
  {
   "cell_type": "code",
   "execution_count": 14,
   "metadata": {
    "collapsed": false
   },
   "outputs": [
    {
     "data": {
      "text/plain": [
       "group_mask (generic function with 1 method)"
      ]
     },
     "execution_count": 14,
     "metadata": {},
     "output_type": "execute_result"
    }
   ],
   "source": [
    "\"máscara de características para cada grupo sem interseção\"\n",
    "function group_mask(g, c, c_y)\n",
    "    char_g = fill(-1, c)\n",
    "    index = 1\n",
    "    for i=1:g, j=1:c_y\n",
    "        char_g[index] = i\n",
    "        index += 1\n",
    "    end\n",
    "    char_g\n",
    "end"
   ]
  },
  {
   "cell_type": "code",
   "execution_count": 15,
   "metadata": {
    "collapsed": false
   },
   "outputs": [
    {
     "data": {
      "text/plain": [
       "16-element Array{Int64,1}:\n",
       "  1\n",
       "  1\n",
       "  1\n",
       "  2\n",
       "  2\n",
       "  2\n",
       "  3\n",
       "  3\n",
       "  3\n",
       "  4\n",
       "  4\n",
       "  4\n",
       "  5\n",
       "  5\n",
       "  5\n",
       " -1"
      ]
     },
     "execution_count": 15,
     "metadata": {},
     "output_type": "execute_result"
    }
   ],
   "source": [
    "let g = 5,\n",
    "    c = 16,\n",
    "    c_y = 3\n",
    "    \n",
    "    group_mask(g, c, c_y)\n",
    "end"
   ]
  },
  {
   "cell_type": "code",
   "execution_count": 41,
   "metadata": {
    "collapsed": false
   },
   "outputs": [
    {
     "data": {
      "text/plain": [
       "generate_data (generic function with 1 method)"
      ]
     },
     "execution_count": 41,
     "metadata": {},
     "output_type": "execute_result"
    }
   ],
   "source": [
    "\"\"\"gera objetos para grupos seguindo a distribuição num_g,\n",
    "a máscara char_g e a probabilidade p de ativação\"\"\"\n",
    "function generate_data(num_g, char_g, p)\n",
    "    data = Array(Tuple{Array{Int,1},Int}, 0)\n",
    "    for i=1:length(num_g),j=1:num_g[i]\n",
    "        vect = zeros(Int, length(char_g))\n",
    "        for k=1:length(vect)\n",
    "            if char_g[k] == i\n",
    "                vect[k] = rand() < p ? 1 : 0\n",
    "            elseif char_g[k] != -1\n",
    "                vect[k] = rand() < 1 - p ? 1 : 0\n",
    "            else\n",
    "                vect[k] = rand() < 0.5 ? 1 : 0\n",
    "            end\n",
    "        end\n",
    "        push!(data, (vect, i))\n",
    "    end\n",
    "    data\n",
    "end"
   ]
  },
  {
   "cell_type": "code",
   "execution_count": 42,
   "metadata": {
    "collapsed": false
   },
   "outputs": [
    {
     "data": {
      "text/plain": [
       "oc152_t_instance_generator (generic function with 1 method)"
      ]
     },
     "execution_count": 42,
     "metadata": {},
     "output_type": "execute_result"
    }
   ],
   "source": [
    "\"gerador de instâncias para o problema de clusterização\"\n",
    "function oc152_t_instance_generator(n, c, c_y, p, g, n_min, n_max)\n",
    "    if c < g * c_y\n",
    "        println(\"c_y too big\")\n",
    "        return nothing\n",
    "    end\n",
    "    \n",
    "    num_g = group_size(g, n, n_min, n_max)\n",
    "    char_g = group_mask(g, c, c_y)\n",
    "    data = generate_data(num_g, char_g, p)\n",
    "    data\n",
    "end"
   ]
  },
  {
   "cell_type": "code",
   "execution_count": 56,
   "metadata": {
    "collapsed": false
   },
   "outputs": [
    {
     "data": {
      "text/plain": [
       "20-element Array{Tuple{Array{Int64,1},Int64},1}:\n",
       " ([1,1,1,1,1,0,1,0,1,0,0,0,1,0,0,0],1)\n",
       " ([1,1,1,1,0,0,0,0,0,0,0,1,0,0,0,1],1)\n",
       " ([1,1,1,1,0,0,0,1,0,0,0,0,0,0,1,0],1)\n",
       " ([0,0,0,1,1,1,0,0,0,0,1,1,0,0,0,1],2)\n",
       " ([0,0,1,1,1,1,0,0,0,0,0,0,1,0,0,0],2)\n",
       " ([0,0,0,0,1,1,0,0,0,0,1,1,0,0,1,1],2)\n",
       " ([0,1,0,1,0,1,0,1,0,0,1,0,0,0,1,0],3)\n",
       " ([1,1,0,0,0,0,1,0,0,1,0,0,0,1,0,1],3)\n",
       " ([0,0,1,1,0,0,1,1,0,1,0,0,0,0,0,1],3)\n",
       " ([0,0,1,0,0,0,0,1,0,1,1,1,0,0,0,0],4)\n",
       " ([0,0,0,0,0,1,0,0,0,0,1,1,0,0,0,1],4)\n",
       " ([0,0,0,0,0,1,0,1,0,1,1,1,0,0,0,1],4)\n",
       " ([0,0,0,0,0,0,0,0,1,0,0,0,1,1,1,0],5)\n",
       " ([0,0,1,0,0,0,0,1,0,0,0,0,1,0,1,0],5)\n",
       " ([0,0,0,0,0,0,0,1,0,0,0,0,0,1,1,1],5)\n",
       " ([1,0,0,0,0,1,0,0,1,0,0,0,1,1,1,1],5)\n",
       " ([0,0,0,1,0,1,0,1,0,0,0,0,1,1,1,1],5)\n",
       " ([0,0,0,0,0,0,1,0,0,0,0,0,1,0,1,1],5)\n",
       " ([0,0,0,0,0,1,0,0,0,0,1,0,1,0,1,1],5)\n",
       " ([0,0,0,0,1,0,1,0,0,0,1,0,1,1,1,0],5)"
      ]
     },
     "execution_count": 56,
     "metadata": {},
     "output_type": "execute_result"
    }
   ],
   "source": [
    "let n = 20,\n",
    "    n_min = 2,\n",
    "    n_max = 5,\n",
    "    g = 5,\n",
    "    c = 16,\n",
    "    c_y = 3,\n",
    "    p = 0.8\n",
    "    \n",
    "    oc152_t_instance_generator(n, c, c_y, p, g, n_min, n_max)\n",
    "end"
   ]
  },
  {
   "cell_type": "markdown",
   "metadata": {},
   "source": [
    "### K-Means\n",
    "\n",
    "Consiste em executar o algoritmo *K-means* determinar os pontos *centrais* de cada grupo e classificar cada objeto como sendo do grupo com ponto central *mais próximo*"
   ]
  },
  {
   "cell_type": "markdown",
   "metadata": {},
   "source": [
    "### ULP - Problema de Localização sem Capacidade\n",
    "\n",
    "Consiste em resolver o *ULP* determinar os objetos representates de cada grupo e classificar cada objeto como sendo do grupo com representante *mais próximo*"
   ]
  },
  {
   "cell_type": "markdown",
   "metadata": {},
   "source": [
    "### P-Center - Problema de Localização de Centróides\n",
    "\n",
    "Consiste em resolver o *P-Center* determinar os objetos representantes de cada grupo e classificar cada objeto como sendo do grupo com representante *mais próximo*"
   ]
  },
  {
   "cell_type": "markdown",
   "metadata": {},
   "source": [
    "### (Propor um método alternativo)\n",
    "\n",
    "TBD"
   ]
  }
 ],
 "metadata": {
  "kernelspec": {
   "display_name": "Julia 0.4.2",
   "language": "julia",
   "name": "julia-0.4"
  },
  "language_info": {
   "file_extension": ".jl",
   "mimetype": "application/julia",
   "name": "julia",
   "version": "0.4.2"
  }
 },
 "nbformat": 4,
 "nbformat_minor": 0
}
