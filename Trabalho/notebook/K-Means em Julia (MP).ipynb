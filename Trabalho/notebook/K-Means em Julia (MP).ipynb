{
 "cells": [
  {
   "cell_type": "markdown",
   "metadata": {
    "collapsed": false
   },
   "source": [
    "# Trabalho de Implementação\n",
    "\n",
    "## INF2912 - Otimização Combinatória\n",
    "### Prof. Marcus Vinicius Soledade Poggi de Aragão\n",
    "### 2015-2\n",
    "\n",
    "### Ciro Cavani\n",
    "#### BigData / Globo.com\n",
    "\n",
    "Algoritmos de clusterização."
   ]
  },
  {
   "cell_type": "markdown",
   "metadata": {},
   "source": [
    "## Conteúdo\n",
    "\n",
    "TBD"
   ]
  },
  {
   "cell_type": "markdown",
   "metadata": {},
   "source": [
    "## Dataset"
   ]
  },
  {
   "cell_type": "code",
   "execution_count": 4,
   "metadata": {
    "collapsed": false
   },
   "outputs": [
    {
     "name": "stdout",
     "output_type": "stream",
     "text": [
      "Number of Groups: 3\n",
      "Number of Features: 200\n",
      "Number of Features (group): 40\n",
      "Probability of Activation: 0.8\n",
      "Number of Objects (total): 100\n",
      "Number of Objects per Group (min): 7\n",
      "Number of Objects per Group (max): 66\n",
      "Number of Objects in 1: 20\n",
      "Number of Objects in 2: 38\n",
      "Number of Objects in 3: 42\n"
     ]
    }
   ],
   "source": [
    "include(\"../src/dataset.jl\")\n",
    "importall Inf2912Clustering\n",
    "Clustering = Inf2912Clustering\n",
    "dataset = Clustering.load_dataset(\"small\")\n",
    "Clustering.summary(dataset)"
   ]
  },
  {
   "cell_type": "markdown",
   "metadata": {},
   "source": [
    "### K-Means\n",
    "\n",
    "Consiste em executar o algoritmo *K-means* determinar os pontos *centrais* de cada grupo e classificar cada objeto como sendo do grupo com ponto central *mais próximo*"
   ]
  },
  {
   "cell_type": "code",
   "execution_count": 5,
   "metadata": {
    "collapsed": false
   },
   "outputs": [
    {
     "data": {
      "text/plain": [
       "41-element Array{Array{Float64,1},1}:\n",
       " [1.0,1.0,1.0,0.0,0.0,0.0,0.0,0.0,1.0,0.0,1.0,0.0,0.0,1.0,1.0,0.0]\n",
       " [1.0,1.0,1.0,0.0,0.0,0.0,0.0,1.0,0.0,0.0,1.0,0.0,1.0,0.0,0.0,1.0]\n",
       " [0.0,0.0,1.0,1.0,1.0,1.0,0.0,0.0,0.0,1.0,0.0,0.0,0.0,1.0,1.0,1.0]\n",
       " [1.0,1.0,0.0,0.0,0.0,0.0,0.0,1.0,1.0,1.0,0.0,0.0,0.0,1.0,1.0,1.0]\n",
       " [1.0,1.0,1.0,0.0,1.0,0.0,0.0,0.0,1.0,1.0,1.0,1.0,1.0,1.0,1.0,1.0]\n",
       " [0.0,1.0,1.0,1.0,1.0,1.0,0.0,0.0,0.0,0.0,1.0,0.0,0.0,0.0,0.0,0.0]\n",
       " [0.0,0.0,0.0,0.0,1.0,1.0,0.0,1.0,0.0,0.0,1.0,1.0,1.0,0.0,0.0,1.0]\n",
       " [1.0,1.0,0.0,1.0,0.0,1.0,0.0,0.0,1.0,0.0,1.0,1.0,1.0,1.0,1.0,0.0]\n",
       " [0.0,0.0,0.0,0.0,0.0,0.0,1.0,0.0,1.0,1.0,0.0,1.0,0.0,0.0,0.0,0.0]\n",
       " [0.0,0.0,0.0,1.0,0.0,1.0,0.0,0.0,0.0,0.0,1.0,0.0,0.0,1.0,1.0,1.0]\n",
       " [1.0,1.0,0.0,0.0,0.0,0.0,1.0,1.0,1.0,0.0,0.0,0.0,1.0,0.0,1.0,0.0]\n",
       " [1.0,1.0,1.0,0.0,0.0,0.0,1.0,0.0,0.0,0.0,0.0,1.0,1.0,1.0,0.0,0.0]\n",
       " [0.0,0.0,1.0,1.0,0.0,0.0,0.0,1.0,0.0,0.0,0.0,0.0,1.0,0.0,1.0,0.0]\n",
       " ⋮                                                                \n",
       " [0.0,0.0,0.0,0.0,0.0,0.0,1.0,1.0,1.0,0.0,0.0,0.0,1.0,0.0,1.0,0.0]\n",
       " [1.0,1.0,1.0,0.0,0.0,1.0,0.0,0.0,0.0,0.0,0.0,1.0,0.0,0.0,1.0,1.0]\n",
       " [0.0,1.0,0.0,0.0,0.0,0.0,0.0,0.0,0.0,1.0,1.0,0.0,0.0,0.0,1.0,1.0]\n",
       " [0.0,0.0,0.0,1.0,1.0,1.0,0.0,1.0,0.0,0.0,1.0,0.0,0.0,0.0,1.0,0.0]\n",
       " [1.0,1.0,0.0,0.0,0.0,0.0,0.0,1.0,1.0,0.0,1.0,0.0,1.0,0.0,0.0,0.0]\n",
       " [1.0,0.0,0.0,1.0,1.0,1.0,0.0,0.0,0.0,0.0,1.0,1.0,0.0,0.0,1.0,0.0]\n",
       " [0.0,0.0,0.0,0.0,0.0,0.0,1.0,1.0,1.0,0.0,1.0,1.0,0.0,1.0,1.0,1.0]\n",
       " [0.0,0.0,0.0,1.0,1.0,1.0,0.0,0.0,0.0,0.0,1.0,0.0,0.0,1.0,1.0,1.0]\n",
       " [0.0,1.0,0.0,1.0,1.0,1.0,0.0,1.0,0.0,1.0,0.0,0.0,1.0,1.0,0.0,1.0]\n",
       " [0.0,0.0,0.0,0.0,1.0,0.0,0.0,0.0,1.0,1.0,0.0,1.0,1.0,1.0,0.0,0.0]\n",
       " [1.0,1.0,1.0,0.0,0.0,1.0,0.0,0.0,0.0,0.0,1.0,1.0,0.0,1.0,1.0,1.0]\n",
       " [1.0,0.0,1.0,0.0,0.0,0.0,0.0,0.0,1.0,0.0,1.0,1.0,0.0,1.0,1.0,0.0]"
      ]
     },
     "execution_count": 5,
     "metadata": {},
     "output_type": "execute_result"
    }
   ],
   "source": [
    "n = 40\n",
    "k = 3\n",
    "c = 16\n",
    "c_y = 3\n",
    "\n",
    "train_data = Clustering.Dataset(size=n, groups=k, features=c, slot=c_y)\n",
    "\n",
    "inputs = map(v -> float(v[1]), train_data.data)"
   ]
  },
  {
   "cell_type": "markdown",
   "metadata": {},
   "source": [
    "#### Mixed Integer Programming with Nonlinear Objective\n",
    "\n",
    "$$\n",
    "\\begin{align}\n",
    "\\text{minimize} \\qquad & \\sum_{j=1}^{k}\\sum_{i=1}^{n} x_{ij} || s_i - c_j||^2 \\\\\n",
    " \\text{subject to} \\quad \\quad & \\sum_{j=1}^{k} x_{ij} = 1 & i = 1, \\ldots, n \\\\\n",
    " \\qquad \\qquad & \\sum_{i=1}^{n} x_{ij} \\ge 1 & j = 1, \\ldots, k \\\\\n",
    " \\qquad \\qquad & x_{ij} \\in \\{0, 1\\} & i = 1, \\ldots, n; j = 1, \\ldots, k \\\\\n",
    "\\end{align}\n",
    "$$\n",
    "\n",
    "$$\n",
    "\\begin{align}\n",
    "c_j = \\frac{\\sum_{l=1}^{n} x_{lj} s_l}{\\sum_{l=1}^{n} x_{lj}}\n",
    "\\end{align}\n",
    "$$"
   ]
  },
  {
   "cell_type": "code",
   "execution_count": 7,
   "metadata": {
    "collapsed": false
   },
   "outputs": [],
   "source": [
    "using JuMP\n",
    "\n",
    "S = inputs\n",
    "\n",
    "# function dist2(i,j)\n",
    "#     C = S[1]\n",
    "#     cx = x[1,j]\n",
    "#     for l=2:n\n",
    "#         C += x[l,j] * S[l]\n",
    "#         cx += x[l,j]\n",
    "#     end\n",
    "#     V = S[i] - C / cx\n",
    "#     V ̇⋅ V\n",
    "# end\n",
    "\n",
    "m = Model()\n",
    "\n",
    "@defVar(m, x[1:n,1:k], Bin)\n",
    "@defVar(m, d2[1:n,1:k] ≥ 0)\n",
    "@defVar(m, cs[1:k,1:c] ≥ 0)\n",
    "@defVar(m, cx[1:k] ≥ 0)\n",
    "\n",
    "for j=1:k\n",
    "    @addConstraint(m, cx[j] == sum{x[l,j], l=1:n})\n",
    "end\n",
    "\n",
    "for j=1:k, t=1:c\n",
    "    @addConstraint(m, cs[j,t] == sum{x[l,j] * S[l][t], l=1:n})\n",
    "end\n",
    "\n",
    "for i=1:n, j=1:k\n",
    "    @addNLConstraint(m, d2[i,j] == sum{(S[i][t] - cs[j,t] / cx[j])^2, t=1:c})\n",
    "end\n",
    "\n",
    "@setObjective(m, Min, sum{x[i,j] * d2[i, j], i=1:n, j=1:k})\n",
    "\n",
    "\n",
    "for i=1:n\n",
    "    @addConstraint(m, sum{x[i,j], j=1:k} == 1)\n",
    "end\n",
    "\n",
    "for j=1:k\n",
    "    @addConstraint(m, sum{x[i,j], i=1:n} ≥ 1)\n",
    "end\n",
    "\n",
    "m;"
   ]
  },
  {
   "cell_type": "code",
   "execution_count": null,
   "metadata": {
    "collapsed": false
   },
   "outputs": [],
   "source": [
    "solve(m)"
   ]
  },
  {
   "cell_type": "code",
   "execution_count": null,
   "metadata": {
    "collapsed": false
   },
   "outputs": [],
   "source": [
    "getValue(x)"
   ]
  },
  {
   "cell_type": "markdown",
   "metadata": {},
   "source": [
    "#### Approximate Semidefinite programming (SDP) relaxation\n",
    "\n",
    "$$\n",
    "\\begin{align}\n",
    "\\text{minimize} \\qquad & Tr(W(I-Z)) \\\\\n",
    " \\text{subject to} \\quad \\quad & Ze = e \\\\\n",
    " \\qquad \\qquad & Tr(Z) = k \\\\\n",
    " \\qquad \\qquad & Z \\succeq 0\\\\\n",
    "\\end{align}\n",
    "$$\n",
    "\n",
    "$$\n",
    "\\begin{align}\n",
    "W_{ij} = \\phi(s_i,s_j) = exp^{-\\frac{||s_i-s_j||^2}{\\sigma}}, \\sigma > 0\n",
    "\\end{align}\n",
    "$$"
   ]
  },
  {
   "cell_type": "code",
   "execution_count": null,
   "metadata": {
    "collapsed": false
   },
   "outputs": [],
   "source": [
    "using JuMP\n",
    "\n",
    "p = length(inputs)\n",
    "\n",
    "W = zeros(p,p)\n",
    "for i=1:p, j=i+1:p\n",
    "    dist = exp(-norm(inputs[i] - inputs[j])/1.0)\n",
    "    W[i,j] = dist\n",
    "    W[j,i] = dist\n",
    "end\n",
    "\n",
    "m = Model()\n",
    "\n",
    "@defVar(m, Z[1:p,1:p], SDP)\n",
    "@addConstraint(m, Z .≥ 0)\n",
    "\n",
    "@setObjective(m, Min, trace(W * (eye(p,p) - Z)))\n",
    "\n",
    "@addConstraint(m, Z * ones(p) .== ones(p))\n",
    "\n",
    "@addConstraint(m, trace(Z) == k)\n",
    "\n",
    "solve(m)\n",
    "\n",
    "Z_val = getValue(Z)[:,:]\n",
    "\n",
    "println(\"Raw solution\")\n",
    "println(round(Z_val,4))\n",
    "\n",
    "# A simple rounding scheme\n",
    "which_cluster = zeros(Int,p)\n",
    "num_clusters = 0\n",
    "for i = 1:p\n",
    "    Z_val[i,i] <= 1e-6 && continue\n",
    "\n",
    "    if which_cluster[i] == 0\n",
    "        num_clusters += 1\n",
    "        which_cluster[i] = num_clusters\n",
    "        for j = i+1:p\n",
    "            println(num_clusters, \" \", round(norm(Z_val[i,j] - Z_val[i,i]),2))\n",
    "            if norm(Z_val[i,j] - Z_val[i,i]) <= 1e-1\n",
    "                which_cluster[j] = num_clusters\n",
    "            end\n",
    "        end\n",
    "    end\n",
    "end\n",
    "\n",
    "println(\"Clusters: \", which_cluster)\n",
    "# Print results\n",
    "for cluster = 1:k\n",
    "    println(\"Cluster $cluster\")\n",
    "    for i = 1:p\n",
    "        if which_cluster[i] == cluster\n",
    "            println(i, \"->\", inputs[i])\n",
    "        end\n",
    "    end\n",
    "end\n",
    "\n",
    "sleep(0.2)"
   ]
  }
 ],
 "metadata": {
  "kernelspec": {
   "display_name": "Julia 0.4.3",
   "language": "julia",
   "name": "julia-0.4"
  },
  "language_info": {
   "file_extension": ".jl",
   "mimetype": "application/julia",
   "name": "julia",
   "version": "0.4.3"
  }
 },
 "nbformat": 4,
 "nbformat_minor": 0
}
