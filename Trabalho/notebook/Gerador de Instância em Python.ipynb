{
 "cells": [
  {
   "cell_type": "markdown",
   "metadata": {},
   "source": [
    "Problema:\n",
    "\n",
    "Propor um classificador que identifique o grupo de cada objeto.\n",
    "\n",
    "Dados:\n",
    "\n",
    "* $g$: número de grupos diferentes\n",
    "* $n$: número de objetos (não necessariamente diferentes)\n",
    "* $n_{min}$: número mínimo de objetos em um grupo\n",
    "* $n_{max}$: número máximo de objetos em um grupo\n",
    "\n",
    "Para cada Objeto:\n",
    "\n",
    "* $c$: número de características binárias\n",
    "* $c_y$: número de características de um determinado grupo\n",
    "* $c_n$: número de características dos demais grupos ($c_n = c_y (g - 1)$)\n",
    "* $p$: probabilidade de ativação das características de um grupo ($p > 0.5$)\n",
    "* $1 - p$: probabilidade de ativação das características dos demais grupos\n",
    "* $p' = 0.5$: probabilidade de ativação das características que não são de qualquer grupo\n",
    "* (as características de cada grupo não tem interseção)"
   ]
  },
  {
   "cell_type": "code",
   "execution_count": 67,
   "metadata": {
    "collapsed": true
   },
   "outputs": [],
   "source": [
    "from __future__ import division\n",
    "import random"
   ]
  },
  {
   "cell_type": "code",
   "execution_count": 68,
   "metadata": {
    "collapsed": false
   },
   "outputs": [],
   "source": [
    "n = 20\n",
    "n_min = 2\n",
    "n_max = 5\n",
    "g = 5\n",
    "c = 16\n",
    "c_y = 3\n",
    "p = 0.8"
   ]
  },
  {
   "cell_type": "code",
   "execution_count": 69,
   "metadata": {
    "collapsed": false
   },
   "outputs": [],
   "source": [
    "if c < g * c_y:\n",
    "    print 'c_y too big'"
   ]
  },
  {
   "cell_type": "code",
   "execution_count": 70,
   "metadata": {
    "collapsed": true
   },
   "outputs": [],
   "source": [
    "def group_size(g, n, n_min, n_max):\n",
    "    \"\"\"gera a distribuição de objetos para os grupos\"\"\"\n",
    "    num_g = []\n",
    "    sum = 0\n",
    "    for i in range(g):\n",
    "        num_g.append(random.uniform(n_min,n_max))\n",
    "        sum += num_g[i]\n",
    "        #print 'gen ', i, num_g[i], sum\n",
    "    correct = float(n)/sum\n",
    "    sum = 0\n",
    "    for i in range(g):\n",
    "        nr = num_g[i]*correct\n",
    "        num_g[i] = int(nr)\n",
    "        sum += num_g[i]\n",
    "        #print sum\n",
    "    if sum < n:\n",
    "        num_g[g-1] += 1\n",
    "        \n",
    "    #print 'nums: ', sum, num_g\n",
    "    return num_g"
   ]
  },
  {
   "cell_type": "code",
   "execution_count": 71,
   "metadata": {
    "collapsed": false
   },
   "outputs": [
    {
     "data": {
      "text/plain": [
       "[4, 2, 5, 2, 6]"
      ]
     },
     "execution_count": 71,
     "metadata": {},
     "output_type": "execute_result"
    }
   ],
   "source": [
    "group_size(g, n, n_min, n_max)"
   ]
  },
  {
   "cell_type": "markdown",
   "metadata": {},
   "source": [
    "Nota:\n",
    "\n",
    "* o máximo e o mínimo podem ser violados em função do fator de correção\n",
    "* `int` trunca o valor para o inteiro e `sum < n+1` fazendo com que o total corrigido seja menor que `n`, violando a premissa"
   ]
  },
  {
   "cell_type": "code",
   "execution_count": 76,
   "metadata": {
    "collapsed": false
   },
   "outputs": [],
   "source": [
    "def group_mask(g, c, c_y):\n",
    "    \"\"\"máscara de características para cada grupo sem interseção\"\"\"\n",
    "    char_g = []\n",
    "    for i in range(c):\n",
    "        char_g.append(-1)\n",
    "    \n",
    "    index = 0\n",
    "    for i in range(g):\n",
    "        for j in range(c_y):\n",
    "            char_g[index] = i\n",
    "            index += 1\n",
    "    return char_g"
   ]
  },
  {
   "cell_type": "code",
   "execution_count": 73,
   "metadata": {
    "collapsed": false
   },
   "outputs": [
    {
     "data": {
      "text/plain": [
       "[0, 0, 0, 1, 1, 1, 2, 2, 2, 3, 3, 3, 4, 4, 4, -1]"
      ]
     },
     "execution_count": 73,
     "metadata": {},
     "output_type": "execute_result"
    }
   ],
   "source": [
    "group_mask(g, c, c_y)"
   ]
  },
  {
   "cell_type": "code",
   "execution_count": 74,
   "metadata": {
    "collapsed": true
   },
   "outputs": [],
   "source": [
    "def generate_data(num_g, char_g, p):\n",
    "    \"\"\"gera objetos para os grupos seguindo a distribuição num_g,\n",
    "    a márcara char_g e a probabilidade p de ativação\"\"\"\n",
    "    data = []\n",
    "    for i in range(len(num_g)):\n",
    "        for j in range(num_g[i]):\n",
    "            vect = [0 for _ in range(len(char_g))]\n",
    "            for k in range(len(vect)):\n",
    "                if char_g[k] == i:\n",
    "                    vect[k] = 0\n",
    "                    if random.uniform(0,1) < p:\n",
    "                        vect[k] = 1\n",
    "                elif char_g[k] != -1:\n",
    "                    vect[k] = 0\n",
    "                    if random.uniform(0,1) < 1-p:\n",
    "                        vect[k] = 1\n",
    "                else:\n",
    "                    vect[k] = 0\n",
    "                    if random.uniform(0,1) < 0.5:\n",
    "                        vect[k] = 1\n",
    "                #print i, char_g\n",
    "                #print i, vect\n",
    "            data.append((vect, i))\n",
    "    return data\n",
    "\n",
    "def oc152_t_instance_generator(n, c, c_y, p, g, n_min, n_max):\n",
    "    \"\"\"gerador de instâncias para o problema de clusterização\"\"\"\n",
    "    if c < g * c_y:\n",
    "        print ' c_y too big '\n",
    "        return\n",
    "\n",
    "    num_g = group_size(g, n, n_min, n_max)\n",
    "    char_g = group_mask(g, c, c_y)\n",
    "    data = generate_data(num_g, char_g, p)\n",
    "    return data"
   ]
  },
  {
   "cell_type": "code",
   "execution_count": 75,
   "metadata": {
    "collapsed": false
   },
   "outputs": [
    {
     "data": {
      "text/plain": [
       "[([0, 1, 1, 0, 1, 1, 0, 0, 0, 1, 0, 0, 0, 0, 1, 0], 0),\n",
       " ([1, 1, 0, 0, 0, 0, 0, 0, 1, 1, 0, 0, 0, 0, 1, 1], 0),\n",
       " ([0, 1, 1, 0, 0, 0, 1, 1, 1, 0, 0, 0, 0, 0, 0, 0], 0),\n",
       " ([1, 1, 1, 0, 0, 0, 0, 0, 0, 0, 0, 0, 1, 0, 0, 0], 0),\n",
       " ([1, 1, 0, 1, 1, 1, 0, 0, 0, 1, 0, 0, 0, 0, 0, 0], 1),\n",
       " ([1, 0, 0, 0, 1, 0, 0, 1, 0, 0, 0, 0, 0, 0, 1, 1], 1),\n",
       " ([0, 0, 0, 0, 0, 0, 0, 0, 1, 0, 0, 0, 0, 0, 0, 1], 1),\n",
       " ([0, 0, 0, 0, 0, 1, 1, 1, 0, 0, 0, 0, 0, 0, 0, 1], 2),\n",
       " ([0, 1, 0, 0, 0, 0, 1, 1, 0, 0, 0, 0, 1, 0, 0, 0], 2),\n",
       " ([1, 0, 0, 0, 0, 0, 1, 1, 1, 0, 0, 0, 1, 0, 0, 0], 2),\n",
       " ([0, 0, 1, 0, 0, 0, 1, 1, 1, 0, 0, 0, 1, 1, 1, 1], 2),\n",
       " ([0, 0, 1, 0, 0, 0, 1, 1, 0, 1, 1, 0, 0, 0, 0, 0], 3),\n",
       " ([0, 0, 0, 1, 0, 1, 0, 0, 0, 1, 0, 1, 0, 0, 0, 0], 3),\n",
       " ([0, 0, 1, 0, 1, 0, 1, 0, 0, 1, 1, 1, 0, 0, 0, 1], 3),\n",
       " ([0, 0, 1, 0, 1, 1, 0, 1, 1, 1, 1, 1, 0, 0, 1, 1], 3),\n",
       " ([0, 0, 0, 0, 0, 0, 0, 0, 1, 0, 0, 1, 1, 1, 1, 0], 4),\n",
       " ([0, 0, 0, 0, 0, 0, 0, 0, 0, 1, 0, 1, 1, 1, 1, 0], 4),\n",
       " ([1, 0, 0, 0, 0, 0, 0, 0, 0, 1, 0, 0, 1, 0, 1, 0], 4),\n",
       " ([1, 0, 1, 0, 0, 0, 0, 0, 0, 0, 0, 0, 1, 1, 1, 0], 4)]"
      ]
     },
     "execution_count": 75,
     "metadata": {},
     "output_type": "execute_result"
    }
   ],
   "source": [
    "oc152_t_instance_generator(n, c, c_y, p, g, n_min, n_max)"
   ]
  }
 ],
 "metadata": {
  "kernelspec": {
   "display_name": "Gurobi (Python 2)",
   "language": "python",
   "name": "gurobi_python2"
  },
  "language_info": {
   "codemirror_mode": {
    "name": "ipython",
    "version": 2
   },
   "file_extension": ".py",
   "mimetype": "text/x-python",
   "name": "python",
   "nbconvert_exporter": "python",
   "pygments_lexer": "ipython2",
   "version": "2.7.11"
  }
 },
 "nbformat": 4,
 "nbformat_minor": 0
}
