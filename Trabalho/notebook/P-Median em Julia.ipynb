{
 "cells": [
  {
   "cell_type": "markdown",
   "metadata": {},
   "source": [
    "# Trabalho de Implementação\n",
    "\n",
    "## INF2912 - Otimização Combinatória\n",
    "### Prof. Marcus Vinicius Soledade Poggi de Aragão\n",
    "### 2015-2\n",
    "\n",
    "### Ciro Cavani\n",
    "#### BigData / Globo.com\n",
    "\n",
    "Algoritmos de clusterização."
   ]
  },
  {
   "cell_type": "markdown",
   "metadata": {},
   "source": [
    "## Conteúdo\n",
    "\n",
    "Esse notebook tem o desenvolvimento e avaliação do Programan Inteiro do P-Median (Facility Location Problem).\n",
    "\n",
    "A avaliação do algoritmo é baseada em um mapeamento entre a maioria dos itens que foram atribuídos a um determinado cluster e o correspondente os valores verdadeiros gerados nesse cluster.\n",
    "\n",
    "O P-Median teve resultados muito bons."
   ]
  },
  {
   "cell_type": "markdown",
   "metadata": {},
   "source": [
    "## Dataset"
   ]
  },
  {
   "cell_type": "code",
   "execution_count": 1,
   "metadata": {
    "collapsed": false
   },
   "outputs": [
    {
     "name": "stderr",
     "output_type": "stream",
     "text": [
      "WARNING: type Dataset not present in workspace; reconstructing\n"
     ]
    },
    {
     "ename": "LoadError",
     "evalue": "LoadError: MethodError: `summary` has no method matching summary(::JLD.##Dataset#8091)\nyou may have intended to import Base.summary\nwhile loading In[1], in expression starting on line 5",
     "output_type": "error",
     "traceback": [
      "LoadError: MethodError: `summary` has no method matching summary(::JLD.##Dataset#8091)\nyou may have intended to import Base.summary\nwhile loading In[1], in expression starting on line 5",
      ""
     ]
    }
   ],
   "source": [
    "include(\"../src/clustering.jl\")\n",
    "import Inf2912Clustering\n",
    "const Clustering = Inf2912Clustering\n",
    "dataset = Clustering.load_dataset(\"small\")\n",
    "Clustering.summary(dataset)\n",
    "sleep(0.2)"
   ]
  },
  {
   "cell_type": "markdown",
   "metadata": {},
   "source": [
    "### ULP - Problema de Localização sem Capacidade\n",
    "\n",
    "Consiste em resolver o *ULP* determinar os objetos representates de cada grupo e classificar cada objeto como sendo do grupo com representante *mais próximo*\n",
    "\n",
    "https://en.wikipedia.org/wiki/K-medians_clustering\n",
    "\n",
    "http://cseweb.ucsd.edu/~dasgupta/291-geom/kmedian.pdf"
   ]
  },
  {
   "cell_type": "markdown",
   "metadata": {},
   "source": [
    "### JuMP\n",
    "\n",
    "http://www.juliaopt.org/\n",
    "\n",
    "http://jump.readthedocs.org/en/stable/\n",
    "\n",
    "Modeling language for Mathematical Programming (linear, mixed-integer, conic, nonlinear)"
   ]
  },
  {
   "cell_type": "code",
   "execution_count": 2,
   "metadata": {
    "collapsed": true
   },
   "outputs": [],
   "source": [
    "if Pkg.installed(\"JuMP\") === nothing\n",
    "    println(\"Installing JuMP...\")\n",
    "    Pkg.add(\"JuMP\")\n",
    "    Pkg.add(\"Cbc\")\n",
    "end"
   ]
  },
  {
   "cell_type": "code",
   "execution_count": 3,
   "metadata": {
    "collapsed": true
   },
   "outputs": [],
   "source": [
    "using JuMP"
   ]
  },
  {
   "cell_type": "code",
   "execution_count": 4,
   "metadata": {
    "collapsed": false
   },
   "outputs": [
    {
     "data": {
      "text/plain": [
       "100x100 Array{Float64,2}:\n",
       "  0.0       9.38083  10.4403   10.198    …  10.7238   10.0      10.5357 \n",
       "  9.38083   0.0      10.1489   10.4881       9.94987  10.2956   10.3441 \n",
       " 10.4403   10.1489    0.0       9.11043      9.89949   9.21954   9.38083\n",
       " 10.198    10.4881    9.11043   0.0          9.94987   9.48683   9.32738\n",
       " 10.198     9.89949  10.0499   10.2956       8.544     9.48683  10.5357 \n",
       " 10.9087   10.0499    8.3666    9.11043  …  10.0995    9.11043   9.38083\n",
       "  9.94987  10.1489    8.83176  10.1489      10.198     8.88819   9.38083\n",
       "  9.0       9.11043  10.6771   10.4403      10.0995   10.4403   10.6771 \n",
       " 10.247    10.4403    8.94427   9.0         10.4881    9.53939   9.16515\n",
       " 10.3441   10.3441    8.24621   8.77496     10.2956    9.0       9.27362\n",
       " 10.3441   10.0499    8.7178    8.88819  …  10.7703    8.88819   9.05539\n",
       " 10.3441   10.247     8.83176   9.43398     10.583     8.66025   9.27362\n",
       " 10.1489   10.3441    8.83176   9.0          9.89949   9.0       8.94427\n",
       "  ⋮                                      ⋱                              \n",
       " 10.5357   10.247    10.3923    9.84886      9.16515  10.3441   10.198  \n",
       " 10.7238   10.5357    8.60233   9.11043      9.79796   9.32738   9.38083\n",
       " 10.198     9.79796   9.11043   8.3666   …  10.3441    9.59166   8.544  \n",
       " 10.3923   10.8628    8.88819   9.38083     10.5357    8.83176   9.21954\n",
       " 10.583    10.4881    8.77496   9.05539     10.7238    8.7178    9.32738\n",
       " 10.3441   10.4403    8.94427   9.84886     10.6771    9.43398   9.27362\n",
       " 10.4403   10.4403    8.60233   8.66025     10.2956    9.21954   8.7178 \n",
       " 10.198    10.583     9.11043   8.12404  …  10.4403    9.05539   8.42615\n",
       " 10.4881   10.0       9.94987   9.89949      8.66025  10.4881   10.6301 \n",
       " 10.7238    9.94987   9.89949   9.94987      0.0      10.5357   10.2956 \n",
       " 10.0      10.2956    9.21954   9.48683     10.5357    0.0       9.0    \n",
       " 10.5357   10.3441    9.38083   9.32738     10.2956    9.0       0.0    "
      ]
     },
     "execution_count": 4,
     "metadata": {},
     "output_type": "execute_result"
    }
   ],
   "source": [
    "function dist(dataset)\n",
    "    data = map(first, dataset.data)\n",
    "    n = length(data)\n",
    "    d = zeros(n, n)\n",
    "    for i=1:n, j=i+1:n\n",
    "        dist = norm(data[i] - data[j])\n",
    "        d[i,j] = dist\n",
    "        d[j,i] = dist\n",
    "    end\n",
    "    d\n",
    "end\n",
    "\n",
    "dist(dataset)"
   ]
  },
  {
   "cell_type": "code",
   "execution_count": 5,
   "metadata": {
    "collapsed": false
   },
   "outputs": [
    {
     "name": "stdout",
     "output_type": "stream",
     "text": [
      "Solver:\n",
      "\n",
      "Cbc.CbcMathProgSolverInterface.CbcMathProgModel\n",
      "\n",
      "Objective value:\n",
      "\n",
      "14.350451132510427\n",
      "\n",
      "Centros:\n",
      "\n",
      "[0.0,1.0,0.0,0.0,0.0,1.0,0.0,0.0,0.0,1.0]\n",
      "\n",
      "Clusters:\n",
      "\n",
      "[0.0 0.0 0.0 0.0 0.0 1.0 0.0 0.0 0.0 0.0\n",
      " 0.0 1.0 0.0 0.0 0.0 0.0 0.0 0.0 0.0 0.0\n",
      " 0.0 1.0 0.0 0.0 0.0 0.0 0.0 0.0 0.0 0.0\n",
      " 0.0 0.0 0.0 0.0 0.0 0.0 0.0 0.0 0.0 1.0\n",
      " 0.0 1.0 0.0 0.0 0.0 0.0 0.0 0.0 0.0 0.0\n",
      " 0.0 0.0 0.0 0.0 0.0 1.0 0.0 0.0 0.0 0.0\n",
      " 0.0 1.0 0.0 0.0 0.0 0.0 0.0 0.0 0.0 0.0\n",
      " 0.0 0.0 0.0 0.0 0.0 0.0 0.0 0.0 0.0 1.0\n",
      " 0.0 0.0 0.0 0.0 0.0 1.0 0.0 0.0 0.0 0.0\n",
      " 0.0 0.0 0.0 0.0 0.0 0.0 0.0 0.0 0.0 1.0]\n",
      "\n",
      "Atribuição de Cluster:\n",
      "\n",
      "[2,1,1,3,1,2,1,3,2,3]\n",
      "\n",
      "Custo reconstruído (verificação):\n",
      "\n",
      "14.350451132510429\n",
      "\n"
     ]
    }
   ],
   "source": [
    "let\n",
    "    _dataset = Clustering.Dataset(size=10, groups=3, features=16, slot=3)\n",
    "    n = _dataset.size\n",
    "    k = _dataset.groups\n",
    "    d = dist(_dataset)\n",
    "    \n",
    "    m = Model()\n",
    "\n",
    "    @defVar(m, 0 <= x[1:n,1:n] <= 1)\n",
    "    @defVar(m, y[1:n], Bin)\n",
    "\n",
    "    # add the constraint that the amount that facility j can serve\n",
    "    # customer x is at most 1 if facility j is opened, and 0 otherwise.\n",
    "    for i=1:n, j=1:n\n",
    "        @addConstraint(m, x[i,j] <= y[j])\n",
    "    end\n",
    "    \n",
    "    # add the constraint that the amount that each customer must\n",
    "    # be served\n",
    "    for i=1:n\n",
    "        @addConstraint(m, sum{x[i,j], j=1:n} == 1)\n",
    "    end\n",
    "    \n",
    "    # add the constraint that at most 3 facilities can be opened.\n",
    "    @addConstraint(m, sum{y[j], j=1:n} <= k)\n",
    "    \n",
    "    # add the objective.\n",
    "    @setObjective(m, Min, sum{d[i,j] * x[i,j], i=1:n, j=1:n})\n",
    "    \n",
    "    status = solve(m)\n",
    "    if status != :Optimal\n",
    "        error(\"Wrong status (not optimal): $status\")\n",
    "    end\n",
    "    \n",
    "    println(\"Solver:\\n\\n\", typeof(getInternalModel(m)), \"\\n\")\n",
    "    \n",
    "    println(\"Objective value:\\n\\n\", getObjectiveValue(m), \"\\n\")\n",
    "    \n",
    "    centers = getValue(y)[:] \n",
    "    println(\"Centros:\\n\\n\", centers, \"\\n\")\n",
    "    \n",
    "    clusters = getValue(x)[:,:]\n",
    "    println(\"Clusters:\\n\\n\", clusters, \"\\n\")\n",
    "    \n",
    "    centersj = zeros(Int, k)\n",
    "    assignments = zeros(Int, n)\n",
    "    _k = 0\n",
    "    for j=1:n\n",
    "        centers[j] == 0.0 && continue\n",
    "        _k += 1\n",
    "        centersj[_k] = j\n",
    "        for i=1:n\n",
    "            clusters[i,j] == 0.0 && continue\n",
    "            assignments[i] = _k\n",
    "        end\n",
    "    end\n",
    "\n",
    "    println(\"Atribuição de Cluster:\\n\\n\", assignments, \"\\n\")\n",
    "    \n",
    "    dt = 0.0\n",
    "    for (kj, j) in enumerate(centersj)\n",
    "        for (i, ki) in enumerate(assignments)\n",
    "            kj != ki && continue\n",
    "            dt += d[i,j]\n",
    "        end\n",
    "    end\n",
    "    println(\"Custo reconstruído (verificação):\\n\\n\", dt, \"\\n\")\n",
    "    \n",
    "    sleep(0.2)\n",
    "end"
   ]
  },
  {
   "cell_type": "code",
   "execution_count": 6,
   "metadata": {
    "collapsed": false
   },
   "outputs": [
    {
     "data": {
      "text/plain": [
       "100-element Array{Int64,1}:\n",
       " 2\n",
       " 2\n",
       " 1\n",
       " 1\n",
       " 3\n",
       " 1\n",
       " 1\n",
       " 2\n",
       " 1\n",
       " 1\n",
       " 1\n",
       " 1\n",
       " 1\n",
       " ⋮\n",
       " 3\n",
       " 1\n",
       " 1\n",
       " 1\n",
       " 1\n",
       " 1\n",
       " 1\n",
       " 1\n",
       " 3\n",
       " 3\n",
       " 1\n",
       " 1"
      ]
     },
     "execution_count": 6,
     "metadata": {},
     "output_type": "execute_result"
    }
   ],
   "source": [
    "function pmedian(dataset, k)\n",
    "    n = dataset.size\n",
    "    k = dataset.groups\n",
    "    d = dist(dataset)\n",
    "    \n",
    "    m = Model()\n",
    "\n",
    "    @defVar(m, 0 <= x[1:n,1:n] <= 1)\n",
    "    @defVar(m, y[1:n], Bin)\n",
    "\n",
    "    # add the constraint that the amount that facility j can serve\n",
    "    # customer x is at most 1 if facility j is opened, and 0 otherwise.\n",
    "    for i=1:n, j=1:n\n",
    "        @addConstraint(m, x[i,j] <= y[j])\n",
    "    end\n",
    "    \n",
    "    # add the constraint that the amount that each customer must\n",
    "    # be served\n",
    "    for i=1:n\n",
    "        @addConstraint(m, sum{x[i,j], j=1:n} == 1)\n",
    "    end\n",
    "    \n",
    "    # add the constraint that at most 3 facilities can be opened.\n",
    "    @addConstraint(m, sum{y[j], j=1:n} <= k)\n",
    "    \n",
    "    # add the objective.\n",
    "    @setObjective(m, Min, sum{d[i,j] * x[i,j], i=1:n, j=1:n})\n",
    "    \n",
    "    status = solve(m)\n",
    "    if status != :Optimal\n",
    "        error(\"Wrong status (not optimal): $status\")\n",
    "    end\n",
    "\n",
    "    centers = getValue(y)[:] \n",
    "    clusters = getValue(x)[:,:]\n",
    "    \n",
    "    assignments = zeros(Int, n)\n",
    "    _k = 0\n",
    "    for j=1:n\n",
    "        centers[j] == 0.0 && continue\n",
    "        _k += 1\n",
    "        for i=1:n\n",
    "            clusters[i,j] == 0.0 && continue\n",
    "            assignments[i] = _k\n",
    "        end\n",
    "    end\n",
    "    assignments\n",
    "end\n",
    "\n",
    "pmedian(dataset, 3)"
   ]
  },
  {
   "cell_type": "code",
   "execution_count": 7,
   "metadata": {
    "collapsed": false
   },
   "outputs": [
    {
     "name": "stdout",
     "output_type": "stream",
     "text": [
      "Matriz de Confusão:\n",
      "\n",
      "[15 0 2\n",
      " 5 30 5\n",
      " 3 6 34]\n",
      "\n",
      "Tamanho: 100\n",
      "Acertos: 79\n",
      "Erros: 21\n",
      "Accuracy: 79.0%\n",
      "\n",
      "Cluster 1\n",
      "\n",
      "Tamanho: 17\n",
      "Accuracy: 90.0%\n",
      "Precision: 65.22%\n",
      "Recall: 88.24%\n",
      "F-score: 0.75\n",
      "\n",
      "Acerto positivo: 15 (88.24%)\n",
      "Acerto negativo: 75 (90.36%)\n",
      "Falso negativo: 2 (9.52%)\n",
      "Falso positivo: 8 (38.1%)\n",
      "\n",
      "Cluster 2\n",
      "\n",
      "Tamanho: 40\n",
      "Accuracy: 84.0%\n",
      "Precision: 83.33%\n",
      "Recall: 75.0%\n",
      "F-score: 0.79\n",
      "\n",
      "Acerto positivo: 30 (75.0%)\n",
      "Acerto negativo: 54 (90.0%)\n",
      "Falso negativo: 10 (47.62%)\n",
      "Falso positivo: 6 (28.57%)\n",
      "\n",
      "Cluster 3\n",
      "\n",
      "Tamanho: 43\n",
      "Accuracy: 84.0%\n",
      "Precision: 82.93%\n",
      "Recall: 79.07%\n",
      "F-score: 0.81\n",
      "\n",
      "Acerto positivo: 34 (79.07%)\n",
      "Acerto negativo: 50 (87.72%)\n",
      "Falso negativo: 9 (42.86%)\n",
      "Falso positivo: 7 (33.33%)\n",
      "\n"
     ]
    }
   ],
   "source": [
    "function pmedian_approx(dataset, k)\n",
    "    assignments = pmedian(dataset, k)\n",
    "    centermap = Clustering.mapping(dataset, assignments, k)\n",
    "    map(c -> centermap[c], assignments)\n",
    "end\n",
    "\n",
    "let\n",
    "    n = 100\n",
    "    k = 3\n",
    "    c = 16\n",
    "    c_y = 3\n",
    "\n",
    "    tiny = Clustering.Dataset(size=n, groups=k, features=c, slot=c_y)\n",
    "\n",
    "    prediction = pmedian_approx(tiny, k)\n",
    "    Clustering.evaluation_summary(tiny, prediction; verbose=true)\n",
    "end"
   ]
  }
 ],
 "metadata": {
  "kernelspec": {
   "display_name": "Julia 0.4.3",
   "language": "julia",
   "name": "julia-0.4"
  },
  "language_info": {
   "file_extension": ".jl",
   "mimetype": "application/julia",
   "name": "julia",
   "version": "0.4.3"
  }
 },
 "nbformat": 4,
 "nbformat_minor": 0
}
