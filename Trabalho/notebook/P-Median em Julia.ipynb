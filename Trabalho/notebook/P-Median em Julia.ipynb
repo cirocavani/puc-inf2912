{
 "cells": [
  {
   "cell_type": "markdown",
   "metadata": {},
   "source": [
    "# Trabalho de Implementação\n",
    "\n",
    "## INF2912 - Otimização Combinatória\n",
    "### Prof. Marcus Vinicius Soledade Poggi de Aragão\n",
    "### 2015-2\n",
    "\n",
    "### Ciro Cavani\n",
    "#### BigData / Globo.com\n",
    "\n",
    "Algoritmos de clusterização."
   ]
  },
  {
   "cell_type": "markdown",
   "metadata": {},
   "source": [
    "## Conteúdo\n",
    "\n",
    "Esse notebook tem o desenvolvimento e avaliação do Programan Inteiro do P-Median (Facility Location Problem).\n",
    "\n",
    "A avaliação do algoritmo é baseada em um mapeamento entre a maioria dos itens que foram atribuídos a um determinado cluster e o correspondente os valores verdadeiros gerados nesse cluster.\n",
    "\n",
    "O P-Median teve resultados muito bons."
   ]
  },
  {
   "cell_type": "markdown",
   "metadata": {},
   "source": [
    "## Dataset"
   ]
  },
  {
   "cell_type": "code",
   "execution_count": 1,
   "metadata": {
    "collapsed": false
   },
   "outputs": [
    {
     "name": "stderr",
     "output_type": "stream",
     "text": [
      "WARNING: redefining constant srcdir\n",
      "WARNING: redefining constant default_datasetdir\n"
     ]
    },
    {
     "data": {
      "text/plain": [
       "Inf2912Clustering"
      ]
     },
     "execution_count": 1,
     "metadata": {},
     "output_type": "execute_result"
    }
   ],
   "source": [
    "include(\"../src/clustering.jl\")\n",
    "import Inf2912Clustering\n",
    "const Clustering = Inf2912Clustering"
   ]
  },
  {
   "cell_type": "code",
   "execution_count": 2,
   "metadata": {
    "collapsed": false
   },
   "outputs": [
    {
     "name": "stdout",
     "output_type": "stream",
     "text": [
      "Clusters: 3\n",
      "Dimension (features): 16\n",
      "Features per Cluster: 3\n",
      "Probability of Activation: 0.8\n",
      "\n",
      "Size: 100\n",
      "Min Cluster size: 20\n",
      "Max Cluster size: 40\n",
      "Cluster 1 size: 29\n",
      "Cluster 2 size: 29\n",
      "Cluster 3 size: 42\n"
     ]
    }
   ],
   "source": [
    "dataset = Clustering.dataset_tiny()\n",
    "Clustering.summary(dataset)\n",
    "sleep(0.2)"
   ]
  },
  {
   "cell_type": "markdown",
   "metadata": {},
   "source": [
    "### ULP - Problema de Localização sem Capacidade\n",
    "\n",
    "Consiste em resolver o *ULP* determinar os objetos representates de cada grupo e classificar cada objeto como sendo do grupo com representante *mais próximo*\n",
    "\n",
    "https://en.wikipedia.org/wiki/K-medians_clustering\n",
    "\n",
    "http://cseweb.ucsd.edu/~dasgupta/291-geom/kmedian.pdf"
   ]
  },
  {
   "cell_type": "markdown",
   "metadata": {},
   "source": [
    "### JuMP\n",
    "\n",
    "http://www.juliaopt.org/\n",
    "\n",
    "http://jump.readthedocs.org/en/stable/\n",
    "\n",
    "Modeling language for Mathematical Programming (linear, mixed-integer, conic, nonlinear)"
   ]
  },
  {
   "cell_type": "code",
   "execution_count": 3,
   "metadata": {
    "collapsed": true
   },
   "outputs": [],
   "source": [
    "if Pkg.installed(\"JuMP\") === nothing\n",
    "    println(\"Installing JuMP...\")\n",
    "    Pkg.add(\"JuMP\")\n",
    "    Pkg.add(\"Cbc\")\n",
    "end"
   ]
  },
  {
   "cell_type": "code",
   "execution_count": 4,
   "metadata": {
    "collapsed": true
   },
   "outputs": [],
   "source": [
    "using JuMP"
   ]
  },
  {
   "cell_type": "code",
   "execution_count": 5,
   "metadata": {
    "collapsed": false
   },
   "outputs": [
    {
     "data": {
      "text/plain": [
       "100x100 Symmetric{Float64,Array{Float64,2}}:\n",
       " 0.0      3.0      2.64575  2.82843  …  1.73205  2.82843  2.64575  3.16228\n",
       " 3.0      0.0      2.82843  3.0         3.16228  2.64575  3.16228  2.64575\n",
       " 2.64575  2.82843  0.0      2.23607     2.44949  2.23607  2.44949  3.0    \n",
       " 2.82843  3.0      2.23607  0.0         2.64575  2.82843  1.73205  2.0    \n",
       " 3.31662  2.44949  2.44949  2.64575     3.16228  2.64575  3.16228  2.64575\n",
       " 2.64575  3.16228  2.44949  2.64575  …  2.44949  2.64575  2.82843  3.0    \n",
       " 2.82843  2.64575  2.64575  2.44949     3.0      2.44949  1.73205  2.82843\n",
       " 1.73205  2.82843  3.16228  3.31662     2.44949  2.64575  3.16228  3.0    \n",
       " 3.0      2.44949  2.0      3.0         2.82843  3.0      2.82843  3.0    \n",
       " 3.16228  3.0      3.31662  2.44949     3.31662  3.16228  2.64575  2.44949\n",
       " 3.0      2.82843  2.82843  2.64575  …  2.44949  2.64575  2.44949  2.64575\n",
       " 2.64575  2.44949  2.44949  3.0         3.16228  2.23607  3.16228  3.0    \n",
       " 3.4641   2.23607  2.64575  2.82843     3.60555  2.82843  3.0      3.16228\n",
       " ⋮                                   ⋱                                    \n",
       " 2.44949  2.23607  2.64575  2.82843     3.0      2.44949  2.64575  2.82843\n",
       " 2.64575  2.82843  2.44949  3.0         2.0      2.64575  3.16228  3.0    \n",
       " 2.64575  3.16228  2.44949  2.23607  …  2.44949  2.23607  2.44949  2.64575\n",
       " 2.44949  2.23607  2.23607  2.82843     3.0      2.82843  3.0      3.16228\n",
       " 2.23607  2.82843  2.44949  2.23607     2.44949  2.64575  2.0      2.64575\n",
       " 3.16228  2.64575  2.23607  2.82843     3.0      3.16228  2.23607  2.44949\n",
       " 3.0      3.16228  2.82843  1.73205     2.82843  3.0      2.0      2.64575\n",
       " 3.31662  2.44949  2.0      3.0      …  2.82843  2.23607  3.16228  2.64575\n",
       " 1.73205  3.16228  2.44949  2.64575     0.0      2.64575  2.82843  3.0    \n",
       " 2.82843  2.64575  2.23607  2.82843     2.64575  0.0      3.0      3.16228\n",
       " 2.64575  3.16228  2.44949  1.73205     2.82843  3.0      0.0      2.23607\n",
       " 3.16228  2.64575  3.0      2.0         3.0      3.16228  2.23607  0.0    "
      ]
     },
     "execution_count": 5,
     "metadata": {},
     "output_type": "execute_result"
    }
   ],
   "source": [
    "function dist(data)\n",
    "    n = length(data)\n",
    "    d = zeros(n, n)\n",
    "    for i=1:n, j=i+1:n\n",
    "        dist = norm(data[i] - data[j])\n",
    "        d[i,j] = dist\n",
    "        d[j,i] = dist\n",
    "    end\n",
    "    Symmetric(d)\n",
    "end\n",
    "\n",
    "dist(dataset.input.data)"
   ]
  },
  {
   "cell_type": "code",
   "execution_count": 6,
   "metadata": {
    "collapsed": false
   },
   "outputs": [
    {
     "name": "stdout",
     "output_type": "stream",
     "text": [
      "Solver:\n",
      "\n",
      "Cbc.CbcMathProgSolverInterface.CbcMathProgModel\n",
      "\n",
      "Objective value:\n",
      "\n",
      "13.586519110010219\n",
      "\n",
      "Centros:\n",
      "\n",
      "[0.0,0.0,0.0,0.0,1.0,0.0,0.0,1.0,1.0,0.0]\n",
      "\n",
      "Clusters:\n",
      "\n",
      "[0.0 0.0 0.0 0.0 1.0 0.0 0.0 0.0 0.0 0.0\n",
      " 0.0 0.0 0.0 0.0 0.0 0.0 0.0 1.0 0.0 0.0\n",
      " 0.0 0.0 0.0 0.0 0.0 0.0 0.0 0.0 1.0 0.0\n",
      " 0.0 0.0 0.0 0.0 0.0 0.0 0.0 1.0 0.0 0.0\n",
      " 0.0 0.0 0.0 0.0 1.0 0.0 0.0 0.0 0.0 0.0\n",
      " 0.0 0.0 0.0 0.0 0.0 0.0 0.0 1.0 0.0 0.0\n",
      " 0.0 0.0 0.0 0.0 1.0 0.0 0.0 0.0 0.0 0.0\n",
      " 0.0 0.0 0.0 0.0 0.0 0.0 0.0 1.0 0.0 0.0\n",
      " 0.0 0.0 0.0 0.0 0.0 0.0 0.0 0.0 1.0 0.0\n",
      " 0.0 0.0 0.0 0.0 0.0 0.0 0.0 1.0 0.0 0.0]\n",
      "\n",
      "Atribuição de Cluster:\n",
      "\n",
      "[1,2,3,2,1,2,1,2,3,2]\n",
      "\n",
      "Custo reconstruído (verificação):\n",
      "\n",
      "13.586519110010219\n",
      "\n"
     ]
    }
   ],
   "source": [
    "let\n",
    "    _dataset = Clustering.Dataset(size=10, clusters=3, dimension=16, slot=3)\n",
    "    n = _dataset.size\n",
    "    k = _dataset.clusters\n",
    "    d = dist(_dataset.input.data)\n",
    "    \n",
    "    m = Model()\n",
    "\n",
    "    @defVar(m, 0 <= x[1:n,1:n] <= 1)\n",
    "    @defVar(m, y[1:n], Bin)\n",
    "\n",
    "    # add the constraint that the amount that facility j can serve\n",
    "    # customer x is at most 1 if facility j is opened, and 0 otherwise.\n",
    "    for i=1:n, j=1:n\n",
    "        @addConstraint(m, x[i,j] <= y[j])\n",
    "    end\n",
    "    \n",
    "    # add the constraint that the amount that each customer must\n",
    "    # be served\n",
    "    for i=1:n\n",
    "        @addConstraint(m, sum{x[i,j], j=1:n} == 1)\n",
    "    end\n",
    "    \n",
    "    # add the constraint that at most 3 facilities can be opened.\n",
    "    @addConstraint(m, sum{y[j], j=1:n} <= k)\n",
    "    \n",
    "    # add the objective.\n",
    "    @setObjective(m, Min, sum{d[i,j] * x[i,j], i=1:n, j=1:n})\n",
    "    \n",
    "    status = solve(m)\n",
    "    if status != :Optimal\n",
    "        error(\"Wrong status (not optimal): $status\")\n",
    "    end\n",
    "    \n",
    "    println(\"Solver:\\n\\n\", typeof(getInternalModel(m)), \"\\n\")\n",
    "    \n",
    "    println(\"Objective value:\\n\\n\", getObjectiveValue(m), \"\\n\")\n",
    "    \n",
    "    centers = getValue(y)[:] \n",
    "    println(\"Centros:\\n\\n\", centers, \"\\n\")\n",
    "    \n",
    "    clusters = getValue(x)[:,:]\n",
    "    println(\"Clusters:\\n\\n\", clusters, \"\\n\")\n",
    "    \n",
    "    centersj = zeros(Int, k)\n",
    "    assignments = zeros(Int, n)\n",
    "    _k = 0\n",
    "    for j=1:n\n",
    "        centers[j] == 0.0 && continue\n",
    "        _k += 1\n",
    "        centersj[_k] = j\n",
    "        for i=1:n\n",
    "            clusters[i,j] == 0.0 && continue\n",
    "            assignments[i] = _k\n",
    "        end\n",
    "    end\n",
    "\n",
    "    println(\"Atribuição de Cluster:\\n\\n\", assignments, \"\\n\")\n",
    "    \n",
    "    dt = 0.0\n",
    "    for (kj, j) in enumerate(centersj)\n",
    "        for (i, ki) in enumerate(assignments)\n",
    "            kj != ki && continue\n",
    "            dt += d[i,j]\n",
    "        end\n",
    "    end\n",
    "    println(\"Custo reconstruído (verificação):\\n\\n\", dt, \"\\n\")\n",
    "    \n",
    "    sleep(0.2)\n",
    "end"
   ]
  },
  {
   "cell_type": "code",
   "execution_count": 7,
   "metadata": {
    "collapsed": false
   },
   "outputs": [
    {
     "data": {
      "text/plain": [
       "100-element Array{Int64,1}:\n",
       " 3\n",
       " 2\n",
       " 2\n",
       " 1\n",
       " 2\n",
       " 2\n",
       " 1\n",
       " 3\n",
       " 2\n",
       " 1\n",
       " 1\n",
       " 2\n",
       " 2\n",
       " ⋮\n",
       " 1\n",
       " 3\n",
       " 1\n",
       " 2\n",
       " 3\n",
       " 1\n",
       " 1\n",
       " 2\n",
       " 3\n",
       " 3\n",
       " 1\n",
       " 1"
      ]
     },
     "execution_count": 7,
     "metadata": {},
     "output_type": "execute_result"
    }
   ],
   "source": [
    "import Clustering: Input, Dataset\n",
    "\n",
    "\"Algoritmo de clusterização P-Median (Programan Inteiro, Facility Location Problem).\"\n",
    "function pmedian(input::Input, k::Int)\n",
    "    n = input.size\n",
    "    d = dist(input.data)\n",
    "    \n",
    "    m = Model()\n",
    "\n",
    "    @defVar(m, 0 <= x[1:n,1:n] <= 1)\n",
    "    @defVar(m, y[1:n], Bin)\n",
    "\n",
    "    # add the constraint that the amount that facility j can serve\n",
    "    # customer x is at most 1 if facility j is opened, and 0 otherwise.\n",
    "    for i=1:n, j=1:n\n",
    "        @addConstraint(m, x[i,j] <= y[j])\n",
    "    end\n",
    "    \n",
    "    # add the constraint that the amount that each customer must\n",
    "    # be served\n",
    "    for i=1:n\n",
    "        @addConstraint(m, sum{x[i,j], j=1:n} == 1)\n",
    "    end\n",
    "    \n",
    "    # add the constraint that at most 3 facilities can be opened.\n",
    "    @addConstraint(m, sum{y[j], j=1:n} <= k)\n",
    "    \n",
    "    # add the objective.\n",
    "    @setObjective(m, Min, sum{d[i,j] * x[i,j], i=1:n, j=1:n})\n",
    "    \n",
    "    status = solve(m)\n",
    "    if status != :Optimal\n",
    "        error(\"Wrong status (not optimal): $status\")\n",
    "    end\n",
    "\n",
    "    centers = getValue(y)[:] \n",
    "    clusters = getValue(x)[:,:]\n",
    "    \n",
    "    assignments = zeros(Int, n)\n",
    "    _k = 0\n",
    "    for j=1:n\n",
    "        centers[j] == 0.0 && continue\n",
    "        _k += 1\n",
    "        for i=1:n\n",
    "            clusters[i,j] == 0.0 && continue\n",
    "            assignments[i] = _k\n",
    "        end\n",
    "    end\n",
    "    assignments\n",
    "end\n",
    "\n",
    "pmedian(dataset::Dataset, k::Int) = pmedian(dataset.input, k)\n",
    "\n",
    "pmedian(dataset, 3)"
   ]
  },
  {
   "cell_type": "code",
   "execution_count": 8,
   "metadata": {
    "collapsed": false,
    "scrolled": false
   },
   "outputs": [
    {
     "name": "stdout",
     "output_type": "stream",
     "text": [
      "  1.386510 seconds (224.03 k allocations: 15.618 MB, 0.76% gc time)\n",
      "Confusion Matrix:\n",
      "\n",
      "[27 1 1\n",
      " 2 24 3\n",
      " 2 1 39]\n",
      "\n",
      "Size: 100\n",
      "Correct: 90\n",
      "Mistakes: 10\n",
      "Accuracy: 90.0%\n",
      "\n",
      "Cluster 1\n",
      "\n",
      "Size: 29\n",
      "Accuracy: 94.0%\n",
      "Precision: 87.1%\n",
      "Recall: 93.1%\n",
      "F-score: 0.9\n",
      "\n",
      "True Positive: 27 (93.1%)\n",
      "True Negative: 67 (94.37%)\n",
      "False Negative: 2 (20.0%)\n",
      "False Positive: 4 (40.0%)\n",
      "\n",
      "Cluster 2\n",
      "\n",
      "Size: 29\n",
      "Accuracy: 93.0%\n",
      "Precision: 92.31%\n",
      "Recall: 82.76%\n",
      "F-score: 0.87\n",
      "\n",
      "True Positive: 24 (82.76%)\n",
      "True Negative: 69 (97.18%)\n",
      "False Negative: 5 (50.0%)\n",
      "False Positive: 2 (20.0%)\n",
      "\n",
      "Cluster 3\n",
      "\n",
      "Size: 42\n",
      "Accuracy: 93.0%\n",
      "Precision: 90.7%\n",
      "Recall: 92.86%\n",
      "F-score: 0.92\n",
      "\n",
      "True Positive: 39 (92.86%)\n",
      "True Negative: 54 (93.1%)\n",
      "False Negative: 3 (30.0%)\n",
      "False Positive: 4 (40.0%)\n",
      "\n"
     ]
    }
   ],
   "source": [
    "import Clustering.mapping\n",
    "\n",
    "\"Algoritmo de clusterização P-Median (Programan Inteiro, Facility Location Problem) \\\n",
    "aproximado para os grupos pré-definidos do dataset.\"\n",
    "function pmedian_approx(dataset::Dataset, k::Int)\n",
    "    assignments = pmedian(dataset, k)\n",
    "    centermap = mapping(dataset, assignments, k)\n",
    "    map(c -> centermap[c], assignments)\n",
    "end\n",
    "\n",
    "let\n",
    "    k = dataset.clusters\n",
    "    @time prediction = pmedian_approx(dataset, k)\n",
    "    Clustering.evaluation_summary(dataset, prediction; verbose=true)\n",
    "    sleep(0.2)\n",
    "end"
   ]
  },
  {
   "cell_type": "code",
   "execution_count": 9,
   "metadata": {
    "collapsed": true
   },
   "outputs": [],
   "source": [
    "# Timeout\n",
    "# Clustering.test_dataset(\"small\", pmedian_approx)\n",
    "# sleep(0.2)"
   ]
  },
  {
   "cell_type": "code",
   "execution_count": 10,
   "metadata": {
    "collapsed": true
   },
   "outputs": [],
   "source": [
    "# Timeout\n",
    "# Clustering.test_dataset(\"large\", pmedian_approx)\n",
    "# sleep(0.2)"
   ]
  }
 ],
 "metadata": {
  "kernelspec": {
   "display_name": "Julia 0.4.3",
   "language": "julia",
   "name": "julia-0.4"
  },
  "language_info": {
   "file_extension": ".jl",
   "mimetype": "application/julia",
   "name": "julia",
   "version": "0.4.3"
  }
 },
 "nbformat": 4,
 "nbformat_minor": 0
}
