{
 "cells": [
  {
   "cell_type": "markdown",
   "metadata": {
    "collapsed": false
   },
   "source": [
    "Problema:\n",
    "\n",
    "Propor um classificador que identifique o grupo de cada objeto.\n",
    "\n",
    "Dados:\n",
    "\n",
    "* $g$: número de grupos diferentes\n",
    "* $n$: número de objetos (não necessariamente diferentes)\n",
    "* $n_{min}$: número mínimo de objetos em um grupo\n",
    "* $n_{max}$: número máximo de objetos em um grupo\n",
    "\n",
    "Para cada Objeto:\n",
    "\n",
    "* $c$: número de características binárias\n",
    "* $c_y$: número de características de um determinado grupo\n",
    "* $c_n$: número de características dos demais grupos ($c_n = c_y (g - 1)$)\n",
    "* $p$: probabilidade de ativação das características de um grupo ($p > 0.5$)\n",
    "* $1 - p$: probabilidade de ativação das características dos demais grupos\n",
    "* $p' = 0.5$: probabilidade de ativação das características que não são de qualquer grupo\n",
    "* (as características de cada grupo não tem interseção)"
   ]
  },
  {
   "cell_type": "markdown",
   "metadata": {},
   "source": [
    "## Gerador de Instância"
   ]
  },
  {
   "cell_type": "code",
   "execution_count": 2,
   "metadata": {
    "collapsed": false
   },
   "outputs": [
    {
     "data": {
      "text/plain": [
       "oc152_t_instance_generator (generic function with 1 method)"
      ]
     },
     "execution_count": 2,
     "metadata": {},
     "output_type": "execute_result"
    }
   ],
   "source": [
    "\"gera a distribuição de objetos para os grupos\"\n",
    "function group_size(g, n, n_min, n_max)\n",
    "    num_g = Array(Int, g)\n",
    "    sum = 0\n",
    "    for i=1:g\n",
    "        num_g[i] = rand(n_min:n_max)\n",
    "        sum += num_g[i]\n",
    "    end\n",
    "    correct = n / sum\n",
    "    sum = 0\n",
    "    for i=1:g\n",
    "        num_g[i] = round(Int, num_g[i] * correct)\n",
    "        sum += num_g[i]\n",
    "    end\n",
    "    if sum < n\n",
    "        num_g[g] += 1\n",
    "    end\n",
    "    num_g\n",
    "end\n",
    "\n",
    "\"máscara de características para cada grupo sem interseção\"\n",
    "function group_mask(g, c, c_y)\n",
    "    char_g = fill(-1, c)\n",
    "    index = 1\n",
    "    for i=1:g, j=1:c_y\n",
    "        char_g[index] = i\n",
    "        index += 1\n",
    "    end\n",
    "    char_g\n",
    "end\n",
    "\n",
    "\"\"\"gera objetos para grupos seguindo a distribuição num_g,\n",
    "a máscara char_g e a probabilidade p de ativação\"\"\"\n",
    "function generate_data(num_g, char_g, p)\n",
    "    data = Array(Tuple{Array{Int,1},Int}, 0)\n",
    "    for i=1:length(num_g),j=1:num_g[i]\n",
    "        vect = zeros(Int, length(char_g))\n",
    "        for k=1:length(vect)\n",
    "            if char_g[k] == i\n",
    "                vect[k] = rand() < p ? 1 : 0\n",
    "            elseif char_g[k] != -1\n",
    "                vect[k] = rand() < 1 - p ? 1 : 0\n",
    "            else\n",
    "                vect[k] = rand() < 0.5 ? 1 : 0\n",
    "            end\n",
    "        end\n",
    "        push!(data, (vect, i))\n",
    "    end\n",
    "    data\n",
    "end\n",
    "\n",
    "\"gerador de instâncias para o problema de clusterização\"\n",
    "function oc152_t_instance_generator(n, c, c_y, p, g, n_min, n_max)\n",
    "    if c < g * c_y\n",
    "        println(\"c_y too big\")\n",
    "        return nothing\n",
    "    end\n",
    "    \n",
    "    num_g = group_size(g, n, n_min, n_max)\n",
    "    char_g = group_mask(g, c, c_y)\n",
    "    data = generate_data(num_g, char_g, p)\n",
    "    data\n",
    "end"
   ]
  },
  {
   "cell_type": "code",
   "execution_count": 3,
   "metadata": {
    "collapsed": false
   },
   "outputs": [
    {
     "data": {
      "text/plain": [
       "data (generic function with 1 method)"
      ]
     },
     "execution_count": 3,
     "metadata": {},
     "output_type": "execute_result"
    }
   ],
   "source": [
    "function data(;n = 20, n_min = 0, n_max = 0, g = 5, c = 16, c_y = 3, p = 0.8)\n",
    "    if n < 10\n",
    "        println(\"minimum 10\")\n",
    "        return nothing\n",
    "    end\n",
    "    if g > n\n",
    "        println(\"too many groups\")\n",
    "        return nothing\n",
    "    end\n",
    "    if c < g * c_y\n",
    "        println(\"c_y too big\")\n",
    "        return nothing\n",
    "    end\n",
    "    \n",
    "    if n_max == 0\n",
    "        n_max = 2 * round(Int, n / g)\n",
    "    end\n",
    "    if n_min == 0\n",
    "        n_min = round(Int, n_max / 10)\n",
    "    end\n",
    "    if n_max * g < n\n",
    "        println(\"n_max too tight\")\n",
    "        return nothing\n",
    "    end\n",
    "    \n",
    "    data = oc152_t_instance_generator(n, c, c_y, p, g, n_min, n_max)\n",
    "    shuffle!(data)\n",
    "end"
   ]
  },
  {
   "cell_type": "markdown",
   "metadata": {},
   "source": [
    "### ULP - Problema de Localização sem Capacidade\n",
    "\n",
    "Consiste em resolver o *ULP* determinar os objetos representates de cada grupo e classificar cada objeto como sendo do grupo com representante *mais próximo*"
   ]
  }
 ],
 "metadata": {
  "kernelspec": {
   "display_name": "Julia 0.4.2",
   "language": "julia",
   "name": "julia-0.4"
  },
  "language_info": {
   "file_extension": ".jl",
   "mimetype": "application/julia",
   "name": "julia",
   "version": "0.4.2"
  }
 },
 "nbformat": 4,
 "nbformat_minor": 0
}
