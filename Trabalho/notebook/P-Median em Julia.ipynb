{
 "cells": [
  {
   "cell_type": "markdown",
   "metadata": {},
   "source": [
    "# Trabalho de Implementação\n",
    "\n",
    "## INF2912 - Otimização Combinatória\n",
    "### Prof. Marcus Vinicius Soledade Poggi de Aragão\n",
    "### 2015-2\n",
    "\n",
    "### Ciro Cavani\n",
    "#### BigData / Globo.com\n",
    "\n",
    "Algoritmos de clusterização."
   ]
  },
  {
   "cell_type": "markdown",
   "metadata": {},
   "source": [
    "## Conteúdo\n",
    "\n",
    "Esse notebook tem o desenvolvimento e avaliação do Programan Inteiro do P-Median (Facility Location Problem).\n",
    "\n",
    "A avaliação do algoritmo é baseada em um mapeamento entre a maioria dos itens que foram atribuídos a um determinado cluster e o correspondente os valores verdadeiros gerados nesse cluster.\n",
    "\n",
    "O P-Median teve resultados muito bons."
   ]
  },
  {
   "cell_type": "markdown",
   "metadata": {},
   "source": [
    "## Dataset"
   ]
  },
  {
   "cell_type": "code",
   "execution_count": 1,
   "metadata": {
    "collapsed": false
   },
   "outputs": [
    {
     "data": {
      "text/plain": [
       "Inf2912Clustering"
      ]
     },
     "execution_count": 1,
     "metadata": {},
     "output_type": "execute_result"
    }
   ],
   "source": [
    "include(\"../src/clustering.jl\")\n",
    "import Inf2912Clustering\n",
    "const Clustering = Inf2912Clustering"
   ]
  },
  {
   "cell_type": "code",
   "execution_count": 2,
   "metadata": {
    "collapsed": false
   },
   "outputs": [
    {
     "name": "stdout",
     "output_type": "stream",
     "text": [
      "Number of Groups: 3\n",
      "Number of Features: 16\n",
      "Number of Features (group): 3\n",
      "Probability of Activation: 0.8\n",
      "Number of Objects (total): 100\n",
      "Number of Objects per Group (min): 20\n",
      "Number of Objects per Group (max): 40\n",
      "Number of Objects in 1: 37\n",
      "Number of Objects in 2: 41\n",
      "Number of Objects in 3: 22\n"
     ]
    }
   ],
   "source": [
    "dataset = Clustering.dataset_tiny()\n",
    "Clustering.summary(dataset)\n",
    "sleep(0.2)"
   ]
  },
  {
   "cell_type": "markdown",
   "metadata": {},
   "source": [
    "### ULP - Problema de Localização sem Capacidade\n",
    "\n",
    "Consiste em resolver o *ULP* determinar os objetos representates de cada grupo e classificar cada objeto como sendo do grupo com representante *mais próximo*\n",
    "\n",
    "https://en.wikipedia.org/wiki/K-medians_clustering\n",
    "\n",
    "http://cseweb.ucsd.edu/~dasgupta/291-geom/kmedian.pdf"
   ]
  },
  {
   "cell_type": "markdown",
   "metadata": {},
   "source": [
    "### JuMP\n",
    "\n",
    "http://www.juliaopt.org/\n",
    "\n",
    "http://jump.readthedocs.org/en/stable/\n",
    "\n",
    "Modeling language for Mathematical Programming (linear, mixed-integer, conic, nonlinear)"
   ]
  },
  {
   "cell_type": "code",
   "execution_count": 3,
   "metadata": {
    "collapsed": true
   },
   "outputs": [],
   "source": [
    "if Pkg.installed(\"JuMP\") === nothing\n",
    "    println(\"Installing JuMP...\")\n",
    "    Pkg.add(\"JuMP\")\n",
    "    Pkg.add(\"Cbc\")\n",
    "end"
   ]
  },
  {
   "cell_type": "code",
   "execution_count": 4,
   "metadata": {
    "collapsed": true
   },
   "outputs": [],
   "source": [
    "using JuMP"
   ]
  },
  {
   "cell_type": "code",
   "execution_count": 5,
   "metadata": {
    "collapsed": false
   },
   "outputs": [
    {
     "data": {
      "text/plain": [
       "100x100 Array{Float64,2}:\n",
       " 0.0      2.82843  2.64575  2.82843  …  1.73205  2.82843  3.16228  2.82843\n",
       " 2.82843  0.0      2.64575  2.0         2.64575  2.82843  2.82843  2.82843\n",
       " 2.64575  2.64575  0.0      1.73205     2.44949  2.64575  3.0      3.0    \n",
       " 2.82843  2.0      1.73205  0.0         2.64575  2.82843  2.82843  2.82843\n",
       " 3.16228  2.44949  2.64575  2.44949     3.31662  2.82843  2.0      3.74166\n",
       " 2.23607  2.23607  2.44949  2.23607  …  2.44949  3.0      3.0      3.0    \n",
       " 2.23607  3.0      2.0      2.23607     2.0      2.64575  3.0      3.31662\n",
       " 3.31662  2.64575  2.44949  2.23607     3.16228  3.0      3.0      2.64575\n",
       " 2.23607  2.23607  2.44949  2.23607     2.44949  2.64575  3.31662  3.0    \n",
       " 3.0      3.31662  3.16228  3.60555     2.82843  3.0      2.23607  3.31662\n",
       " 2.44949  2.44949  3.0      2.82843  …  2.64575  3.4641   3.16228  3.16228\n",
       " 3.0      2.64575  2.82843  3.0         3.16228  2.23607  3.31662  2.64575\n",
       " 2.64575  2.23607  2.0      2.23607     2.44949  3.0      3.0      3.0    \n",
       " ⋮                                   ⋱                                    \n",
       " 2.82843  2.44949  3.0      2.44949     2.64575  2.0      2.82843  2.0    \n",
       " 3.31662  3.31662  2.82843  3.0         3.16228  2.64575  2.64575  3.0    \n",
       " 2.64575  3.0      2.44949  3.0      …  2.82843  3.0      3.31662  2.64575\n",
       " 3.0      2.64575  3.16228  2.64575     2.82843  2.23607  2.64575  2.23607\n",
       " 3.31662  3.31662  2.82843  2.64575     3.16228  3.31662  2.23607  2.64575\n",
       " 3.16228  2.44949  3.0      2.44949     3.0      2.44949  2.0      2.44949\n",
       " 2.44949  2.44949  3.0      2.44949     2.23607  2.44949  3.16228  2.0    \n",
       " 2.44949  2.44949  3.0      3.16228  …  2.23607  3.16228  3.16228  2.44949\n",
       " 1.73205  2.64575  2.44949  2.64575     0.0      2.64575  3.0      2.64575\n",
       " 2.82843  2.82843  2.64575  2.82843     2.64575  0.0      2.82843  2.82843\n",
       " 3.16228  2.82843  3.0      2.82843     3.0      2.82843  0.0      3.16228\n",
       " 2.82843  2.82843  3.0      2.82843     2.64575  2.82843  3.16228  0.0    "
      ]
     },
     "execution_count": 5,
     "metadata": {},
     "output_type": "execute_result"
    }
   ],
   "source": [
    "function dist(dataset)\n",
    "    data = map(first, dataset.data)\n",
    "    n = length(data)\n",
    "    d = zeros(n, n)\n",
    "    for i=1:n, j=i+1:n\n",
    "        dist = norm(data[i] - data[j])\n",
    "        d[i,j] = dist\n",
    "        d[j,i] = dist\n",
    "    end\n",
    "    d\n",
    "end\n",
    "\n",
    "dist(dataset)"
   ]
  },
  {
   "cell_type": "code",
   "execution_count": 6,
   "metadata": {
    "collapsed": false
   },
   "outputs": [
    {
     "name": "stdout",
     "output_type": "stream",
     "text": [
      "Solver:\n",
      "\n",
      "Cbc.CbcMathProgSolverInterface.CbcMathProgModel\n",
      "\n",
      "Objective value:\n",
      "\n",
      "15.573949718466846\n",
      "\n",
      "Centros:\n",
      "\n",
      "[1.0,0.0,1.0,0.0,0.0,0.0,0.0,0.0,0.0,1.0]\n",
      "\n",
      "Clusters:\n",
      "\n",
      "[1.0 0.0 0.0 0.0 0.0 0.0 0.0 0.0 0.0 0.0\n",
      " 0.0 0.0 0.0 0.0 0.0 0.0 0.0 0.0 0.0 1.0\n",
      " 0.0 0.0 1.0 0.0 0.0 0.0 0.0 0.0 0.0 0.0\n",
      " 1.0 0.0 0.0 0.0 0.0 0.0 0.0 0.0 0.0 0.0\n",
      " 1.0 0.0 0.0 0.0 0.0 0.0 0.0 0.0 0.0 0.0\n",
      " 0.0 0.0 1.0 0.0 0.0 0.0 0.0 0.0 0.0 0.0\n",
      " 1.0 0.0 0.0 0.0 0.0 0.0 0.0 0.0 0.0 0.0\n",
      " 0.0 0.0 1.0 0.0 0.0 0.0 0.0 0.0 0.0 0.0\n",
      " 1.0 0.0 0.0 0.0 0.0 0.0 0.0 0.0 0.0 0.0\n",
      " 0.0 0.0 0.0 0.0 0.0 0.0 0.0 0.0 0.0 1.0]\n",
      "\n",
      "Atribuição de Cluster:\n",
      "\n",
      "[1,3,2,1,1,2,1,2,1,3]\n",
      "\n",
      "Custo reconstruído (verificação):\n",
      "\n",
      "15.573949718466844\n",
      "\n"
     ]
    }
   ],
   "source": [
    "let\n",
    "    _dataset = Clustering.Dataset(size=10, groups=3, features=16, slot=3)\n",
    "    n = _dataset.size\n",
    "    k = _dataset.groups\n",
    "    d = dist(_dataset)\n",
    "    \n",
    "    m = Model()\n",
    "\n",
    "    @defVar(m, 0 <= x[1:n,1:n] <= 1)\n",
    "    @defVar(m, y[1:n], Bin)\n",
    "\n",
    "    # add the constraint that the amount that facility j can serve\n",
    "    # customer x is at most 1 if facility j is opened, and 0 otherwise.\n",
    "    for i=1:n, j=1:n\n",
    "        @addConstraint(m, x[i,j] <= y[j])\n",
    "    end\n",
    "    \n",
    "    # add the constraint that the amount that each customer must\n",
    "    # be served\n",
    "    for i=1:n\n",
    "        @addConstraint(m, sum{x[i,j], j=1:n} == 1)\n",
    "    end\n",
    "    \n",
    "    # add the constraint that at most 3 facilities can be opened.\n",
    "    @addConstraint(m, sum{y[j], j=1:n} <= k)\n",
    "    \n",
    "    # add the objective.\n",
    "    @setObjective(m, Min, sum{d[i,j] * x[i,j], i=1:n, j=1:n})\n",
    "    \n",
    "    status = solve(m)\n",
    "    if status != :Optimal\n",
    "        error(\"Wrong status (not optimal): $status\")\n",
    "    end\n",
    "    \n",
    "    println(\"Solver:\\n\\n\", typeof(getInternalModel(m)), \"\\n\")\n",
    "    \n",
    "    println(\"Objective value:\\n\\n\", getObjectiveValue(m), \"\\n\")\n",
    "    \n",
    "    centers = getValue(y)[:] \n",
    "    println(\"Centros:\\n\\n\", centers, \"\\n\")\n",
    "    \n",
    "    clusters = getValue(x)[:,:]\n",
    "    println(\"Clusters:\\n\\n\", clusters, \"\\n\")\n",
    "    \n",
    "    centersj = zeros(Int, k)\n",
    "    assignments = zeros(Int, n)\n",
    "    _k = 0\n",
    "    for j=1:n\n",
    "        centers[j] == 0.0 && continue\n",
    "        _k += 1\n",
    "        centersj[_k] = j\n",
    "        for i=1:n\n",
    "            clusters[i,j] == 0.0 && continue\n",
    "            assignments[i] = _k\n",
    "        end\n",
    "    end\n",
    "\n",
    "    println(\"Atribuição de Cluster:\\n\\n\", assignments, \"\\n\")\n",
    "    \n",
    "    dt = 0.0\n",
    "    for (kj, j) in enumerate(centersj)\n",
    "        for (i, ki) in enumerate(assignments)\n",
    "            kj != ki && continue\n",
    "            dt += d[i,j]\n",
    "        end\n",
    "    end\n",
    "    println(\"Custo reconstruído (verificação):\\n\\n\", dt, \"\\n\")\n",
    "    \n",
    "    sleep(0.2)\n",
    "end"
   ]
  },
  {
   "cell_type": "code",
   "execution_count": 7,
   "metadata": {
    "collapsed": false
   },
   "outputs": [
    {
     "data": {
      "text/plain": [
       "100-element Array{Int64,1}:\n",
       " 2\n",
       " 3\n",
       " 2\n",
       " 2\n",
       " 1\n",
       " 3\n",
       " 2\n",
       " 3\n",
       " 2\n",
       " 1\n",
       " 1\n",
       " 3\n",
       " 2\n",
       " ⋮\n",
       " 3\n",
       " 1\n",
       " 1\n",
       " 3\n",
       " 1\n",
       " 3\n",
       " 3\n",
       " 2\n",
       " 2\n",
       " 3\n",
       " 1\n",
       " 3"
      ]
     },
     "execution_count": 7,
     "metadata": {},
     "output_type": "execute_result"
    }
   ],
   "source": [
    "\"Algoritmo de clusterização P-Median (Programan Inteiro, Facility Location Problem).\"\n",
    "function pmedian(dataset, k)\n",
    "    n = dataset.size\n",
    "    k = dataset.groups\n",
    "    d = dist(dataset)\n",
    "    \n",
    "    m = Model()\n",
    "\n",
    "    @defVar(m, 0 <= x[1:n,1:n] <= 1)\n",
    "    @defVar(m, y[1:n], Bin)\n",
    "\n",
    "    # add the constraint that the amount that facility j can serve\n",
    "    # customer x is at most 1 if facility j is opened, and 0 otherwise.\n",
    "    for i=1:n, j=1:n\n",
    "        @addConstraint(m, x[i,j] <= y[j])\n",
    "    end\n",
    "    \n",
    "    # add the constraint that the amount that each customer must\n",
    "    # be served\n",
    "    for i=1:n\n",
    "        @addConstraint(m, sum{x[i,j], j=1:n} == 1)\n",
    "    end\n",
    "    \n",
    "    # add the constraint that at most 3 facilities can be opened.\n",
    "    @addConstraint(m, sum{y[j], j=1:n} <= k)\n",
    "    \n",
    "    # add the objective.\n",
    "    @setObjective(m, Min, sum{d[i,j] * x[i,j], i=1:n, j=1:n})\n",
    "    \n",
    "    status = solve(m)\n",
    "    if status != :Optimal\n",
    "        error(\"Wrong status (not optimal): $status\")\n",
    "    end\n",
    "\n",
    "    centers = getValue(y)[:] \n",
    "    clusters = getValue(x)[:,:]\n",
    "    \n",
    "    assignments = zeros(Int, n)\n",
    "    _k = 0\n",
    "    for j=1:n\n",
    "        centers[j] == 0.0 && continue\n",
    "        _k += 1\n",
    "        for i=1:n\n",
    "            clusters[i,j] == 0.0 && continue\n",
    "            assignments[i] = _k\n",
    "        end\n",
    "    end\n",
    "    assignments\n",
    "end\n",
    "\n",
    "pmedian(dataset, 3)"
   ]
  },
  {
   "cell_type": "code",
   "execution_count": 8,
   "metadata": {
    "collapsed": false
   },
   "outputs": [
    {
     "name": "stdout",
     "output_type": "stream",
     "text": [
      "Matriz de Confusão:\n",
      "\n",
      "[32 2 3\n",
      " 1 37 3\n",
      " 1 1 20]\n",
      "\n",
      "Tamanho: 100\n",
      "Acertos: 89\n",
      "Erros: 11\n",
      "Accuracy: 89.0%\n",
      "\n",
      "Cluster 1\n",
      "\n",
      "Tamanho: 37\n",
      "Accuracy: 93.0%\n",
      "Precision: 94.12%\n",
      "Recall: 86.49%\n",
      "F-score: 0.9\n",
      "\n",
      "Acerto positivo: 32 (86.49%)\n",
      "Acerto negativo: 61 (96.83%)\n",
      "Falso negativo: 5 (45.45%)\n",
      "Falso positivo: 2 (18.18%)\n",
      "\n",
      "Cluster 2\n",
      "\n",
      "Tamanho: 41\n",
      "Accuracy: 93.0%\n",
      "Precision: 92.5%\n",
      "Recall: 90.24%\n",
      "F-score: 0.91\n",
      "\n",
      "Acerto positivo: 37 (90.24%)\n",
      "Acerto negativo: 56 (94.92%)\n",
      "Falso negativo: 4 (36.36%)\n",
      "Falso positivo: 3 (27.27%)\n",
      "\n",
      "Cluster 3\n",
      "\n",
      "Tamanho: 22\n",
      "Accuracy: 92.0%\n",
      "Precision: 76.92%\n",
      "Recall: 90.91%\n",
      "F-score: 0.83\n",
      "\n",
      "Acerto positivo: 20 (90.91%)\n",
      "Acerto negativo: 72 (92.31%)\n",
      "Falso negativo: 2 (18.18%)\n",
      "Falso positivo: 6 (54.55%)\n",
      "\n"
     ]
    }
   ],
   "source": [
    "import Clustering.mapping\n",
    "\n",
    "\"Algoritmo de clusterização P-Median (Programan Inteiro, Facility Location Problem) \\\n",
    "aproximado para os grupos pré-definidos do dataset.\"\n",
    "function pmedian_approx(dataset, k)\n",
    "    assignments = pmedian(dataset, k)\n",
    "    centermap = mapping(dataset, assignments, k)\n",
    "    map(c -> centermap[c], assignments)\n",
    "end\n",
    "\n",
    "let\n",
    "    k = dataset.groups\n",
    "    prediction = pmedian_approx(dataset, k)\n",
    "    Clustering.evaluation_summary(dataset, prediction; verbose=true)\n",
    "    sleep(0.2)\n",
    "end"
   ]
  },
  {
   "cell_type": "code",
   "execution_count": 9,
   "metadata": {
    "collapsed": true
   },
   "outputs": [],
   "source": [
    "# Timeout\n",
    "# Clustering.test_dataset(\"small\", pmedian_approx)\n",
    "# sleep(0.2)"
   ]
  },
  {
   "cell_type": "code",
   "execution_count": 10,
   "metadata": {
    "collapsed": true
   },
   "outputs": [],
   "source": [
    "# Timeout\n",
    "# Clustering.test_dataset(\"large\", pmedian_approx)\n",
    "# sleep(0.2)"
   ]
  }
 ],
 "metadata": {
  "kernelspec": {
   "display_name": "Julia 0.4.3",
   "language": "julia",
   "name": "julia-0.4"
  },
  "language_info": {
   "file_extension": ".jl",
   "mimetype": "application/julia",
   "name": "julia",
   "version": "0.4.3"
  }
 },
 "nbformat": 4,
 "nbformat_minor": 0
}
