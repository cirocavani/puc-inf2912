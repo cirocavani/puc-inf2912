{
 "cells": [
  {
   "cell_type": "markdown",
   "metadata": {},
   "source": [
    "# Trabalho de Implementação\n",
    "\n",
    "## INF2912 - Otimização Combinatória\n",
    "### Prof. Marcus Vinicius Soledade Poggi de Aragão\n",
    "### 2015-2\n",
    "\n",
    "### Ciro Cavani\n",
    "#### BigData / Globo.com\n",
    "\n",
    "Algoritmos de clusterização."
   ]
  },
  {
   "cell_type": "markdown",
   "metadata": {},
   "source": [
    "## Conteúdo\n",
    "\n",
    "Esse notebook tem o desenvolvimento e avaliação do Programan Inteiro do P-Median (Facility Location Problem).\n",
    "\n",
    "A avaliação do algoritmo é baseada em um mapeamento entre a maioria dos itens que foram atribuídos a um determinado cluster e o correspondente os valores verdadeiros gerados nesse cluster.\n",
    "\n",
    "O P-Median teve resultados muito bons."
   ]
  },
  {
   "cell_type": "markdown",
   "metadata": {},
   "source": [
    "## Dataset"
   ]
  },
  {
   "cell_type": "code",
   "execution_count": 1,
   "metadata": {
    "collapsed": false
   },
   "outputs": [
    {
     "name": "stdout",
     "output_type": "stream",
     "text": [
      "Number of Groups: 3\n",
      "Number of Features: 200\n",
      "Number of Features (group): 40\n",
      "Probability of Activation: 0.8\n",
      "Number of Objects (total): 100\n",
      "Number of Objects per Group (min): 7\n",
      "Number of Objects per Group (max): 66\n",
      "Number of Objects in 1: 39\n",
      "Number of Objects in 2: 17\n",
      "Number of Objects in 3: 45\n"
     ]
    }
   ],
   "source": [
    "include(\"../src/clustering.jl\")\n",
    "import Inf2912Clustering\n",
    "const Clustering = Inf2912Clustering\n",
    "dataset = Clustering.load_dataset(\"small\")\n",
    "Clustering.summary(dataset)\n",
    "sleep(0.2)"
   ]
  },
  {
   "cell_type": "markdown",
   "metadata": {},
   "source": [
    "### ULP - Problema de Localização sem Capacidade\n",
    "\n",
    "Consiste em resolver o *ULP* determinar os objetos representates de cada grupo e classificar cada objeto como sendo do grupo com representante *mais próximo*\n",
    "\n",
    "https://en.wikipedia.org/wiki/K-medians_clustering\n",
    "\n",
    "http://cseweb.ucsd.edu/~dasgupta/291-geom/kmedian.pdf"
   ]
  },
  {
   "cell_type": "markdown",
   "metadata": {},
   "source": [
    "### JuMP\n",
    "\n",
    "http://www.juliaopt.org/\n",
    "\n",
    "http://jump.readthedocs.org/en/stable/\n",
    "\n",
    "Modeling language for Mathematical Programming (linear, mixed-integer, conic, nonlinear)"
   ]
  },
  {
   "cell_type": "code",
   "execution_count": 2,
   "metadata": {
    "collapsed": true
   },
   "outputs": [],
   "source": [
    "if Pkg.installed(\"JuMP\") === nothing\n",
    "    println(\"Installing JuMP...\")\n",
    "    Pkg.add(\"JuMP\")\n",
    "    Pkg.add(\"Cbc\")\n",
    "end"
   ]
  },
  {
   "cell_type": "code",
   "execution_count": 3,
   "metadata": {
    "collapsed": true
   },
   "outputs": [],
   "source": [
    "using JuMP"
   ]
  },
  {
   "cell_type": "code",
   "execution_count": 4,
   "metadata": {
    "collapsed": false
   },
   "outputs": [
    {
     "data": {
      "text/plain": [
       "101x101 Array{Float64,2}:\n",
       "  0.0       8.60233   8.7178   10.1489   …   9.0       8.42615  11.1355 \n",
       "  8.60233   0.0       9.27362  10.8167       9.21954   8.77496  10.0995 \n",
       "  8.7178    9.27362   0.0      10.4403       9.94987   8.77496  10.4881 \n",
       " 10.1489   10.8167   10.4403    0.0         10.198    10.0      10.0499 \n",
       " 10.583    10.3923   10.0995    9.21954     10.4403   10.5357   10.3923 \n",
       " 10.4403   10.8167   10.5357    9.59166  …  10.0995   10.198     8.30662\n",
       " 10.3441   10.3441   10.7238    9.89949     10.2956   10.0995    8.544  \n",
       " 10.3923   10.7703   10.4881    8.18535     10.0499   10.6301   10.3923 \n",
       " 11.0454   10.0995   10.198    10.3441      10.4403   10.4403    8.24621\n",
       "  7.93725   8.88819   9.11043  10.4881       8.7178    8.12404  10.6301 \n",
       "  7.93725   9.32738   8.66025  10.3923   …   9.16515   9.38083  10.8167 \n",
       "  9.21954   8.88819   8.77496  10.583        9.05539   9.27362  10.5357 \n",
       " 10.2956   10.3923   10.7703    9.32738     10.0499   10.247    10.3923 \n",
       "  ⋮                                      ⋱                       ⋮      \n",
       " 10.8628   10.0995   10.6771   10.247       10.5357   10.6301    8.48528\n",
       " 10.3441   10.4403   10.3441    8.83176  …  10.0      10.198    10.4403 \n",
       "  8.60233   9.16515   8.0      10.7238       8.88819   8.66025  10.7703 \n",
       "  8.544     8.88819   8.66025  10.4881       9.48683   8.7178   10.7238 \n",
       " 11.0454   10.4881   10.0995    8.77496     10.6301   10.8167   10.0995 \n",
       "  8.06226   8.30662   9.0      10.9545       9.48683   8.7178   10.9087 \n",
       "  8.77496   9.0       8.42615  10.6771   …   9.48683   8.60233  10.5357 \n",
       "  8.48528   9.27362   8.83176  10.1489       8.544     8.77496  10.0    \n",
       " 10.247     9.53939  10.0499   10.0         10.8628    9.89949   8.88819\n",
       "  9.0       9.21954   9.94987  10.198        0.0       9.05539  10.4403 \n",
       "  8.42615   8.77496   8.77496  10.0          9.05539   0.0      10.3441 \n",
       " 11.1355   10.0995   10.4881   10.0499   …  10.4403   10.3441    0.0    "
      ]
     },
     "execution_count": 4,
     "metadata": {},
     "output_type": "execute_result"
    }
   ],
   "source": [
    "function dist(dataset)\n",
    "    data = map(first, dataset.data)\n",
    "    n = length(data)\n",
    "    d = zeros(n, n)\n",
    "    for i=1:n, j=i+1:n\n",
    "        dist = norm(data[i] - data[j])\n",
    "        d[i,j] = dist\n",
    "        d[j,i] = dist\n",
    "    end\n",
    "    d\n",
    "end\n",
    "\n",
    "dist(dataset)"
   ]
  },
  {
   "cell_type": "code",
   "execution_count": 5,
   "metadata": {
    "collapsed": false
   },
   "outputs": [
    {
     "name": "stdout",
     "output_type": "stream",
     "text": [
      "Solver:\n",
      "\n",
      "Cbc.CbcMathProgSolverInterface.CbcMathProgModel\n",
      "\n",
      "Objective value:\n",
      "\n",
      "16.056673160848906\n",
      "\n",
      "Centros:\n",
      "\n",
      "[0.0,0.0,0.0,1.0,0.0,0.0,1.0,1.0,0.0,0.0]\n",
      "\n",
      "Clusters:\n",
      "\n",
      "[0.0 0.0 0.0 0.0 0.0 0.0 0.0 1.0 0.0 0.0\n",
      " 0.0 0.0 0.0 0.0 0.0 0.0 1.0 0.0 0.0 0.0\n",
      " 0.0 0.0 0.0 1.0 0.0 0.0 0.0 0.0 0.0 0.0\n",
      " 0.0 0.0 0.0 1.0 0.0 0.0 0.0 0.0 0.0 0.0\n",
      " 0.0 0.0 0.0 0.0 0.0 0.0 0.0 1.0 0.0 0.0\n",
      " 0.0 0.0 0.0 0.0 0.0 0.0 0.0 1.0 0.0 0.0\n",
      " 0.0 0.0 0.0 0.0 0.0 0.0 1.0 0.0 0.0 0.0\n",
      " 0.0 0.0 0.0 0.0 0.0 0.0 0.0 1.0 0.0 0.0\n",
      " 0.0 0.0 0.0 1.0 0.0 0.0 0.0 0.0 0.0 0.0\n",
      " 0.0 0.0 0.0 0.0 0.0 0.0 1.0 0.0 0.0 0.0]\n",
      "\n",
      "Atribuição de Cluster:\n",
      "\n",
      "[3,2,1,1,3,3,2,3,1,2]\n",
      "\n",
      "Custo reconstruído (verificação):\n",
      "\n",
      "16.056673160848906\n",
      "\n"
     ]
    }
   ],
   "source": [
    "let\n",
    "    _dataset = Clustering.Dataset(size=10, groups=3, features=16, slot=3)\n",
    "    n = _dataset.size\n",
    "    k = _dataset.groups\n",
    "    d = dist(_dataset)\n",
    "    \n",
    "    m = Model()\n",
    "\n",
    "    @defVar(m, 0 <= x[1:n,1:n] <= 1)\n",
    "    @defVar(m, y[1:n], Bin)\n",
    "\n",
    "    # add the constraint that the amount that facility j can serve\n",
    "    # customer x is at most 1 if facility j is opened, and 0 otherwise.\n",
    "    for i=1:n, j=1:n\n",
    "        @addConstraint(m, x[i,j] <= y[j])\n",
    "    end\n",
    "    \n",
    "    # add the constraint that the amount that each customer must\n",
    "    # be served\n",
    "    for i=1:n\n",
    "        @addConstraint(m, sum{x[i,j], j=1:n} == 1)\n",
    "    end\n",
    "    \n",
    "    # add the constraint that at most 3 facilities can be opened.\n",
    "    @addConstraint(m, sum{y[j], j=1:n} <= k)\n",
    "    \n",
    "    # add the objective.\n",
    "    @setObjective(m, Min, sum{d[i,j] * x[i,j], i=1:n, j=1:n})\n",
    "    \n",
    "    status = solve(m)\n",
    "    if status != :Optimal\n",
    "        error(\"Wrong status (not optimal): $status\")\n",
    "    end\n",
    "    \n",
    "    println(\"Solver:\\n\\n\", typeof(getInternalModel(m)), \"\\n\")\n",
    "    \n",
    "    println(\"Objective value:\\n\\n\", getObjectiveValue(m), \"\\n\")\n",
    "    \n",
    "    centers = getValue(y)[:] \n",
    "    println(\"Centros:\\n\\n\", centers, \"\\n\")\n",
    "    \n",
    "    clusters = getValue(x)[:,:]\n",
    "    println(\"Clusters:\\n\\n\", clusters, \"\\n\")\n",
    "    \n",
    "    centersj = zeros(Int, k)\n",
    "    assignments = zeros(Int, n)\n",
    "    _k = 0\n",
    "    for j=1:n\n",
    "        centers[j] == 0.0 && continue\n",
    "        _k += 1\n",
    "        centersj[_k] = j\n",
    "        for i=1:n\n",
    "            clusters[i,j] == 0.0 && continue\n",
    "            assignments[i] = _k\n",
    "        end\n",
    "    end\n",
    "\n",
    "    println(\"Atribuição de Cluster:\\n\\n\", assignments, \"\\n\")\n",
    "    \n",
    "    dt = 0.0\n",
    "    for (kj, j) in enumerate(centersj)\n",
    "        for (i, ki) in enumerate(assignments)\n",
    "            kj != ki && continue\n",
    "            dt += d[i,j]\n",
    "        end\n",
    "    end\n",
    "    println(\"Custo reconstruído (verificação):\\n\\n\", dt, \"\\n\")\n",
    "    \n",
    "    sleep(0.2)\n",
    "end"
   ]
  },
  {
   "cell_type": "code",
   "execution_count": 6,
   "metadata": {
    "collapsed": false
   },
   "outputs": [
    {
     "data": {
      "text/plain": [
       "100-element Array{Int64,1}:\n",
       " 1\n",
       " 1\n",
       " 1\n",
       " 2\n",
       " 2\n",
       " 3\n",
       " 3\n",
       " 2\n",
       " 3\n",
       " 1\n",
       " 1\n",
       " 1\n",
       " 2\n",
       " ⋮\n",
       " 2\n",
       " 3\n",
       " 2\n",
       " 1\n",
       " 1\n",
       " 2\n",
       " 1\n",
       " 1\n",
       " 1\n",
       " 3\n",
       " 1\n",
       " 1"
      ]
     },
     "execution_count": 6,
     "metadata": {},
     "output_type": "execute_result"
    }
   ],
   "source": [
    "function pmedian(dataset, k)\n",
    "    n = dataset.size\n",
    "    k = dataset.groups\n",
    "    d = dist(dataset)\n",
    "    \n",
    "    m = Model()\n",
    "\n",
    "    @defVar(m, 0 <= x[1:n,1:n] <= 1)\n",
    "    @defVar(m, y[1:n], Bin)\n",
    "\n",
    "    # add the constraint that the amount that facility j can serve\n",
    "    # customer x is at most 1 if facility j is opened, and 0 otherwise.\n",
    "    for i=1:n, j=1:n\n",
    "        @addConstraint(m, x[i,j] <= y[j])\n",
    "    end\n",
    "    \n",
    "    # add the constraint that the amount that each customer must\n",
    "    # be served\n",
    "    for i=1:n\n",
    "        @addConstraint(m, sum{x[i,j], j=1:n} == 1)\n",
    "    end\n",
    "    \n",
    "    # add the constraint that at most 3 facilities can be opened.\n",
    "    @addConstraint(m, sum{y[j], j=1:n} <= k)\n",
    "    \n",
    "    # add the objective.\n",
    "    @setObjective(m, Min, sum{d[i,j] * x[i,j], i=1:n, j=1:n})\n",
    "    \n",
    "    status = solve(m)\n",
    "    if status != :Optimal\n",
    "        error(\"Wrong status (not optimal): $status\")\n",
    "    end\n",
    "\n",
    "    centers = getValue(y)[:] \n",
    "    clusters = getValue(x)[:,:]\n",
    "    \n",
    "    assignments = zeros(Int, n)\n",
    "    _k = 0\n",
    "    for j=1:n\n",
    "        centers[j] == 0.0 && continue\n",
    "        _k += 1\n",
    "        for i=1:n\n",
    "            clusters[i,j] == 0.0 && continue\n",
    "            assignments[i] = _k\n",
    "        end\n",
    "    end\n",
    "    assignments\n",
    "end\n",
    "\n",
    "pmedian(dataset, 3)"
   ]
  },
  {
   "cell_type": "code",
   "execution_count": 7,
   "metadata": {
    "collapsed": false
   },
   "outputs": [
    {
     "name": "stdout",
     "output_type": "stream",
     "text": [
      "Precision: 87.21%\n",
      "Recall: 84.27%\n",
      "F-score: 0.86\n",
      "\n",
      "Número de predições: 100\n",
      "Acertos: 75 (75.0%)\n",
      "Falso negativo: 14 (14.0%)\n",
      "Falso positivo: 11 (11.0%)\n",
      "\n",
      "Cluster 1\n",
      "\n",
      "Objetos: 41\n",
      "Accuracy: 84.0%\n",
      "Precision: 87.88%\n",
      "Recall: 70.73%\n",
      "F-score: 0.78\n",
      "\n",
      "Acerto positivo: 29 (70.73%)\n",
      "Acerto negativo: 55 (93.22%)\n",
      "Falso negativo: 12 (85.71%)\n",
      "Falso positivo: 4 (36.36%)\n",
      "\n",
      "Cluster 2\n",
      "\n",
      "Objetos: 17\n",
      "Accuracy: 78.0%\n",
      "Precision: 41.38%\n",
      "Recall: 70.59%\n",
      "F-score: 0.52\n",
      "\n",
      "Acerto positivo: 12 (70.59%)\n",
      "Acerto negativo: 66 (79.52%)\n",
      "Falso negativo: 5 (35.71%)\n",
      "Falso positivo: 17 (154.55%)\n",
      "\n",
      "Cluster 3\n",
      "\n",
      "Objetos: 42\n",
      "Accuracy: 88.0%\n",
      "Precision: 89.47%\n",
      "Recall: 80.95%\n",
      "F-score: 0.85\n",
      "\n",
      "Acerto positivo: 34 (80.95%)\n",
      "Acerto negativo: 54 (93.1%)\n",
      "Falso negativo: 8 (57.14%)\n",
      "Falso positivo: 4 (36.36%)\n"
     ]
    }
   ],
   "source": [
    "function pmedian_approx(dataset, k)\n",
    "    assignments = pmedian(dataset, k)\n",
    "    centermap = Clustering.mapping(dataset, assignments, k)\n",
    "    map(c -> centermap[c], assignments)\n",
    "end\n",
    "\n",
    "let\n",
    "    n = 100\n",
    "    k = 3\n",
    "    c = 16\n",
    "    c_y = 3\n",
    "\n",
    "    tiny = Clustering.Dataset(size=n, groups=k, features=c, slot=c_y)\n",
    "\n",
    "    prediction = pmedian_approx(tiny, k)\n",
    "    Clustering.evaluation_summary(tiny, prediction)\n",
    "end"
   ]
  }
 ],
 "metadata": {
  "kernelspec": {
   "display_name": "Julia 0.4.3",
   "language": "julia",
   "name": "julia-0.4"
  },
  "language_info": {
   "file_extension": ".jl",
   "mimetype": "application/julia",
   "name": "julia",
   "version": "0.4.3"
  }
 },
 "nbformat": 4,
 "nbformat_minor": 0
}
