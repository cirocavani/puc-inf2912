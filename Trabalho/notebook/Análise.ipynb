{
 "cells": [
  {
   "cell_type": "markdown",
   "metadata": {},
   "source": [
    "# Trabalho de Implementação\n",
    "\n",
    "## INF2912 - Otimização Combinatória\n",
    "### Prof. Marcus Vinicius Soledade Poggi de Aragão\n",
    "### 2015-2\n",
    "\n",
    "### Ciro Cavani\n",
    "#### BigData / Globo.com\n",
    "\n",
    "Algoritmos de clusterização."
   ]
  },
  {
   "cell_type": "markdown",
   "metadata": {},
   "source": [
    "## Conteúdo\n",
    "\n",
    "TBD"
   ]
  },
  {
   "cell_type": "markdown",
   "metadata": {},
   "source": [
    "## Dataset"
   ]
  },
  {
   "cell_type": "code",
   "execution_count": 1,
   "metadata": {
    "collapsed": false
   },
   "outputs": [
    {
     "name": "stderr",
     "output_type": "stream",
     "text": [
      "WARNING: redefining constant srcdir\n",
      "WARNING: redefining constant default_datasetdir\n"
     ]
    },
    {
     "data": {
      "text/plain": [
       "Inf2912Clustering"
      ]
     },
     "execution_count": 1,
     "metadata": {},
     "output_type": "execute_result"
    }
   ],
   "source": [
    "include(\"../src/clustering.jl\")\n",
    "import Inf2912Clustering\n",
    "const Clustering = Inf2912Clustering"
   ]
  },
  {
   "cell_type": "code",
   "execution_count": 2,
   "metadata": {
    "collapsed": false
   },
   "outputs": [
    {
     "data": {
      "text/plain": [
       "validate_prediction (generic function with 1 method)"
      ]
     },
     "execution_count": 2,
     "metadata": {},
     "output_type": "execute_result"
    }
   ],
   "source": [
    "function validate_prediction(dataset, prediction)\n",
    "    size = length(prediction)\n",
    "    if size != dataset.size\n",
    "        error(\"Mismatch size: expected $(dataset.size), actual $(size)\")\n",
    "    end\n",
    "    clusters = length(unique(prediction))\n",
    "    if clusters != dataset.clusters\n",
    "        error(\"Mismatch clusters: expected $(dataset.clusters), actual $(clusters)\")\n",
    "    end\n",
    "end"
   ]
  },
  {
   "cell_type": "code",
   "execution_count": 3,
   "metadata": {
    "collapsed": false
   },
   "outputs": [
    {
     "data": {
      "text/plain": [
       "run (generic function with 1 method)"
      ]
     },
     "execution_count": 3,
     "metadata": {},
     "output_type": "execute_result"
    }
   ],
   "source": [
    "import Clustering: mapping, Evaluation\n",
    "\n",
    "function run(predictor; iters=10, approx=true)\n",
    "    for i=1:iters\n",
    "        println(\"Iteration \", i, \"\\n\")\n",
    "        dataset = Clustering.dataset_tiny()\n",
    "        k = dataset.clusters\n",
    "        print(\"Time: \")\n",
    "        @time prediction = predictor(dataset, k)\n",
    "        try\n",
    "            if approx\n",
    "                centermap = mapping(dataset, prediction, k)\n",
    "                prediction = map(c -> centermap[c], prediction)\n",
    "            end\n",
    "            validate_prediction(dataset, prediction)\n",
    "            r = Evaluation(dataset, prediction)\n",
    "            print(r.sample)\n",
    "        catch e\n",
    "            println(\"Error: \", e.msg)\n",
    "        end\n",
    "        println()\n",
    "    end\n",
    "end"
   ]
  },
  {
   "cell_type": "code",
   "execution_count": 4,
   "metadata": {
    "collapsed": false
   },
   "outputs": [
    {
     "name": "stdout",
     "output_type": "stream",
     "text": [
      "Iteration 1\n",
      "\n",
      "Time:   0.057221 seconds (29.43 k allocations: 1.492 MB)\n",
      "Size: 100\n",
      "Correct: 37\n",
      "Mistakes: 63\n",
      "Accuracy: 37.0%\n",
      "\n",
      "Iteration 2\n",
      "\n",
      "Time:   0.000053 seconds (56 allocations: 6.891 KB)\n",
      "Size: 100\n",
      "Correct: 42\n",
      "Mistakes: 58\n",
      "Accuracy: 42.0%\n",
      "\n",
      "Iteration 3\n",
      "\n",
      "Time:   0.000049 seconds (56 allocations: 6.859 KB)\n",
      "Size: 100\n",
      "Correct: 36\n",
      "Mistakes: 64\n",
      "Accuracy: 36.0%\n",
      "\n",
      "Iteration 4\n",
      "\n",
      "Time:   0.000034 seconds (56 allocations: 6.859 KB)\n",
      "Size: 100\n",
      "Correct: 35\n",
      "Mistakes: 65\n",
      "Accuracy: 35.0%\n",
      "\n",
      "Iteration 5\n",
      "\n",
      "Time:   0.000032 seconds (56 allocations: 6.891 KB)\n",
      "Size: 100\n",
      "Correct: 29\n",
      "Mistakes: 71\n",
      "Accuracy: 29.0%\n",
      "\n",
      "Iteration 6\n",
      "\n",
      "Time:   0.000054 seconds (56 allocations: 6.891 KB)\n",
      "Size: 100\n",
      "Correct: 32\n",
      "Mistakes: 68\n",
      "Accuracy: 32.0%\n",
      "\n",
      "Iteration 7\n",
      "\n",
      "Time:   0.000030 seconds (55 allocations: 6.344 KB)\n",
      "Size: 100\n",
      "Correct: 36\n",
      "Mistakes: 64\n",
      "Accuracy: 36.0%\n",
      "\n",
      "Iteration 8\n",
      "\n",
      "Time:   0.000030 seconds (56 allocations: 6.891 KB)\n",
      "Size: 100\n",
      "Correct: 31\n",
      "Mistakes: 69\n",
      "Accuracy: 31.0%\n",
      "\n",
      "Iteration 9\n",
      "\n",
      "Time:   0.000029 seconds (56 allocations: 6.891 KB)\n",
      "Size: 100\n",
      "Correct: 36\n",
      "Mistakes: 64\n",
      "Accuracy: 36.0%\n",
      "\n",
      "Iteration 10\n",
      "\n",
      "Time:   0.000031 seconds (56 allocations: 6.891 KB)\n",
      "Size: 100\n",
      "Correct: 36\n",
      "Mistakes: 64\n",
      "Accuracy: 36.0%\n",
      "\n"
     ]
    }
   ],
   "source": [
    "run((dataset, k) -> Clustering.random_clustering(dataset); approx=false)\n",
    "sleep(0.2)"
   ]
  },
  {
   "cell_type": "code",
   "execution_count": 5,
   "metadata": {
    "collapsed": false
   },
   "outputs": [
    {
     "name": "stdout",
     "output_type": "stream",
     "text": [
      "Iteration 1\n",
      "\n",
      "Time:   0.532293 seconds (590.15 k allocations: 26.469 MB, 2.92% gc time)\n",
      "Size: 100\n",
      "Correct: 91\n",
      "Mistakes: 9\n",
      "Accuracy: 91.0%\n",
      "\n",
      "Iteration 2\n",
      "\n",
      "Time:   0.002016 seconds (11.46 k allocations: 859.969 KB)\n",
      "Size: 100\n",
      "Correct: 76\n",
      "Mistakes: 24\n",
      "Accuracy: 76.0%\n",
      "\n",
      "Iteration 3\n",
      "\n",
      "Time:   0.002022 seconds (11.46 k allocations: 860.375 KB)\n",
      "Size: 100\n",
      "Correct: 86\n",
      "Mistakes: 14\n",
      "Accuracy: 86.0%\n",
      "\n",
      "Iteration 4\n",
      "\n",
      "Time:   0.003773 seconds (17.24 k allocations: 1.259 MB)\n",
      "Size: 100\n",
      "Correct: 91\n",
      "Mistakes: 9\n",
      "Accuracy: 91.0%\n",
      "\n",
      "Iteration 5\n",
      "\n",
      "Time:   0.001261 seconds (7.11 k allocations: 534.719 KB)\n",
      "Size: 100\n",
      "Correct: 89\n",
      "Mistakes: 11\n",
      "Accuracy: 89.0%\n",
      "\n",
      "Iteration 6\n",
      "\n",
      "Time:   0.001474 seconds (8.56 k allocations: 641.922 KB)\n",
      "Error: Center already mapped: 1 -> 1, now 3?\n",
      "\n",
      "Iteration 7\n",
      "\n",
      "Time:   0.001049 seconds (5.67 k allocations: 427.641 KB)\n",
      "Size: 100\n",
      "Correct: 87\n",
      "Mistakes: 13\n",
      "Accuracy: 87.0%\n",
      "\n",
      "Iteration 8\n",
      "\n",
      "Time:   0.002946 seconds (11.46 k allocations: 859.781 KB)\n",
      "Size: 100\n",
      "Correct: 91\n",
      "Mistakes: 9\n",
      "Accuracy: 91.0%\n",
      "\n",
      "Iteration 9\n",
      "\n",
      "Time:   0.002486 seconds (14.36 k allocations: 1.051 MB)\n",
      "Size: 100\n",
      "Correct: 86\n",
      "Mistakes: 14\n",
      "Accuracy: 86.0%\n",
      "\n",
      "Iteration 10\n",
      "\n",
      "Time:   0.001507 seconds (8.56 k allocations: 645.172 KB)\n",
      "Size: 100\n",
      "Correct: 83\n",
      "Mistakes: 17\n",
      "Accuracy: 83.0%\n",
      "\n"
     ]
    }
   ],
   "source": [
    "run(Clustering.kmeans)\n",
    "sleep(0.2)"
   ]
  },
  {
   "cell_type": "code",
   "execution_count": 6,
   "metadata": {
    "collapsed": false
   },
   "outputs": [
    {
     "name": "stdout",
     "output_type": "stream",
     "text": [
      "Iteration 1\n",
      "\n",
      "Time:   0.279139 seconds (293.23 k allocations: 12.086 MB, 2.13% gc time)\n",
      "Error: Center already mapped: 2 -> 1, now 2?\n",
      "\n",
      "Iteration 2\n",
      "\n",
      "Time:   0.000625 seconds (3.14 k allocations: 188.938 KB)\n",
      "Error: Center already mapped: 2 -> 2, now 3?\n",
      "\n",
      "Iteration 3\n",
      "\n",
      "Time:   0.000451 seconds (3.14 k allocations: 188.938 KB)\n",
      "Error: Center already mapped: 1 -> 2, now 3?\n",
      "\n",
      "Iteration 4\n",
      "\n",
      "Time:   0.000441 seconds (3.14 k allocations: 188.938 KB)\n",
      "Size: 100\n",
      "Correct: 69\n",
      "Mistakes: 31\n",
      "Accuracy: 69.0%\n",
      "\n",
      "Iteration 5\n",
      "\n",
      "Time:   0.000441 seconds (3.14 k allocations: 188.938 KB)\n",
      "Error: Center already mapped: 1 -> 2, now 3?\n",
      "\n",
      "Iteration 6\n",
      "\n",
      "Time:   0.000443 seconds (3.14 k allocations: 188.938 KB)\n",
      "Error: Center already mapped: 1 -> 1, now 3?\n",
      "\n",
      "Iteration 7\n",
      "\n",
      "Time:   0.000454 seconds (3.14 k allocations: 188.938 KB)\n",
      "Error: Center already mapped: 1 -> 2, now 3?\n",
      "\n",
      "Iteration 8\n",
      "\n",
      "Time:   0.000617 seconds (3.14 k allocations: 188.938 KB)\n",
      "Error: Center already mapped: 1 -> 1, now 3?\n",
      "\n",
      "Iteration 9\n",
      "\n",
      "Time:   0.000575 seconds (3.14 k allocations: 188.938 KB)\n",
      "Error: Center already mapped: 1 -> 1, now 2?\n",
      "\n",
      "Iteration 10\n",
      "\n",
      "Time:   0.000474 seconds (3.14 k allocations: 188.938 KB)\n",
      "Error: Center already mapped: 1 -> 1, now 3?\n",
      "\n"
     ]
    }
   ],
   "source": [
    "run(Clustering.pcenter)\n",
    "sleep(0.2)"
   ]
  },
  {
   "cell_type": "code",
   "execution_count": 7,
   "metadata": {
    "collapsed": false
   },
   "outputs": [
    {
     "name": "stdout",
     "output_type": "stream",
     "text": [
      "Iteration 1\n",
      "\n",
      "Time:   4.525123 seconds (4.21 M allocations: 187.111 MB, 1.29% gc time)\n",
      "Size: 100\n",
      "Correct: 80\n",
      "Mistakes: 20\n",
      "Accuracy: 80.0%\n",
      "\n",
      "Iteration 2\n",
      "\n",
      "Time:   1.370809 seconds (112.72 k allocations: 10.313 MB, 0.93% gc time)\n",
      "Size: 100\n",
      "Correct: 82\n",
      "Mistakes: 18\n",
      "Accuracy: 82.0%\n",
      "\n",
      "Iteration 3\n",
      "\n",
      "Time:  29.421951 seconds (110.19 k allocations: 10.211 MB)\n",
      "Size: 100\n",
      "Correct: 86\n",
      "Mistakes: 14\n",
      "Accuracy: 86.0%\n",
      "\n",
      "Iteration 4\n",
      "\n",
      "Time:   1.108365 seconds (110.19 k allocations: 10.211 MB, 0.84% gc time)\n",
      "Size: 100\n",
      "Correct: 82\n",
      "Mistakes: 18\n",
      "Accuracy: 82.0%\n",
      "\n",
      "Iteration 5\n",
      "\n",
      "Time:   1.179951 seconds (110.19 k allocations: 10.211 MB)\n",
      "Size: 100\n",
      "Correct: 80\n",
      "Mistakes: 20\n",
      "Accuracy: 80.0%\n",
      "\n",
      "Iteration 6\n",
      "\n",
      "Time:   0.761862 seconds (110.19 k allocations: 10.211 MB, 0.94% gc time)\n",
      "Size: 100\n",
      "Correct: 90\n",
      "Mistakes: 10\n",
      "Accuracy: 90.0%\n",
      "\n",
      "Iteration 7\n",
      "\n",
      "Time:   1.138223 seconds (110.19 k allocations: 10.211 MB)\n",
      "Size: 100\n",
      "Correct: 79\n",
      "Mistakes: 21\n",
      "Accuracy: 79.0%\n",
      "\n",
      "Iteration 8\n",
      "\n",
      "Time:   1.030254 seconds (110.19 k allocations: 10.211 MB, 0.60% gc time)\n",
      "Size: 100\n",
      "Correct: 85\n",
      "Mistakes: 15\n",
      "Accuracy: 85.0%\n",
      "\n",
      "Iteration 9\n",
      "\n",
      "Time:   0.977513 seconds (110.19 k allocations: 10.211 MB)\n",
      "Size: 100\n",
      "Correct: 84\n",
      "Mistakes: 16\n",
      "Accuracy: 84.0%\n",
      "\n",
      "Iteration 10\n",
      "\n",
      "Time:   8.585152 seconds (110.19 k allocations: 10.211 MB, 0.06% gc time)\n",
      "Size: 100\n",
      "Correct: 74\n",
      "Mistakes: 26\n",
      "Accuracy: 74.0%\n",
      "\n"
     ]
    }
   ],
   "source": [
    "run(Clustering.pmedian)\n",
    "sleep(0.2)"
   ]
  }
 ],
 "metadata": {
  "kernelspec": {
   "display_name": "Julia 0.4.3",
   "language": "julia",
   "name": "julia-0.4"
  },
  "language_info": {
   "file_extension": ".jl",
   "mimetype": "application/julia",
   "name": "julia",
   "version": "0.4.3"
  }
 },
 "nbformat": 4,
 "nbformat_minor": 0
}
