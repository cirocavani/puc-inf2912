{
 "cells": [
  {
   "cell_type": "markdown",
   "metadata": {},
   "source": [
    "# Trabalho de Implementação\n",
    "\n",
    "## INF2912 - Otimização Combinatória\n",
    "### Prof. Marcus Vinicius Soledade Poggi de Aragão\n",
    "### 2015-2\n",
    "\n",
    "### Ciro Cavani\n",
    "#### BigData / Globo.com\n",
    "\n",
    "Algoritmos de clusterização."
   ]
  },
  {
   "cell_type": "markdown",
   "metadata": {},
   "source": [
    "## Conteúdo\n",
    "\n",
    "TBD"
   ]
  },
  {
   "cell_type": "markdown",
   "metadata": {},
   "source": [
    "## Dataset"
   ]
  },
  {
   "cell_type": "code",
   "execution_count": 1,
   "metadata": {
    "collapsed": false
   },
   "outputs": [
    {
     "data": {
      "text/plain": [
       "Inf2912Clustering"
      ]
     },
     "execution_count": 1,
     "metadata": {},
     "output_type": "execute_result"
    }
   ],
   "source": [
    "include(\"../src/clustering.jl\")\n",
    "import Inf2912Clustering\n",
    "const Clustering = Inf2912Clustering"
   ]
  },
  {
   "cell_type": "code",
   "execution_count": 2,
   "metadata": {
    "collapsed": false
   },
   "outputs": [
    {
     "data": {
      "text/plain": [
       "validate_prediction (generic function with 1 method)"
      ]
     },
     "execution_count": 2,
     "metadata": {},
     "output_type": "execute_result"
    }
   ],
   "source": [
    "function validate_prediction(dataset, prediction)\n",
    "    size = length(prediction)\n",
    "    if size != dataset.size\n",
    "        error(\"Mismatch size: expected $(dataset.size), actual $(size)\")\n",
    "    end\n",
    "    groups = length(unique(prediction))\n",
    "    if groups != dataset.groups\n",
    "        error(\"Mismatch groups: expected $(dataset.groups), actual $(groups)\")\n",
    "    end\n",
    "end"
   ]
  },
  {
   "cell_type": "code",
   "execution_count": 3,
   "metadata": {
    "collapsed": false
   },
   "outputs": [
    {
     "data": {
      "text/plain": [
       "run (generic function with 1 method)"
      ]
     },
     "execution_count": 3,
     "metadata": {},
     "output_type": "execute_result"
    }
   ],
   "source": [
    "import Clustering: mapping, Evaluation\n",
    "\n",
    "function run(predictor; iters=10, approx=true)\n",
    "    for i=1:iters\n",
    "        println(\"Iteration \", i, \"\\n\")\n",
    "        dataset = Clustering.dataset_tiny()\n",
    "        k = dataset.groups\n",
    "        print(\"Time: \")\n",
    "        @time prediction = predictor(dataset, k)\n",
    "        try\n",
    "            if approx\n",
    "                centermap = mapping(dataset, prediction, k)\n",
    "                prediction = map(c -> centermap[c], prediction)\n",
    "            end\n",
    "            validate_prediction(dataset, prediction)\n",
    "            r = Evaluation(dataset, prediction)\n",
    "            print(r.sample)\n",
    "        catch e\n",
    "            println(\"Error: \", e.msg)\n",
    "        end\n",
    "        println()\n",
    "    end\n",
    "end"
   ]
  },
  {
   "cell_type": "code",
   "execution_count": 4,
   "metadata": {
    "collapsed": false
   },
   "outputs": [
    {
     "name": "stdout",
     "output_type": "stream",
     "text": [
      "Iteration 1\n",
      "\n",
      "Time:   0.039730 seconds (19.91 k allocations: 1016.052 KB)\n",
      "Size: 100\n",
      "Correct: 34\n",
      "Mistakes: 66\n",
      "Accuracy: 34.0%\n",
      "\n",
      "Iteration 2\n",
      "\n",
      "Time:   0.000026 seconds (26 allocations: 4.281 KB)\n",
      "Size: 100\n",
      "Correct: 40\n",
      "Mistakes: 60\n",
      "Accuracy: 40.0%\n",
      "\n",
      "Iteration 3\n",
      "\n",
      "Time:   0.000027 seconds (26 allocations: 4.281 KB)\n",
      "Size: 100\n",
      "Correct: 36\n",
      "Mistakes: 64\n",
      "Accuracy: 36.0%\n",
      "\n",
      "Iteration 4\n",
      "\n",
      "Time:   0.000024 seconds (26 allocations: 4.281 KB)\n",
      "Size: 100\n",
      "Correct: 36\n",
      "Mistakes: 64\n",
      "Accuracy: 36.0%\n",
      "\n",
      "Iteration 5\n",
      "\n",
      "Time:   0.000024 seconds (26 allocations: 4.281 KB)\n",
      "Size: 100\n",
      "Correct: 39\n",
      "Mistakes: 61\n",
      "Accuracy: 39.0%\n",
      "\n",
      "Iteration 6\n",
      "\n",
      "Time:   0.000024 seconds (26 allocations: 4.281 KB)\n",
      "Size: 100\n",
      "Correct: 27\n",
      "Mistakes: 73\n",
      "Accuracy: 27.0%\n",
      "\n",
      "Iteration 7\n",
      "\n",
      "Time:   0.000024 seconds (26 allocations: 4.281 KB)\n",
      "Size: 100\n",
      "Correct: 28\n",
      "Mistakes: 72\n",
      "Accuracy: 28.0%\n",
      "\n",
      "Iteration 8\n",
      "\n",
      "Time:   0.000024 seconds (26 allocations: 4.281 KB)\n",
      "Size: 100\n",
      "Correct: 37\n",
      "Mistakes: 63\n",
      "Accuracy: 37.0%\n",
      "\n",
      "Iteration 9\n",
      "\n",
      "Time:   0.000024 seconds (25 allocations: 3.750 KB)\n",
      "Size: 100\n",
      "Correct: 32\n",
      "Mistakes: 68\n",
      "Accuracy: 32.0%\n",
      "\n",
      "Iteration 10\n",
      "\n",
      "Time:   0.000024 seconds (26 allocations: 4.281 KB)\n",
      "Size: 100\n",
      "Correct: 43\n",
      "Mistakes: 57\n",
      "Accuracy: 43.0%\n",
      "\n"
     ]
    }
   ],
   "source": [
    "run((dataset, k) -> Clustering.random_clustering(dataset); approx=false)\n",
    "sleep(0.2)"
   ]
  },
  {
   "cell_type": "code",
   "execution_count": 5,
   "metadata": {
    "collapsed": false
   },
   "outputs": [
    {
     "name": "stdout",
     "output_type": "stream",
     "text": [
      "Iteration 1\n",
      "\n",
      "Time:   0.536118 seconds (630.28 k allocations: 28.656 MB, 2.27% gc time)\n",
      "Size: 100\n",
      "Correct: 77\n",
      "Mistakes: 23\n",
      "Accuracy: 77.0%\n",
      "\n",
      "Iteration 2\n",
      "\n",
      "Time:   0.001205 seconds (7.12 k allocations: 536.375 KB)\n",
      "Size: 100\n",
      "Correct: 86\n",
      "Mistakes: 14\n",
      "Accuracy: 86.0%\n",
      "\n",
      "Iteration 3\n",
      "\n",
      "Time:   0.002606 seconds (15.80 k allocations: 1.156 MB)\n",
      "Size: 100\n",
      "Correct: 91\n",
      "Mistakes: 9\n",
      "Accuracy: 91.0%\n",
      "\n",
      "Iteration 4\n",
      "\n",
      "Time:   0.001862 seconds (10.01 k allocations: 749.375 KB)\n",
      "Size: 100\n",
      "Correct: 85\n",
      "Mistakes: 15\n",
      "Accuracy: 85.0%\n",
      "\n",
      "Iteration 5\n",
      "\n",
      "Time:   0.001864 seconds (10.01 k allocations: 753.406 KB)\n",
      "Size: 100\n",
      "Correct: 81\n",
      "Mistakes: 19\n",
      "Accuracy: 81.0%\n",
      "\n",
      "Iteration 6\n",
      "\n",
      "Time:   0.001687 seconds (8.56 k allocations: 641.719 KB)\n",
      "Size: 100\n",
      "Correct: 84\n",
      "Mistakes: 16\n",
      "Accuracy: 84.0%\n",
      "\n",
      "Iteration 7\n",
      "\n",
      "Time:   0.004456 seconds (17.24 k allocations: 1.257 MB)\n",
      "Size: 100\n",
      "Correct: 93\n",
      "Mistakes: 7\n",
      "Accuracy: 93.0%\n",
      "\n",
      "Iteration 8\n",
      "\n",
      "Time:   0.001614 seconds (7.12 k allocations: 535.906 KB)\n",
      "Size: 100\n",
      "Correct: 84\n",
      "Mistakes: 16\n",
      "Accuracy: 84.0%\n",
      "\n",
      "Iteration 9\n",
      "\n",
      "Time:   0.001861 seconds (10.01 k allocations: 751.625 KB)\n",
      "Size: 100\n",
      "Correct: 85\n",
      "Mistakes: 15\n",
      "Accuracy: 85.0%\n",
      "\n",
      "Iteration 10\n",
      "\n",
      "Time:   0.001697 seconds (10.01 k allocations: 752.141 KB)\n",
      "Size: 100\n",
      "Correct: 89\n",
      "Mistakes: 11\n",
      "Accuracy: 89.0%\n",
      "\n"
     ]
    }
   ],
   "source": [
    "run(Clustering.kmeans)\n",
    "sleep(0.2)"
   ]
  },
  {
   "cell_type": "code",
   "execution_count": 6,
   "metadata": {
    "collapsed": false
   },
   "outputs": [
    {
     "name": "stdout",
     "output_type": "stream",
     "text": [
      "Iteration 1\n",
      "\n",
      "Time:   0.301391 seconds (330.21 k allocations: 14.311 MB, 1.75% gc time)\n",
      "Error: Center already mapped: 3 -> 2, now 3?\n",
      "\n",
      "Iteration 2\n",
      "\n",
      "Time:   0.000807 seconds (3.24 k allocations: 193.000 KB)\n",
      "Error: Center already mapped: 1 -> 2, now 3?\n",
      "\n",
      "Iteration 3\n",
      "\n",
      "Time:   0.000742 seconds (3.24 k allocations: 193.000 KB)\n",
      "Error: Center already mapped: 1 -> 2, now 3?\n",
      "\n",
      "Iteration 4\n",
      "\n",
      "Time:   0.000612 seconds (3.24 k allocations: 193.000 KB)\n",
      "Size: 100\n",
      "Correct: 60\n",
      "Mistakes: 40\n",
      "Accuracy: 60.0%\n",
      "\n",
      "Iteration 5\n",
      "\n",
      "Time:   0.000516 seconds (3.24 k allocations: 193.000 KB)\n",
      "Error: Center already mapped: 1 -> 1, now 3?\n",
      "\n",
      "Iteration 6\n",
      "\n",
      "Time:   0.000519 seconds (3.24 k allocations: 193.000 KB)\n",
      "Error: Center already mapped: 1 -> 1, now 3?\n",
      "\n",
      "Iteration 7\n",
      "\n",
      "Time:   0.000526 seconds (3.24 k allocations: 193.000 KB)\n",
      "Size: 100\n",
      "Correct: 64\n",
      "Mistakes: 36\n",
      "Accuracy: 64.0%\n",
      "\n",
      "Iteration 8\n",
      "\n",
      "Time:   0.000517 seconds (3.24 k allocations: 193.000 KB)\n",
      "Error: Center already mapped: 1 -> 2, now 3?\n",
      "\n",
      "Iteration 9\n",
      "\n",
      "Time:   0.000571 seconds (3.24 k allocations: 193.000 KB)\n",
      "Error: Center already mapped: 1 -> 1, now 3?\n",
      "\n",
      "Iteration 10\n",
      "\n",
      "Time:   0.000520 seconds (3.24 k allocations: 193.000 KB)\n",
      "Error: Center already mapped: 1 -> 2, now 3?\n",
      "\n"
     ]
    }
   ],
   "source": [
    "run(Clustering.pcenter)\n",
    "sleep(0.2)"
   ]
  },
  {
   "cell_type": "code",
   "execution_count": 7,
   "metadata": {
    "collapsed": false
   },
   "outputs": [
    {
     "name": "stdout",
     "output_type": "stream",
     "text": [
      "Iteration 1\n",
      "\n",
      "Time:   9.102270 seconds (4.28 M allocations: 188.564 MB, 0.73% gc time)\n",
      "Size: 100\n",
      "Correct: 75\n",
      "Mistakes: 25\n",
      "Accuracy: 75.0%\n",
      "\n",
      "Iteration 2\n",
      "\n",
      "Time:  11.485365 seconds (141.02 k allocations: 10.776 MB)\n",
      "Error: Center already mapped: 1 -> 1, now 2?\n",
      "\n",
      "Iteration 3\n",
      "\n",
      "Time:   1.157439 seconds (142.10 k allocations: 10.826 MB, 1.00% gc time)\n",
      "Size: 100\n",
      "Correct: 81\n",
      "Mistakes: 19\n",
      "Accuracy: 81.0%\n",
      "\n",
      "Iteration 4\n",
      "\n",
      "Time:   7.355107 seconds (140.30 k allocations: 10.750 MB)\n",
      "Size: 100\n",
      "Correct: 92\n",
      "Mistakes: 8\n",
      "Accuracy: 92.0%\n",
      "\n",
      "Iteration 5\n",
      "\n",
      "Time:   1.043823 seconds (140.30 k allocations: 10.750 MB, 0.62% gc time)\n",
      "Size: 100\n",
      "Correct: 86\n",
      "Mistakes: 14\n",
      "Accuracy: 86.0%\n",
      "\n",
      "Iteration 6\n",
      "\n",
      "Time:   1.039879 seconds (140.30 k allocations: 10.750 MB)\n",
      "Size: 100\n",
      "Correct: 87\n",
      "Mistakes: 13\n",
      "Accuracy: 87.0%\n",
      "\n",
      "Iteration 7\n",
      "\n",
      "Time:   1.281782 seconds (140.30 k allocations: 10.750 MB, 0.45% gc time)\n",
      "Size: 100\n",
      "Correct: 80\n",
      "Mistakes: 20\n",
      "Accuracy: 80.0%\n",
      "\n",
      "Iteration 8\n",
      "\n",
      "Time:   1.377618 seconds (140.30 k allocations: 10.750 MB)\n",
      "Size: 100\n",
      "Correct: 80\n",
      "Mistakes: 20\n",
      "Accuracy: 80.0%\n",
      "\n",
      "Iteration 9\n",
      "\n",
      "Time:   1.579903 seconds (140.30 k allocations: 10.750 MB, 0.39% gc time)\n",
      "Size: 100\n",
      "Correct: 80\n",
      "Mistakes: 20\n",
      "Accuracy: 80.0%\n",
      "\n",
      "Iteration 10\n",
      "\n",
      "Time:   1.090334 seconds (140.30 k allocations: 10.750 MB)\n",
      "Size: 100\n",
      "Correct: 84\n",
      "Mistakes: 16\n",
      "Accuracy: 84.0%\n",
      "\n"
     ]
    }
   ],
   "source": [
    "run(Clustering.pmedian)\n",
    "sleep(0.2)"
   ]
  }
 ],
 "metadata": {
  "kernelspec": {
   "display_name": "Julia 0.4.2",
   "language": "julia",
   "name": "julia-0.4"
  },
  "language_info": {
   "file_extension": ".jl",
   "mimetype": "application/julia",
   "name": "julia",
   "version": "0.4.2"
  }
 },
 "nbformat": 4,
 "nbformat_minor": 0
}
