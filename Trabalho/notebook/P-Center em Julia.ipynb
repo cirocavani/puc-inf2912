{
 "cells": [
  {
   "cell_type": "markdown",
   "metadata": {},
   "source": [
    "# Trabalho de Implementação\n",
    "\n",
    "## INF2912 - Otimização Combinatória\n",
    "### Prof. Marcus Vinicius Soledade Poggi de Aragão\n",
    "### 2015-2\n",
    "\n",
    "### Ciro Cavani\n",
    "#### BigData / Globo.com\n",
    "\n",
    "Algoritmos de clusterização."
   ]
  },
  {
   "cell_type": "markdown",
   "metadata": {},
   "source": [
    "## Conteúdo\n",
    "\n",
    "Esse notebook tem o desenvolvimento e avaliação do algoritmo aproximado do P-Center (algoritmo Farthest-first traversal).\n",
    "\n",
    "A avaliação do algoritmo é baseada em um mapeamento entre a maioria dos itens que foram atribuídos a um determinado cluster e o correspondente os valores verdadeiros gerados nesse cluster.\n",
    "\n",
    "O P-Center teve resultados muito bons."
   ]
  },
  {
   "cell_type": "markdown",
   "metadata": {},
   "source": [
    "## Dataset"
   ]
  },
  {
   "cell_type": "code",
   "execution_count": 1,
   "metadata": {
    "collapsed": false
   },
   "outputs": [
    {
     "name": "stderr",
     "output_type": "stream",
     "text": [
      "WARNING: redefining constant srcdir\n",
      "WARNING: redefining constant default_datasetdir\n"
     ]
    },
    {
     "data": {
      "text/plain": [
       "Inf2912Clustering"
      ]
     },
     "execution_count": 1,
     "metadata": {},
     "output_type": "execute_result"
    }
   ],
   "source": [
    "include(\"../src/clustering.jl\")\n",
    "import Inf2912Clustering\n",
    "const Clustering = Inf2912Clustering"
   ]
  },
  {
   "cell_type": "code",
   "execution_count": 2,
   "metadata": {
    "collapsed": false
   },
   "outputs": [
    {
     "name": "stdout",
     "output_type": "stream",
     "text": [
      "Clusters: 3\n",
      "Dimension (features): 16\n",
      "Features per Cluster: 3\n",
      "Probability of Activation: 0.8\n",
      "\n",
      "Size: 100\n",
      "Min Cluster size: 20\n",
      "Max Cluster size: 40\n",
      "Cluster 1 size: 39\n",
      "Cluster 2 size: 29\n",
      "Cluster 3 size: 32\n"
     ]
    }
   ],
   "source": [
    "dataset = Clustering.dataset_tiny()\n",
    "Clustering.summary(dataset)\n",
    "sleep(0.2)"
   ]
  },
  {
   "cell_type": "markdown",
   "metadata": {},
   "source": [
    "### P-Center - Problema de Localização de Centróides\n",
    "\n",
    "Consiste em resolver o *P-Center* determinar os objetos representantes de cada grupo e classificar cada objeto como sendo do grupo com representante *mais próximo*\n",
    "\n",
    "https://en.wikipedia.org/wiki/Metric_k-center\n",
    "\n",
    "https://en.wikipedia.org/wiki/Farthest-first_traversal\n"
   ]
  },
  {
   "cell_type": "code",
   "execution_count": 3,
   "metadata": {
    "collapsed": false
   },
   "outputs": [
    {
     "data": {
      "text/plain": [
       "100-element Array{Int64,1}:\n",
       " 1\n",
       " 1\n",
       " 2\n",
       " 1\n",
       " 3\n",
       " 1\n",
       " 3\n",
       " 1\n",
       " 2\n",
       " 1\n",
       " 2\n",
       " 1\n",
       " 1\n",
       " ⋮\n",
       " 1\n",
       " 2\n",
       " 1\n",
       " 2\n",
       " 2\n",
       " 1\n",
       " 3\n",
       " 1\n",
       " 3\n",
       " 1\n",
       " 1\n",
       " 3"
      ]
     },
     "execution_count": 3,
     "metadata": {},
     "output_type": "execute_result"
    }
   ],
   "source": [
    "let\n",
    "    k = 3\n",
    "    data = dataset.input.data\n",
    "    \n",
    "    centers = Array(Array{Int64,1}, 0)\n",
    "    i = rand(1:length(data))\n",
    "    push!(centers, data[i])\n",
    "    \n",
    "    min_dist(v) = minimum(map(c -> norm(c - v), centers))\n",
    "    max_index() = indmax(map(min_dist, data))\n",
    "    \n",
    "    while length(centers) < k\n",
    "        i = max_index()\n",
    "        push!(centers, data[i])\n",
    "    end\n",
    "    \n",
    "    cluster(v) = indmin(map(c -> norm(c - v), centers))\n",
    "    \n",
    "    assignments = zeros(Int, length(data))\n",
    "    for (i, v) in enumerate(data)\n",
    "        assignments[i] = cluster(v)\n",
    "    end\n",
    "    \n",
    "    assignments\n",
    "end"
   ]
  },
  {
   "cell_type": "code",
   "execution_count": 4,
   "metadata": {
    "collapsed": false
   },
   "outputs": [
    {
     "data": {
      "text/plain": [
       "100-element Array{Int64,1}:\n",
       " 3\n",
       " 3\n",
       " 3\n",
       " 1\n",
       " 2\n",
       " 3\n",
       " 2\n",
       " 1\n",
       " 1\n",
       " 3\n",
       " 1\n",
       " 1\n",
       " 1\n",
       " ⋮\n",
       " 1\n",
       " 3\n",
       " 3\n",
       " 1\n",
       " 1\n",
       " 1\n",
       " 3\n",
       " 1\n",
       " 2\n",
       " 1\n",
       " 2\n",
       " 1"
      ]
     },
     "execution_count": 4,
     "metadata": {},
     "output_type": "execute_result"
    }
   ],
   "source": [
    "import Clustering: Input, Dataset\n",
    "\n",
    "\"Algoritmo de clusterização P-Center (algoritmo Farthest-first traversal).\"\n",
    "function pcenter(input::Input, k::Int)\n",
    "    data = input.data\n",
    "    \n",
    "    centers = Array(Array{Int64,1}, 0)\n",
    "    i = rand(1:length(data))\n",
    "    push!(centers, data[i])\n",
    "    \n",
    "    min_dist(v) = minimum(map(c -> norm(c - v), centers))\n",
    "    max_index() = indmax(map(min_dist, data))\n",
    "    \n",
    "    while length(centers) < k\n",
    "        i = max_index()\n",
    "        push!(centers, data[i])\n",
    "    end\n",
    "    \n",
    "    cluster(v) = indmin(map(c -> norm(c - v), centers))\n",
    "    \n",
    "    assignments = zeros(Int, length(data))\n",
    "    for (i, v) in enumerate(data)\n",
    "        assignments[i] = cluster(v)\n",
    "    end\n",
    "    \n",
    "    assignments\n",
    "end\n",
    "\n",
    "pcenter(dataset::Dataset, k::Int) = pcenter(dataset.input, k)\n",
    "\n",
    "pcenter(dataset, 3)"
   ]
  },
  {
   "cell_type": "code",
   "execution_count": 5,
   "metadata": {
    "collapsed": false
   },
   "outputs": [
    {
     "name": "stdout",
     "output_type": "stream",
     "text": [
      "  0.110913 seconds (117.02 k allocations: 5.599 MB, 6.08% gc time)\n",
      "Confusion Matrix:\n",
      "\n",
      "[30 6 3\n",
      " 10 14 5\n",
      " 2 6 24]\n",
      "\n",
      "Size: 100\n",
      "Correct: 68\n",
      "Mistakes: 32\n",
      "Accuracy: 68.0%\n",
      "\n",
      "Cluster 1\n",
      "\n",
      "Size: 39\n",
      "Accuracy: 79.0%\n",
      "Precision: 71.43%\n",
      "Recall: 76.92%\n",
      "F-score: 0.74\n",
      "\n",
      "True Positive: 30 (76.92%)\n",
      "True Negative: 49 (80.33%)\n",
      "False Negative: 9 (28.12%)\n",
      "False Positive: 12 (37.5%)\n",
      "\n",
      "Cluster 2\n",
      "\n",
      "Size: 29\n",
      "Accuracy: 73.0%\n",
      "Precision: 53.85%\n",
      "Recall: 48.28%\n",
      "F-score: 0.51\n",
      "\n",
      "True Positive: 14 (48.28%)\n",
      "True Negative: 59 (83.1%)\n",
      "False Negative: 15 (46.88%)\n",
      "False Positive: 12 (37.5%)\n",
      "\n",
      "Cluster 3\n",
      "\n",
      "Size: 32\n",
      "Accuracy: 84.0%\n",
      "Precision: 75.0%\n",
      "Recall: 75.0%\n",
      "F-score: 0.75\n",
      "\n",
      "True Positive: 24 (75.0%)\n",
      "True Negative: 60 (88.24%)\n",
      "False Negative: 8 (25.0%)\n",
      "False Positive: 8 (25.0%)\n",
      "\n"
     ]
    }
   ],
   "source": [
    "import Clustering.mapping\n",
    "\n",
    "\"Algoritmo de clusterização P-Center (algoritmo Farthest-first traversal) \\\n",
    "aproximado para os grupos pré-definidos do dataset.\"\n",
    "function pcenter_approx(dataset::Dataset, k::Int)\n",
    "    assignments = pcenter(dataset, k)\n",
    "    centermap = mapping(dataset, assignments, k)\n",
    "    map(c -> centermap[c], assignments)\n",
    "end\n",
    "\n",
    "let\n",
    "    k = dataset.clusters\n",
    "    @time prediction = pcenter_approx(dataset, k)\n",
    "    Clustering.evaluation_summary(dataset, prediction; verbose=true)\n",
    "    sleep(0.2)\n",
    "end"
   ]
  },
  {
   "cell_type": "code",
   "execution_count": 6,
   "metadata": {
    "collapsed": false
   },
   "outputs": [
    {
     "name": "stdout",
     "output_type": "stream",
     "text": [
      "  0.022010 seconds (33.10 k allocations: 11.160 MB, 34.12% gc time)\n",
      "Confusion Matrix:\n",
      "\n",
      "[367 0 0\n",
      " 1 265 0\n",
      " 0 0 367]\n",
      "\n",
      "Size: 1000\n",
      "Correct: 999\n",
      "Mistakes: 1\n",
      "Accuracy: 99.9%\n",
      "\n",
      "Cluster 1\n",
      "\n",
      "Size: 367\n",
      "Accuracy: 99.9%\n",
      "Precision: 99.73%\n",
      "Recall: 100.0%\n",
      "F-score: 1.0\n",
      "\n",
      "True Positive: 367 (100.0%)\n",
      "True Negative: 632 (99.84%)\n",
      "False Negative: 0 (0.0%)\n",
      "False Positive: 1 (100.0%)\n",
      "\n",
      "Cluster 2\n",
      "\n",
      "Size: 266\n",
      "Accuracy: 99.9%\n",
      "Precision: 100.0%\n",
      "Recall: 99.62%\n",
      "F-score: 1.0\n",
      "\n",
      "True Positive: 265 (99.62%)\n",
      "True Negative: 734 (100.0%)\n",
      "False Negative: 1 (100.0%)\n",
      "False Positive: 0 (0.0%)\n",
      "\n",
      "Cluster 3\n",
      "\n",
      "Size: 367\n",
      "Accuracy: 100.0%\n",
      "Precision: 100.0%\n",
      "Recall: 100.0%\n",
      "F-score: 1.0\n",
      "\n",
      "True Positive: 367 (100.0%)\n",
      "True Negative: 633 (100.0%)\n",
      "False Negative: 0 (0.0%)\n",
      "False Positive: 0 (0.0%)\n",
      "\n"
     ]
    }
   ],
   "source": [
    "Clustering.test_dataset(\"small\", pcenter_approx)\n",
    "sleep(0.2)"
   ]
  },
  {
   "cell_type": "code",
   "execution_count": 7,
   "metadata": {
    "collapsed": false
   },
   "outputs": [
    {
     "name": "stdout",
     "output_type": "stream",
     "text": [
      "  0.254922 seconds (339.12 k allocations: 111.643 MB, 38.77% gc time)\n",
      "Confusion Matrix:\n",
      "\n",
      "[3810 3 1\n",
      " 8 3948 17\n",
      " 1 0 2212]\n",
      "\n",
      "Size: 10000\n",
      "Correct: 9970\n",
      "Mistakes: 30\n",
      "Accuracy: 99.7%\n",
      "\n",
      "Cluster 1\n",
      "\n",
      "Size: 3814\n",
      "Accuracy: 99.87%\n",
      "Precision: 99.76%\n",
      "Recall: 99.9%\n",
      "F-score: 1.0\n",
      "\n",
      "True Positive: 3810 (99.9%)\n",
      "True Negative: 6177 (99.85%)\n",
      "False Negative: 4 (13.33%)\n",
      "False Positive: 9 (30.0%)\n",
      "\n",
      "Cluster 2\n",
      "\n",
      "Size: 3973\n",
      "Accuracy: 99.72%\n",
      "Precision: 99.92%\n",
      "Recall: 99.37%\n",
      "F-score: 1.0\n",
      "\n",
      "True Positive: 3948 (99.37%)\n",
      "True Negative: 6024 (99.95%)\n",
      "False Negative: 25 (83.33%)\n",
      "False Positive: 3 (10.0%)\n",
      "\n",
      "Cluster 3\n",
      "\n",
      "Size: 2213\n",
      "Accuracy: 99.81%\n",
      "Precision: 99.19%\n",
      "Recall: 99.95%\n",
      "F-score: 1.0\n",
      "\n",
      "True Positive: 2212 (99.95%)\n",
      "True Negative: 7769 (99.77%)\n",
      "False Negative: 1 (3.33%)\n",
      "False Positive: 18 (60.0%)\n",
      "\n"
     ]
    }
   ],
   "source": [
    "Clustering.test_dataset(\"large\", pcenter_approx)\n",
    "sleep(0.2)"
   ]
  }
 ],
 "metadata": {
  "kernelspec": {
   "display_name": "Julia 0.4.3",
   "language": "julia",
   "name": "julia-0.4"
  },
  "language_info": {
   "file_extension": ".jl",
   "mimetype": "application/julia",
   "name": "julia",
   "version": "0.4.3"
  }
 },
 "nbformat": 4,
 "nbformat_minor": 0
}
