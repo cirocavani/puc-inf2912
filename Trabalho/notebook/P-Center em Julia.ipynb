{
 "cells": [
  {
   "cell_type": "markdown",
   "metadata": {},
   "source": [
    "# Trabalho de Implementação\n",
    "\n",
    "## INF2912 - Otimização Combinatória\n",
    "### Prof. Marcus Vinicius Soledade Poggi de Aragão\n",
    "### 2015-2\n",
    "\n",
    "### Ciro Cavani\n",
    "#### BigData / Globo.com\n",
    "\n",
    "Algoritmos de clusterização."
   ]
  },
  {
   "cell_type": "markdown",
   "metadata": {},
   "source": [
    "## Conteúdo\n",
    "\n",
    "Esse notebook tem o desenvolvimento e avaliação do algoritmo aproximado do P-Center (algoritmo Farthest-first traversal).\n",
    "\n",
    "A avaliação do algoritmo é baseada em um mapeamento entre a maioria dos itens que foram atribuídos a um determinado cluster e o correspondente os valores verdadeiros gerados nesse cluster.\n",
    "\n",
    "O P-Center teve resultados muito bons."
   ]
  },
  {
   "cell_type": "markdown",
   "metadata": {},
   "source": [
    "## Dataset"
   ]
  },
  {
   "cell_type": "code",
   "execution_count": 1,
   "metadata": {
    "collapsed": false
   },
   "outputs": [
    {
     "name": "stderr",
     "output_type": "stream",
     "text": [
      "WARNING: type Dataset not present in workspace; reconstructing\n"
     ]
    },
    {
     "ename": "LoadError",
     "evalue": "LoadError: MethodError: `summary` has no method matching summary(::JLD.##Dataset#8091)\nyou may have intended to import Base.summary\nwhile loading In[1], in expression starting on line 5",
     "output_type": "error",
     "traceback": [
      "LoadError: MethodError: `summary` has no method matching summary(::JLD.##Dataset#8091)\nyou may have intended to import Base.summary\nwhile loading In[1], in expression starting on line 5",
      ""
     ]
    }
   ],
   "source": [
    "include(\"../src/clustering.jl\")\n",
    "import Inf2912Clustering\n",
    "const Clustering = Inf2912Clustering\n",
    "dataset = Clustering.load_dataset(\"small\")\n",
    "Clustering.summary(dataset)\n",
    "sleep(0.2)"
   ]
  },
  {
   "cell_type": "markdown",
   "metadata": {},
   "source": [
    "### P-Center - Problema de Localização de Centróides\n",
    "\n",
    "Consiste em resolver o *P-Center* determinar os objetos representantes de cada grupo e classificar cada objeto como sendo do grupo com representante *mais próximo*\n",
    "\n",
    "https://en.wikipedia.org/wiki/Metric_k-center\n",
    "\n",
    "https://en.wikipedia.org/wiki/Farthest-first_traversal\n"
   ]
  },
  {
   "cell_type": "code",
   "execution_count": 2,
   "metadata": {
    "collapsed": false
   },
   "outputs": [
    {
     "data": {
      "text/plain": [
       "100-element Array{Int64,1}:\n",
       " 3\n",
       " 3\n",
       " 2\n",
       " 2\n",
       " 1\n",
       " 2\n",
       " 2\n",
       " 3\n",
       " 2\n",
       " 2\n",
       " 2\n",
       " 2\n",
       " 2\n",
       " ⋮\n",
       " 1\n",
       " 2\n",
       " 2\n",
       " 2\n",
       " 2\n",
       " 2\n",
       " 2\n",
       " 2\n",
       " 1\n",
       " 1\n",
       " 2\n",
       " 2"
      ]
     },
     "execution_count": 2,
     "metadata": {},
     "output_type": "execute_result"
    }
   ],
   "source": [
    "let\n",
    "    k = 3\n",
    "    data = map(first, dataset.data)\n",
    "    \n",
    "    centers = Array(Array{Int64,1}, 0)\n",
    "    i = rand(1:length(data))\n",
    "    push!(centers, data[i])\n",
    "    \n",
    "    min_dist(v) = minimum(map(c -> norm(c - v), centers))\n",
    "    max_index() = indmax(map(min_dist, data))\n",
    "    \n",
    "    while length(centers) < k\n",
    "        i = max_index()\n",
    "        push!(centers, data[i])\n",
    "    end\n",
    "    \n",
    "    cluster(v) = indmin(map(c -> norm(c - v), centers))\n",
    "    \n",
    "    assignments = zeros(Int, length(data))\n",
    "    for (i, v) in enumerate(data)\n",
    "        assignments[i] = cluster(v)\n",
    "    end\n",
    "    \n",
    "    assignments\n",
    "end"
   ]
  },
  {
   "cell_type": "code",
   "execution_count": 3,
   "metadata": {
    "collapsed": false
   },
   "outputs": [
    {
     "data": {
      "text/plain": [
       "100-element Array{Int64,1}:\n",
       " 3\n",
       " 3\n",
       " 2\n",
       " 2\n",
       " 1\n",
       " 2\n",
       " 2\n",
       " 3\n",
       " 2\n",
       " 2\n",
       " 2\n",
       " 2\n",
       " 2\n",
       " ⋮\n",
       " 1\n",
       " 2\n",
       " 2\n",
       " 2\n",
       " 2\n",
       " 2\n",
       " 2\n",
       " 2\n",
       " 1\n",
       " 1\n",
       " 2\n",
       " 2"
      ]
     },
     "execution_count": 3,
     "metadata": {},
     "output_type": "execute_result"
    }
   ],
   "source": [
    "function pcenter(dataset, k)\n",
    "    data = map(first, dataset.data)\n",
    "    \n",
    "    centers = Array(Array{Int64,1}, 0)\n",
    "    i = rand(1:length(data))\n",
    "    push!(centers, data[i])\n",
    "    \n",
    "    min_dist(v) = minimum(map(c -> norm(c - v), centers))\n",
    "    max_index() = indmax(map(min_dist, data))\n",
    "    \n",
    "    while length(centers) < k\n",
    "        i = max_index()\n",
    "        push!(centers, data[i])\n",
    "    end\n",
    "    \n",
    "    cluster(v) = indmin(map(c -> norm(c - v), centers))\n",
    "    \n",
    "    assignments = zeros(Int, length(data))\n",
    "    for (i, v) in enumerate(data)\n",
    "        assignments[i] = cluster(v)\n",
    "    end\n",
    "    \n",
    "    assignments\n",
    "end\n",
    "\n",
    "pcenter(dataset, 3)"
   ]
  },
  {
   "cell_type": "code",
   "execution_count": 4,
   "metadata": {
    "collapsed": false
   },
   "outputs": [
    {
     "name": "stdout",
     "output_type": "stream",
     "text": [
      "Matriz de Confusão:\n",
      "\n",
      "[23 8 11\n",
      " 14 18 3\n",
      " 2 7 14]\n",
      "\n",
      "Tamanho: 100\n",
      "Acertos: 55\n",
      "Erros: 45\n",
      "Accuracy: 55.0%\n",
      "\n",
      "Cluster 1\n",
      "\n",
      "Tamanho: 42\n",
      "Accuracy: 65.0%\n",
      "Precision: 58.97%\n",
      "Recall: 54.76%\n",
      "F-score: 0.57\n",
      "\n",
      "Acerto positivo: 23 (54.76%)\n",
      "Acerto negativo: 42 (72.41%)\n",
      "Falso negativo: 19 (42.22%)\n",
      "Falso positivo: 16 (35.56%)\n",
      "\n",
      "Cluster 2\n",
      "\n",
      "Tamanho: 35\n",
      "Accuracy: 68.0%\n",
      "Precision: 54.55%\n",
      "Recall: 51.43%\n",
      "F-score: 0.53\n",
      "\n",
      "Acerto positivo: 18 (51.43%)\n",
      "Acerto negativo: 50 (76.92%)\n",
      "Falso negativo: 17 (37.78%)\n",
      "Falso positivo: 15 (33.33%)\n",
      "\n",
      "Cluster 3\n",
      "\n",
      "Tamanho: 23\n",
      "Accuracy: 77.0%\n",
      "Precision: 50.0%\n",
      "Recall: 60.87%\n",
      "F-score: 0.55\n",
      "\n",
      "Acerto positivo: 14 (60.87%)\n",
      "Acerto negativo: 63 (81.82%)\n",
      "Falso negativo: 9 (20.0%)\n",
      "Falso positivo: 14 (31.11%)\n",
      "\n"
     ]
    }
   ],
   "source": [
    "function pcenter_approx(dataset, k)\n",
    "    assignments = pcenter(dataset, k)\n",
    "    centermap = Clustering.mapping(dataset, assignments, k)\n",
    "    map(c -> centermap[c], assignments)\n",
    "end\n",
    "\n",
    "let\n",
    "    n = 100\n",
    "    k = 3\n",
    "    c = 16\n",
    "    c_y = 3\n",
    "\n",
    "    tiny = Clustering.Dataset(size=n, groups=k, features=c, slot=c_y)\n",
    "\n",
    "    prediction = pcenter_approx(tiny, k)\n",
    "    Clustering.evaluation_summary(tiny, prediction; verbose=true)\n",
    "end"
   ]
  }
 ],
 "metadata": {
  "kernelspec": {
   "display_name": "Julia 0.4.3",
   "language": "julia",
   "name": "julia-0.4"
  },
  "language_info": {
   "file_extension": ".jl",
   "mimetype": "application/julia",
   "name": "julia",
   "version": "0.4.3"
  }
 },
 "nbformat": 4,
 "nbformat_minor": 0
}
