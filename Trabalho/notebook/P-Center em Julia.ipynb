{
 "cells": [
  {
   "cell_type": "markdown",
   "metadata": {},
   "source": [
    "# Trabalho de Implementação\n",
    "\n",
    "## INF2912 - Otimização Combinatória\n",
    "### Prof. Marcus Vinicius Soledade Poggi de Aragão\n",
    "### 2015-2\n",
    "\n",
    "### Ciro Cavani\n",
    "#### BigData / Globo.com\n",
    "\n",
    "Algoritmos de clusterização."
   ]
  },
  {
   "cell_type": "markdown",
   "metadata": {},
   "source": [
    "## Conteúdo\n",
    "\n",
    "Esse notebook tem o desenvolvimento e avaliação do algoritmo aproximado do P-Center (algoritmo Farthest-first traversal).\n",
    "\n",
    "A avaliação do algoritmo é baseada em um mapeamento entre a maioria dos itens que foram atribuídos a um determinado cluster e o correspondente os valores verdadeiros gerados nesse cluster.\n",
    "\n",
    "O P-Center teve resultados muito bons."
   ]
  },
  {
   "cell_type": "markdown",
   "metadata": {},
   "source": [
    "## Dataset"
   ]
  },
  {
   "cell_type": "code",
   "execution_count": 1,
   "metadata": {
    "collapsed": false
   },
   "outputs": [
    {
     "data": {
      "text/plain": [
       "Inf2912Clustering"
      ]
     },
     "execution_count": 1,
     "metadata": {},
     "output_type": "execute_result"
    }
   ],
   "source": [
    "include(\"../src/clustering.jl\")\n",
    "import Inf2912Clustering\n",
    "const Clustering = Inf2912Clustering"
   ]
  },
  {
   "cell_type": "code",
   "execution_count": 2,
   "metadata": {
    "collapsed": false
   },
   "outputs": [
    {
     "name": "stdout",
     "output_type": "stream",
     "text": [
      "Number of Groups: 3\n",
      "Number of Features: 16\n",
      "Number of Features (group): 3\n",
      "Probability of Activation: 0.8\n",
      "Number of Objects (total): 100\n",
      "Number of Objects per Group (min): 20\n",
      "Number of Objects per Group (max): 40\n",
      "Number of Objects in 1: 36\n",
      "Number of Objects in 2: 38\n",
      "Number of Objects in 3: 26\n"
     ]
    }
   ],
   "source": [
    "dataset = Clustering.dataset_tiny()\n",
    "Clustering.summary(dataset)\n",
    "sleep(0.2)"
   ]
  },
  {
   "cell_type": "markdown",
   "metadata": {},
   "source": [
    "### P-Center - Problema de Localização de Centróides\n",
    "\n",
    "Consiste em resolver o *P-Center* determinar os objetos representantes de cada grupo e classificar cada objeto como sendo do grupo com representante *mais próximo*\n",
    "\n",
    "https://en.wikipedia.org/wiki/Metric_k-center\n",
    "\n",
    "https://en.wikipedia.org/wiki/Farthest-first_traversal\n"
   ]
  },
  {
   "cell_type": "code",
   "execution_count": 3,
   "metadata": {
    "collapsed": false
   },
   "outputs": [
    {
     "data": {
      "text/plain": [
       "100-element Array{Int64,1}:\n",
       " 2\n",
       " 3\n",
       " 2\n",
       " 2\n",
       " 2\n",
       " 1\n",
       " 3\n",
       " 2\n",
       " 2\n",
       " 2\n",
       " 1\n",
       " 1\n",
       " 3\n",
       " ⋮\n",
       " 3\n",
       " 1\n",
       " 3\n",
       " 1\n",
       " 3\n",
       " 1\n",
       " 3\n",
       " 2\n",
       " 2\n",
       " 2\n",
       " 2\n",
       " 2"
      ]
     },
     "execution_count": 3,
     "metadata": {},
     "output_type": "execute_result"
    }
   ],
   "source": [
    "let\n",
    "    k = 3\n",
    "    data = map(first, dataset.data)\n",
    "    \n",
    "    centers = Array(Array{Int64,1}, 0)\n",
    "    i = rand(1:length(data))\n",
    "    push!(centers, data[i])\n",
    "    \n",
    "    min_dist(v) = minimum(map(c -> norm(c - v), centers))\n",
    "    max_index() = indmax(map(min_dist, data))\n",
    "    \n",
    "    while length(centers) < k\n",
    "        i = max_index()\n",
    "        push!(centers, data[i])\n",
    "    end\n",
    "    \n",
    "    cluster(v) = indmin(map(c -> norm(c - v), centers))\n",
    "    \n",
    "    assignments = zeros(Int, length(data))\n",
    "    for (i, v) in enumerate(data)\n",
    "        assignments[i] = cluster(v)\n",
    "    end\n",
    "    \n",
    "    assignments\n",
    "end"
   ]
  },
  {
   "cell_type": "code",
   "execution_count": 4,
   "metadata": {
    "collapsed": false
   },
   "outputs": [
    {
     "data": {
      "text/plain": [
       "100-element Array{Int64,1}:\n",
       " 3\n",
       " 2\n",
       " 1\n",
       " 3\n",
       " 3\n",
       " 1\n",
       " 1\n",
       " 2\n",
       " 3\n",
       " 1\n",
       " 3\n",
       " 2\n",
       " 1\n",
       " ⋮\n",
       " 1\n",
       " 1\n",
       " 2\n",
       " 2\n",
       " 1\n",
       " 3\n",
       " 1\n",
       " 3\n",
       " 3\n",
       " 3\n",
       " 3\n",
       " 3"
      ]
     },
     "execution_count": 4,
     "metadata": {},
     "output_type": "execute_result"
    }
   ],
   "source": [
    "\"Algoritmo de clusterização P-Center (algoritmo Farthest-first traversal).\"\n",
    "function pcenter(dataset, k)\n",
    "    data = map(first, dataset.data)\n",
    "    \n",
    "    centers = Array(Array{Int64,1}, 0)\n",
    "    i = rand(1:length(data))\n",
    "    push!(centers, data[i])\n",
    "    \n",
    "    min_dist(v) = minimum(map(c -> norm(c - v), centers))\n",
    "    max_index() = indmax(map(min_dist, data))\n",
    "    \n",
    "    while length(centers) < k\n",
    "        i = max_index()\n",
    "        push!(centers, data[i])\n",
    "    end\n",
    "    \n",
    "    cluster(v) = indmin(map(c -> norm(c - v), centers))\n",
    "    \n",
    "    assignments = zeros(Int, length(data))\n",
    "    for (i, v) in enumerate(data)\n",
    "        assignments[i] = cluster(v)\n",
    "    end\n",
    "    \n",
    "    assignments\n",
    "end\n",
    "\n",
    "pcenter(dataset, 3)"
   ]
  },
  {
   "cell_type": "code",
   "execution_count": 5,
   "metadata": {
    "collapsed": false
   },
   "outputs": [
    {
     "name": "stdout",
     "output_type": "stream",
     "text": [
      "  0.182553 seconds (180.38 k allocations: 8.577 MB, 3.31% gc time)\n",
      "Matriz de Confusão:\n",
      "\n",
      "[25 10 1\n",
      " 8 20 10\n",
      " 1 5 20]\n",
      "\n",
      "Tamanho: 100\n",
      "Acertos: 65\n",
      "Erros: 35\n",
      "Accuracy: 65.0%\n",
      "\n",
      "Cluster 1\n",
      "\n",
      "Tamanho: 36\n",
      "Accuracy: 80.0%\n",
      "Precision: 73.53%\n",
      "Recall: 69.44%\n",
      "F-score: 0.71\n",
      "\n",
      "Acerto positivo: 25 (69.44%)\n",
      "Acerto negativo: 55 (85.94%)\n",
      "Falso negativo: 11 (31.43%)\n",
      "Falso positivo: 9 (25.71%)\n",
      "\n",
      "Cluster 2\n",
      "\n",
      "Tamanho: 38\n",
      "Accuracy: 67.0%\n",
      "Precision: 57.14%\n",
      "Recall: 52.63%\n",
      "F-score: 0.55\n",
      "\n",
      "Acerto positivo: 20 (52.63%)\n",
      "Acerto negativo: 47 (75.81%)\n",
      "Falso negativo: 18 (51.43%)\n",
      "Falso positivo: 15 (42.86%)\n",
      "\n",
      "Cluster 3\n",
      "\n",
      "Tamanho: 26\n",
      "Accuracy: 83.0%\n",
      "Precision: 64.52%\n",
      "Recall: 76.92%\n",
      "F-score: 0.7\n",
      "\n",
      "Acerto positivo: 20 (76.92%)\n",
      "Acerto negativo: 63 (85.14%)\n",
      "Falso negativo: 6 (17.14%)\n",
      "Falso positivo: 11 (31.43%)\n",
      "\n"
     ]
    }
   ],
   "source": [
    "import Clustering.mapping\n",
    "\n",
    "\"Algoritmo de clusterização P-Center (algoritmo Farthest-first traversal) \\\n",
    "aproximado para os grupos pré-definidos do dataset.\"\n",
    "function pcenter_approx(dataset, k)\n",
    "    assignments = pcenter(dataset, k)\n",
    "    centermap = mapping(dataset, assignments, k)\n",
    "    map(c -> centermap[c], assignments)\n",
    "end\n",
    "\n",
    "let\n",
    "    k = dataset.groups\n",
    "    @time prediction = pcenter_approx(dataset, k)\n",
    "    Clustering.evaluation_summary(dataset, prediction; verbose=true)\n",
    "    sleep(0.2)\n",
    "end"
   ]
  },
  {
   "cell_type": "code",
   "execution_count": 6,
   "metadata": {
    "collapsed": false
   },
   "outputs": [
    {
     "name": "stdout",
     "output_type": "stream",
     "text": [
      "  0.017872 seconds (37.53 k allocations: 11.258 MB)\n",
      "Matriz de Confusão:\n",
      "\n",
      "[356 1 2\n",
      " 0 344 0\n",
      " 0 0 297]\n",
      "\n",
      "Tamanho: 1000\n",
      "Acertos: 997\n",
      "Erros: 3\n",
      "Accuracy: 99.7%\n",
      "\n",
      "Cluster 1\n",
      "\n",
      "Tamanho: 359\n",
      "Accuracy: 99.7%\n",
      "Precision: 100.0%\n",
      "Recall: 99.16%\n",
      "F-score: 1.0\n",
      "\n",
      "Acerto positivo: 356 (99.16%)\n",
      "Acerto negativo: 641 (100.0%)\n",
      "Falso negativo: 3 (100.0%)\n",
      "Falso positivo: 0 (0.0%)\n",
      "\n",
      "Cluster 2\n",
      "\n",
      "Tamanho: 344\n",
      "Accuracy: 99.9%\n",
      "Precision: 99.71%\n",
      "Recall: 100.0%\n",
      "F-score: 1.0\n",
      "\n",
      "Acerto positivo: 344 (100.0%)\n",
      "Acerto negativo: 655 (99.85%)\n",
      "Falso negativo: 0 (0.0%)\n",
      "Falso positivo: 1 (33.33%)\n",
      "\n",
      "Cluster 3\n",
      "\n",
      "Tamanho: 297\n",
      "Accuracy: 99.8%\n",
      "Precision: 99.33%\n",
      "Recall: 100.0%\n",
      "F-score: 1.0\n",
      "\n",
      "Acerto positivo: 297 (100.0%)\n",
      "Acerto negativo: 701 (99.72%)\n",
      "Falso negativo: 0 (0.0%)\n",
      "Falso positivo: 2 (66.67%)\n",
      "\n"
     ]
    }
   ],
   "source": [
    "Clustering.test_dataset(\"small\", pcenter_approx)\n",
    "sleep(0.2)"
   ]
  },
  {
   "cell_type": "code",
   "execution_count": 7,
   "metadata": {
    "collapsed": false
   },
   "outputs": [
    {
     "name": "stdout",
     "output_type": "stream",
     "text": [
      "  0.209626 seconds (415.55 k allocations: 113.115 MB, 37.14% gc time)\n",
      "Matriz de Confusão:\n",
      "\n",
      "[4067 8 11\n",
      " 14 2878 7\n",
      " 26 5 2984]\n",
      "\n",
      "Tamanho: 10000\n",
      "Acertos: 9929\n",
      "Erros: 71\n",
      "Accuracy: 99.29%\n",
      "\n",
      "Cluster 1\n",
      "\n",
      "Tamanho: 4086\n",
      "Accuracy: 99.41%\n",
      "Precision: 99.03%\n",
      "Recall: 99.53%\n",
      "F-score: 0.99\n",
      "\n",
      "Acerto positivo: 4067 (99.53%)\n",
      "Acerto negativo: 5874 (99.32%)\n",
      "Falso negativo: 19 (26.76%)\n",
      "Falso positivo: 40 (56.34%)\n",
      "\n",
      "Cluster 2\n",
      "\n",
      "Tamanho: 2899\n",
      "Accuracy: 99.66%\n",
      "Precision: 99.55%\n",
      "Recall: 99.28%\n",
      "F-score: 0.99\n",
      "\n",
      "Acerto positivo: 2878 (99.28%)\n",
      "Acerto negativo: 7088 (99.82%)\n",
      "Falso negativo: 21 (29.58%)\n",
      "Falso positivo: 13 (18.31%)\n",
      "\n",
      "Cluster 3\n",
      "\n",
      "Tamanho: 3015\n",
      "Accuracy: 99.51%\n",
      "Precision: 99.4%\n",
      "Recall: 98.97%\n",
      "F-score: 0.99\n",
      "\n",
      "Acerto positivo: 2984 (98.97%)\n",
      "Acerto negativo: 6967 (99.74%)\n",
      "Falso negativo: 31 (43.66%)\n",
      "Falso positivo: 18 (25.35%)\n",
      "\n"
     ]
    }
   ],
   "source": [
    "Clustering.test_dataset(\"large\", pcenter_approx)\n",
    "sleep(0.2)"
   ]
  }
 ],
 "metadata": {
  "kernelspec": {
   "display_name": "Julia 0.4.2",
   "language": "julia",
   "name": "julia-0.4"
  },
  "language_info": {
   "file_extension": ".jl",
   "mimetype": "application/julia",
   "name": "julia",
   "version": "0.4.2"
  }
 },
 "nbformat": 4,
 "nbformat_minor": 0
}
