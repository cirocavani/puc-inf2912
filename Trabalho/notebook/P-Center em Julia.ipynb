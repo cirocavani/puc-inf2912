{
 "cells": [
  {
   "cell_type": "markdown",
   "metadata": {},
   "source": [
    "# Trabalho de Implementação\n",
    "\n",
    "## INF2912 - Otimização Combinatória\n",
    "### Prof. Marcus Vinicius Soledade Poggi de Aragão\n",
    "### 2015-2\n",
    "\n",
    "### Ciro Cavani\n",
    "#### BigData / Globo.com\n",
    "\n",
    "Algoritmos de clusterização."
   ]
  },
  {
   "cell_type": "markdown",
   "metadata": {},
   "source": [
    "## Conteúdo\n",
    "\n",
    "Esse notebook tem o desenvolvimento e avaliação do algoritmo aproximado do P-Center (algoritmo Farthest-first traversal).\n",
    "\n",
    "A avaliação do algoritmo é baseada em um mapeamento entre a maioria dos itens que foram atribuídos a um determinado cluster e o correspondente os valores verdadeiros gerados nesse cluster.\n",
    "\n",
    "O P-Center teve resultados muito bons."
   ]
  },
  {
   "cell_type": "markdown",
   "metadata": {},
   "source": [
    "## Dataset"
   ]
  },
  {
   "cell_type": "code",
   "execution_count": 1,
   "metadata": {
    "collapsed": false
   },
   "outputs": [
    {
     "name": "stdout",
     "output_type": "stream",
     "text": [
      "Number of Groups: 3\n",
      "Number of Features: 200\n",
      "Number of Features (group): 40\n",
      "Probability of Activation: 0.8\n",
      "Number of Objects (total): 100\n",
      "Number of Objects per Group (min): 7\n",
      "Number of Objects per Group (max): 66\n",
      "Number of Objects in 1: 39\n",
      "Number of Objects in 2: 17\n",
      "Number of Objects in 3: 45\n"
     ]
    }
   ],
   "source": [
    "include(\"../src/clustering.jl\")\n",
    "import Inf2912Clustering\n",
    "const Clustering = Inf2912Clustering\n",
    "dataset = Clustering.load_dataset(\"small\")\n",
    "Clustering.summary(dataset)\n",
    "sleep(0.2)"
   ]
  },
  {
   "cell_type": "markdown",
   "metadata": {},
   "source": [
    "### P-Center - Problema de Localização de Centróides\n",
    "\n",
    "Consiste em resolver o *P-Center* determinar os objetos representantes de cada grupo e classificar cada objeto como sendo do grupo com representante *mais próximo*\n",
    "\n",
    "https://en.wikipedia.org/wiki/Metric_k-center\n",
    "\n",
    "https://en.wikipedia.org/wiki/Farthest-first_traversal\n"
   ]
  },
  {
   "cell_type": "code",
   "execution_count": 2,
   "metadata": {
    "collapsed": false
   },
   "outputs": [
    {
     "data": {
      "text/plain": [
       "101-element Array{Int64,1}:\n",
       " 1\n",
       " 1\n",
       " 1\n",
       " 3\n",
       " 3\n",
       " 2\n",
       " 2\n",
       " 3\n",
       " 2\n",
       " 1\n",
       " 1\n",
       " 1\n",
       " 3\n",
       " ⋮\n",
       " 2\n",
       " 3\n",
       " 1\n",
       " 1\n",
       " 3\n",
       " 1\n",
       " 1\n",
       " 1\n",
       " 2\n",
       " 1\n",
       " 1\n",
       " 2"
      ]
     },
     "execution_count": 2,
     "metadata": {},
     "output_type": "execute_result"
    }
   ],
   "source": [
    "let\n",
    "    k = 3\n",
    "    data = map(first, dataset.data)\n",
    "    \n",
    "    centers = Array(Array{Int64,1}, 0)\n",
    "    i = rand(1:length(data))\n",
    "    push!(centers, data[i])\n",
    "    \n",
    "    min_dist(v) = minimum(map(c -> norm(c - v), centers))\n",
    "    max_index() = indmax(map(min_dist, data))\n",
    "    \n",
    "    while length(centers) < k\n",
    "        i = max_index()\n",
    "        push!(centers, data[i])\n",
    "    end\n",
    "    \n",
    "    cluster(v) = indmin(map(c -> norm(c - v), centers))\n",
    "    \n",
    "    assignments = zeros(Int, length(data))\n",
    "    for (i, v) in enumerate(data)\n",
    "        assignments[i] = cluster(v)\n",
    "    end\n",
    "    \n",
    "    assignments\n",
    "end"
   ]
  },
  {
   "cell_type": "code",
   "execution_count": 3,
   "metadata": {
    "collapsed": false
   },
   "outputs": [
    {
     "data": {
      "text/plain": [
       "101-element Array{Int64,1}:\n",
       " 3\n",
       " 3\n",
       " 3\n",
       " 1\n",
       " 1\n",
       " 2\n",
       " 2\n",
       " 1\n",
       " 2\n",
       " 3\n",
       " 3\n",
       " 3\n",
       " 1\n",
       " ⋮\n",
       " 2\n",
       " 1\n",
       " 3\n",
       " 3\n",
       " 1\n",
       " 3\n",
       " 3\n",
       " 3\n",
       " 2\n",
       " 3\n",
       " 3\n",
       " 2"
      ]
     },
     "execution_count": 3,
     "metadata": {},
     "output_type": "execute_result"
    }
   ],
   "source": [
    "function pcenter(dataset, k)\n",
    "    data = map(first, dataset.data)\n",
    "    \n",
    "    centers = Array(Array{Int64,1}, 0)\n",
    "    i = rand(1:length(data))\n",
    "    push!(centers, data[i])\n",
    "    \n",
    "    min_dist(v) = minimum(map(c -> norm(c - v), centers))\n",
    "    max_index() = indmax(map(min_dist, data))\n",
    "    \n",
    "    while length(centers) < k\n",
    "        i = max_index()\n",
    "        push!(centers, data[i])\n",
    "    end\n",
    "    \n",
    "    cluster(v) = indmin(map(c -> norm(c - v), centers))\n",
    "    \n",
    "    assignments = zeros(Int, length(data))\n",
    "    for (i, v) in enumerate(data)\n",
    "        assignments[i] = cluster(v)\n",
    "    end\n",
    "    \n",
    "    assignments\n",
    "end\n",
    "\n",
    "pcenter(dataset, 3)"
   ]
  },
  {
   "cell_type": "code",
   "execution_count": 4,
   "metadata": {
    "collapsed": false
   },
   "outputs": [
    {
     "name": "stdout",
     "output_type": "stream",
     "text": [
      "Precision: 95.06%\n",
      "Recall: 80.21%\n",
      "F-score: 0.87\n",
      "\n",
      "Número de predições: 100\n",
      "Acertos: 77 (77.0%)\n",
      "Falso negativo: 19 (19.0%)\n",
      "Falso positivo: 4 (4.0%)\n",
      "\n",
      "Cluster 1\n",
      "\n",
      "Objetos: 14\n",
      "Accuracy: 95.0%\n",
      "Precision: 90.91%\n",
      "Recall: 71.43%\n",
      "F-score: 0.8\n",
      "\n",
      "Acerto positivo: 10 (71.43%)\n",
      "Acerto negativo: 85 (98.84%)\n",
      "Falso negativo: 4 (21.05%)\n",
      "Falso positivo: 1 (25.0%)\n",
      "\n",
      "Cluster 2\n",
      "\n",
      "Objetos: 47\n",
      "Accuracy: 78.0%\n",
      "Precision: 82.05%\n",
      "Recall: 68.09%\n",
      "F-score: 0.74\n",
      "\n",
      "Acerto positivo: 32 (68.09%)\n",
      "Acerto negativo: 46 (86.79%)\n",
      "Falso negativo: 15 (78.95%)\n",
      "Falso positivo: 7 (175.0%)\n",
      "\n",
      "Cluster 3\n",
      "\n",
      "Objetos: 39\n",
      "Accuracy: 81.0%\n",
      "Precision: 70.0%\n",
      "Recall: 89.74%\n",
      "F-score: 0.79\n",
      "\n",
      "Acerto positivo: 35 (89.74%)\n",
      "Acerto negativo: 46 (75.41%)\n",
      "Falso negativo: 4 (21.05%)\n",
      "Falso positivo: 15 (375.0%)\n"
     ]
    }
   ],
   "source": [
    "function pcenter_approx(dataset, k)\n",
    "    assignments = pcenter(dataset, k)\n",
    "    centermap = Clustering.mapping(dataset, assignments, k)\n",
    "    map(c -> centermap[c], assignments)\n",
    "end\n",
    "\n",
    "let\n",
    "    n = 100\n",
    "    k = 3\n",
    "    c = 16\n",
    "    c_y = 3\n",
    "\n",
    "    tiny = Clustering.Dataset(size=n, groups=k, features=c, slot=c_y)\n",
    "\n",
    "    prediction = pcenter_approx(tiny, k)\n",
    "    Clustering.evaluation_summary(tiny, prediction)\n",
    "end"
   ]
  }
 ],
 "metadata": {
  "kernelspec": {
   "display_name": "Julia 0.4.3",
   "language": "julia",
   "name": "julia-0.4"
  },
  "language_info": {
   "file_extension": ".jl",
   "mimetype": "application/julia",
   "name": "julia",
   "version": "0.4.3"
  }
 },
 "nbformat": 4,
 "nbformat_minor": 0
}
