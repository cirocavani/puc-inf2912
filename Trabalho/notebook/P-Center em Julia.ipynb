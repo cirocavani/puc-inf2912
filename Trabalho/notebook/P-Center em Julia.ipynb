{
 "cells": [
  {
   "cell_type": "markdown",
   "metadata": {},
   "source": [
    "# Trabalho de Implementação\n",
    "\n",
    "## INF2912 - Otimização Combinatória\n",
    "### Prof. Marcus Vinicius Soledade Poggi de Aragão\n",
    "### 2015-2\n",
    "\n",
    "### Ciro Cavani\n",
    "#### BigData / Globo.com\n",
    "\n",
    "Algoritmos de clusterização."
   ]
  },
  {
   "cell_type": "markdown",
   "metadata": {},
   "source": [
    "## Conteúdo\n",
    "\n",
    "Esse notebook tem o desenvolvimento e avaliação do algoritmo aproximado do P-Center (algoritmo Farthest-first traversal).\n",
    "\n",
    "A avaliação do algoritmo é baseada em um mapeamento entre a maioria dos itens que foram atribuídos a um determinado cluster e o correspondente os valores verdadeiros gerados nesse cluster.\n",
    "\n",
    "O P-Center teve resultados muito bons."
   ]
  },
  {
   "cell_type": "markdown",
   "metadata": {},
   "source": [
    "## Dataset"
   ]
  },
  {
   "cell_type": "code",
   "execution_count": 1,
   "metadata": {
    "collapsed": false
   },
   "outputs": [
    {
     "data": {
      "text/plain": [
       "Inf2912Clustering"
      ]
     },
     "execution_count": 1,
     "metadata": {},
     "output_type": "execute_result"
    }
   ],
   "source": [
    "include(\"../src/clustering.jl\")\n",
    "import Inf2912Clustering\n",
    "const Clustering = Inf2912Clustering"
   ]
  },
  {
   "cell_type": "code",
   "execution_count": 2,
   "metadata": {
    "collapsed": false
   },
   "outputs": [
    {
     "name": "stdout",
     "output_type": "stream",
     "text": [
      "Number of Groups: 3\n",
      "Number of Features: 16\n",
      "Number of Features (group): 3\n",
      "Probability of Activation: 0.8\n",
      "Number of Objects (total): 100\n",
      "Number of Objects per Group (min): 20\n",
      "Number of Objects per Group (max): 40\n",
      "Number of Objects in 1: 36\n",
      "Number of Objects in 2: 34\n",
      "Number of Objects in 3: 30\n"
     ]
    }
   ],
   "source": [
    "dataset = Clustering.dataset_tiny()\n",
    "Clustering.summary(dataset)\n",
    "sleep(0.2)"
   ]
  },
  {
   "cell_type": "markdown",
   "metadata": {},
   "source": [
    "### P-Center - Problema de Localização de Centróides\n",
    "\n",
    "Consiste em resolver o *P-Center* determinar os objetos representantes de cada grupo e classificar cada objeto como sendo do grupo com representante *mais próximo*\n",
    "\n",
    "https://en.wikipedia.org/wiki/Metric_k-center\n",
    "\n",
    "https://en.wikipedia.org/wiki/Farthest-first_traversal\n"
   ]
  },
  {
   "cell_type": "code",
   "execution_count": 3,
   "metadata": {
    "collapsed": false
   },
   "outputs": [
    {
     "data": {
      "text/plain": [
       "100-element Array{Int64,1}:\n",
       " 2\n",
       " 3\n",
       " 1\n",
       " 1\n",
       " 2\n",
       " 1\n",
       " 2\n",
       " 1\n",
       " 1\n",
       " 2\n",
       " 1\n",
       " 2\n",
       " 1\n",
       " ⋮\n",
       " 1\n",
       " 3\n",
       " 1\n",
       " 1\n",
       " 2\n",
       " 2\n",
       " 2\n",
       " 1\n",
       " 1\n",
       " 1\n",
       " 1\n",
       " 2"
      ]
     },
     "execution_count": 3,
     "metadata": {},
     "output_type": "execute_result"
    }
   ],
   "source": [
    "let\n",
    "    k = 3\n",
    "    data = map(first, dataset.data)\n",
    "    \n",
    "    centers = Array(Array{Int64,1}, 0)\n",
    "    i = rand(1:length(data))\n",
    "    push!(centers, data[i])\n",
    "    \n",
    "    min_dist(v) = minimum(map(c -> norm(c - v), centers))\n",
    "    max_index() = indmax(map(min_dist, data))\n",
    "    \n",
    "    while length(centers) < k\n",
    "        i = max_index()\n",
    "        push!(centers, data[i])\n",
    "    end\n",
    "    \n",
    "    cluster(v) = indmin(map(c -> norm(c - v), centers))\n",
    "    \n",
    "    assignments = zeros(Int, length(data))\n",
    "    for (i, v) in enumerate(data)\n",
    "        assignments[i] = cluster(v)\n",
    "    end\n",
    "    \n",
    "    assignments\n",
    "end"
   ]
  },
  {
   "cell_type": "code",
   "execution_count": 4,
   "metadata": {
    "collapsed": false
   },
   "outputs": [
    {
     "data": {
      "text/plain": [
       "100-element Array{Int64,1}:\n",
       " 1\n",
       " 1\n",
       " 3\n",
       " 2\n",
       " 2\n",
       " 3\n",
       " 2\n",
       " 2\n",
       " 2\n",
       " 3\n",
       " 3\n",
       " 1\n",
       " 2\n",
       " ⋮\n",
       " 1\n",
       " 3\n",
       " 1\n",
       " 1\n",
       " 2\n",
       " 3\n",
       " 2\n",
       " 1\n",
       " 3\n",
       " 2\n",
       " 2\n",
       " 3"
      ]
     },
     "execution_count": 4,
     "metadata": {},
     "output_type": "execute_result"
    }
   ],
   "source": [
    "\"Algoritmo de clusterização P-Center (algoritmo Farthest-first traversal).\"\n",
    "function pcenter(dataset, k)\n",
    "    data = map(first, dataset.data)\n",
    "    \n",
    "    centers = Array(Array{Int64,1}, 0)\n",
    "    i = rand(1:length(data))\n",
    "    push!(centers, data[i])\n",
    "    \n",
    "    min_dist(v) = minimum(map(c -> norm(c - v), centers))\n",
    "    max_index() = indmax(map(min_dist, data))\n",
    "    \n",
    "    while length(centers) < k\n",
    "        i = max_index()\n",
    "        push!(centers, data[i])\n",
    "    end\n",
    "    \n",
    "    cluster(v) = indmin(map(c -> norm(c - v), centers))\n",
    "    \n",
    "    assignments = zeros(Int, length(data))\n",
    "    for (i, v) in enumerate(data)\n",
    "        assignments[i] = cluster(v)\n",
    "    end\n",
    "    \n",
    "    assignments\n",
    "end\n",
    "\n",
    "pcenter(dataset, 3)"
   ]
  },
  {
   "cell_type": "code",
   "execution_count": 8,
   "metadata": {
    "collapsed": false
   },
   "outputs": [
    {
     "name": "stdout",
     "output_type": "stream",
     "text": [
      "Matriz de Confusão:\n",
      "\n",
      "[25 4 7\n",
      " 6 24 4\n",
      " 2 1 27]\n",
      "\n",
      "Tamanho: 100\n",
      "Acertos: 76\n",
      "Erros: 24\n",
      "Accuracy: 76.0%\n",
      "\n",
      "Cluster 1\n",
      "\n",
      "Tamanho: 36\n",
      "Accuracy: 81.0%\n",
      "Precision: 75.76%\n",
      "Recall: 69.44%\n",
      "F-score: 0.72\n",
      "\n",
      "Acerto positivo: 25 (69.44%)\n",
      "Acerto negativo: 56 (87.5%)\n",
      "Falso negativo: 11 (45.83%)\n",
      "Falso positivo: 8 (33.33%)\n",
      "\n",
      "Cluster 2\n",
      "\n",
      "Tamanho: 34\n",
      "Accuracy: 85.0%\n",
      "Precision: 82.76%\n",
      "Recall: 70.59%\n",
      "F-score: 0.76\n",
      "\n",
      "Acerto positivo: 24 (70.59%)\n",
      "Acerto negativo: 61 (92.42%)\n",
      "Falso negativo: 10 (41.67%)\n",
      "Falso positivo: 5 (20.83%)\n",
      "\n",
      "Cluster 3\n",
      "\n",
      "Tamanho: 30\n",
      "Accuracy: 86.0%\n",
      "Precision: 71.05%\n",
      "Recall: 90.0%\n",
      "F-score: 0.79\n",
      "\n",
      "Acerto positivo: 27 (90.0%)\n",
      "Acerto negativo: 59 (84.29%)\n",
      "Falso negativo: 3 (12.5%)\n",
      "Falso positivo: 11 (45.83%)\n",
      "\n"
     ]
    }
   ],
   "source": [
    "import Clustering.mapping\n",
    "\n",
    "\"Algoritmo de clusterização P-Center (algoritmo Farthest-first traversal) \\\n",
    "aproximado para os grupos pré-definidos do dataset.\"\n",
    "function pcenter_approx(dataset, k)\n",
    "    assignments = pcenter(dataset, k)\n",
    "    centermap = mapping(dataset, assignments, k)\n",
    "    map(c -> centermap[c], assignments)\n",
    "end\n",
    "\n",
    "let\n",
    "    k = dataset.groups\n",
    "    prediction = pcenter_approx(dataset, k)\n",
    "    Clustering.evaluation_summary(dataset, prediction; verbose=true)\n",
    "    sleep(0.2)\n",
    "end"
   ]
  },
  {
   "cell_type": "code",
   "execution_count": 6,
   "metadata": {
    "collapsed": false
   },
   "outputs": [
    {
     "name": "stdout",
     "output_type": "stream",
     "text": [
      "  0.014421 seconds (37.55 k allocations: 11.260 MB)\n",
      "Matriz de Confusão:\n",
      "\n",
      "[407 0 1\n",
      " 0 304 0\n",
      " 0 1 287]\n",
      "\n",
      "Tamanho: 1000\n",
      "Acertos: 998\n",
      "Erros: 2\n",
      "Accuracy: 99.8%\n",
      "\n",
      "Cluster 1\n",
      "\n",
      "Tamanho: 408\n",
      "Accuracy: 99.9%\n",
      "Precision: 100.0%\n",
      "Recall: 99.75%\n",
      "F-score: 1.0\n",
      "\n",
      "Acerto positivo: 407 (99.75%)\n",
      "Acerto negativo: 592 (100.0%)\n",
      "Falso negativo: 1 (50.0%)\n",
      "Falso positivo: 0 (0.0%)\n",
      "\n",
      "Cluster 2\n",
      "\n",
      "Tamanho: 304\n",
      "Accuracy: 99.9%\n",
      "Precision: 99.67%\n",
      "Recall: 100.0%\n",
      "F-score: 1.0\n",
      "\n",
      "Acerto positivo: 304 (100.0%)\n",
      "Acerto negativo: 695 (99.86%)\n",
      "Falso negativo: 0 (0.0%)\n",
      "Falso positivo: 1 (50.0%)\n",
      "\n",
      "Cluster 3\n",
      "\n",
      "Tamanho: 288\n",
      "Accuracy: 99.8%\n",
      "Precision: 99.65%\n",
      "Recall: 99.65%\n",
      "F-score: 1.0\n",
      "\n",
      "Acerto positivo: 287 (99.65%)\n",
      "Acerto negativo: 711 (99.86%)\n",
      "Falso negativo: 1 (50.0%)\n",
      "Falso positivo: 1 (50.0%)\n",
      "\n"
     ]
    }
   ],
   "source": [
    "Clustering.test_dataset(\"small\", pcenter_approx)\n",
    "sleep(0.2)"
   ]
  },
  {
   "cell_type": "code",
   "execution_count": 7,
   "metadata": {
    "collapsed": false
   },
   "outputs": [
    {
     "name": "stdout",
     "output_type": "stream",
     "text": [
      "  0.200351 seconds (415.56 k allocations: 113.177 MB, 39.55% gc time)\n",
      "Matriz de Confusão:\n",
      "\n",
      "[2295 3 1\n",
      " 5 3298 8\n",
      " 5 1 4384]\n",
      "\n",
      "Tamanho: 10000\n",
      "Acertos: 9977\n",
      "Erros: 23\n",
      "Accuracy: 99.77%\n",
      "\n",
      "Cluster 1\n",
      "\n",
      "Tamanho: 2299\n",
      "Accuracy: 99.86%\n",
      "Precision: 99.57%\n",
      "Recall: 99.83%\n",
      "F-score: 1.0\n",
      "\n",
      "Acerto positivo: 2295 (99.83%)\n",
      "Acerto negativo: 7691 (99.87%)\n",
      "Falso negativo: 4 (17.39%)\n",
      "Falso positivo: 10 (43.48%)\n",
      "\n",
      "Cluster 2\n",
      "\n",
      "Tamanho: 3311\n",
      "Accuracy: 99.83%\n",
      "Precision: 99.88%\n",
      "Recall: 99.61%\n",
      "F-score: 1.0\n",
      "\n",
      "Acerto positivo: 3298 (99.61%)\n",
      "Acerto negativo: 6685 (99.94%)\n",
      "Falso negativo: 13 (56.52%)\n",
      "Falso positivo: 4 (17.39%)\n",
      "\n",
      "Cluster 3\n",
      "\n",
      "Tamanho: 4390\n",
      "Accuracy: 99.85%\n",
      "Precision: 99.8%\n",
      "Recall: 99.86%\n",
      "F-score: 1.0\n",
      "\n",
      "Acerto positivo: 4384 (99.86%)\n",
      "Acerto negativo: 5601 (99.84%)\n",
      "Falso negativo: 6 (26.09%)\n",
      "Falso positivo: 9 (39.13%)\n",
      "\n"
     ]
    }
   ],
   "source": [
    "Clustering.test_dataset(\"large\", pcenter_approx)\n",
    "sleep(0.2)"
   ]
  }
 ],
 "metadata": {
  "kernelspec": {
   "display_name": "Julia 0.4.3",
   "language": "julia",
   "name": "julia-0.4"
  },
  "language_info": {
   "file_extension": ".jl",
   "mimetype": "application/julia",
   "name": "julia",
   "version": "0.4.3"
  }
 },
 "nbformat": 4,
 "nbformat_minor": 0
}
