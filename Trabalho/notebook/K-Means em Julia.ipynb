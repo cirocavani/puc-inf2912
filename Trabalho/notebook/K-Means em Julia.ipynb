{
 "cells": [
  {
   "cell_type": "markdown",
   "metadata": {
    "collapsed": false
   },
   "source": [
    "Problema:\n",
    "\n",
    "Propor um classificador que identifique o grupo de cada objeto.\n",
    "\n",
    "Dados:\n",
    "\n",
    "* $g$: número de grupos diferentes\n",
    "* $n$: número de objetos (não necessariamente diferentes)\n",
    "* $n_{min}$: número mínimo de objetos em um grupo\n",
    "* $n_{max}$: número máximo de objetos em um grupo\n",
    "\n",
    "Para cada Objeto:\n",
    "\n",
    "* $c$: número de características binárias\n",
    "* $c_y$: número de características de um determinado grupo\n",
    "* $c_n$: número de características dos demais grupos ($c_n = c_y (g - 1)$)\n",
    "* $p$: probabilidade de ativação das características de um grupo ($p > 0.5$)\n",
    "* $1 - p$: probabilidade de ativação das características dos demais grupos\n",
    "* $p' = 0.5$: probabilidade de ativação das características que não são de qualquer grupo\n",
    "* (as características de cada grupo não tem interseção)"
   ]
  },
  {
   "cell_type": "markdown",
   "metadata": {},
   "source": [
    "## Gerador de Instância"
   ]
  },
  {
   "cell_type": "code",
   "execution_count": 1,
   "metadata": {
    "collapsed": false
   },
   "outputs": [
    {
     "data": {
      "text/plain": [
       "oc152_t_instance_generator (generic function with 1 method)"
      ]
     },
     "execution_count": 1,
     "metadata": {},
     "output_type": "execute_result"
    }
   ],
   "source": [
    "\"gera a distribuição de objetos para os grupos\"\n",
    "function group_size(g, n, n_min, n_max)\n",
    "    num_g = Array(Int, g)\n",
    "    sum = 0\n",
    "    for i=1:g\n",
    "        num_g[i] = rand(n_min:n_max)\n",
    "        sum += num_g[i]\n",
    "    end\n",
    "    correct = n / sum\n",
    "    sum = 0\n",
    "    for i=1:g\n",
    "        num_g[i] = round(Int, num_g[i] * correct)\n",
    "        sum += num_g[i]\n",
    "    end\n",
    "    if sum < n\n",
    "        num_g[g] += 1\n",
    "    end\n",
    "    num_g\n",
    "end\n",
    "\n",
    "\"máscara de características para cada grupo sem interseção\"\n",
    "function group_mask(g, c, c_y)\n",
    "    char_g = fill(-1, c)\n",
    "    index = 1\n",
    "    for i=1:g, j=1:c_y\n",
    "        char_g[index] = i\n",
    "        index += 1\n",
    "    end\n",
    "    char_g\n",
    "end\n",
    "\n",
    "\"\"\"gera objetos para grupos seguindo a distribuição num_g,\n",
    "a máscara char_g e a probabilidade p de ativação\"\"\"\n",
    "function generate_data(num_g, char_g, p)\n",
    "    data = Array(Tuple{Array{Int,1},Int}, 0)\n",
    "    for i=1:length(num_g),j=1:num_g[i]\n",
    "        vect = zeros(Int, length(char_g))\n",
    "        for k=1:length(vect)\n",
    "            if char_g[k] == i\n",
    "                vect[k] = rand() < p ? 1 : 0\n",
    "            elseif char_g[k] != -1\n",
    "                vect[k] = rand() < 1 - p ? 1 : 0\n",
    "            else\n",
    "                vect[k] = rand() < 0.5 ? 1 : 0\n",
    "            end\n",
    "        end\n",
    "        push!(data, (vect, i))\n",
    "    end\n",
    "    data\n",
    "end\n",
    "\n",
    "\"gerador de instâncias para o problema de clusterização\"\n",
    "function oc152_t_instance_generator(n, c, c_y, p, g, n_min, n_max)\n",
    "    num_g = group_size(g, n, n_min, n_max)\n",
    "    char_g = group_mask(g, c, c_y)\n",
    "    data = generate_data(num_g, char_g, p)\n",
    "    data\n",
    "end"
   ]
  },
  {
   "cell_type": "code",
   "execution_count": 2,
   "metadata": {
    "collapsed": false
   },
   "outputs": [
    {
     "data": {
      "text/plain": [
       "data (generic function with 1 method)"
      ]
     },
     "execution_count": 2,
     "metadata": {},
     "output_type": "execute_result"
    }
   ],
   "source": [
    "function data(;n = 20, n_min = 0, n_max = 0, g = 5, c = 16, c_y = 3, p = 0.8)\n",
    "    if n < 10\n",
    "        println(\"minimum 10\")\n",
    "        return nothing\n",
    "    end\n",
    "    if g > n\n",
    "        println(\"too many groups\")\n",
    "        return nothing\n",
    "    end\n",
    "    if c < g * c_y\n",
    "        println(\"c_y too big\")\n",
    "        return nothing\n",
    "    end\n",
    "    \n",
    "    if n_max == 0\n",
    "        n_max = 2 * round(Int, n / g)\n",
    "    end\n",
    "    if n_min == 0\n",
    "        n_min = round(Int, n_max / 10)\n",
    "    end\n",
    "    if n_max * g < n\n",
    "        println(\"n_max too tight\")\n",
    "        return nothing\n",
    "    end\n",
    "    \n",
    "    data = oc152_t_instance_generator(n, c, c_y, p, g, n_min, n_max)\n",
    "    shuffle!(data)\n",
    "end"
   ]
  },
  {
   "cell_type": "markdown",
   "metadata": {},
   "source": [
    "### K-Means\n",
    "\n",
    "Consiste em executar o algoritmo *K-means* determinar os pontos *centrais* de cada grupo e classificar cada objeto como sendo do grupo com ponto central *mais próximo*"
   ]
  },
  {
   "cell_type": "markdown",
   "metadata": {},
   "source": [
    "#### Algoritmo Iterativo\n",
    "\n",
    "1. Choose $k$ cluster centers randomly generated in a domain containing all the points,\n",
    "2. Assign each point to the closest cluster center,\n",
    "3. Recompute the cluster centers using the current cluster memberships,\n",
    "4. If a convergence criterion is met, stop; Otherwise go to step 2."
   ]
  },
  {
   "cell_type": "code",
   "execution_count": 3,
   "metadata": {
    "collapsed": false
   },
   "outputs": [
    {
     "name": "stdout",
     "output_type": "stream",
     "text": [
      "Número de grupos: 5\n",
      "Número de objetos: 20\n",
      "Número de iterações: 2\n",
      "Group 1: (3) [0,0,2,0,1]\n",
      "Group 2: (3) [1,0,2,2,0]\n",
      "Group 3: (1) [2,2,0,0,1]\n",
      "Group 4: (4) [0,0,0,2,0]\n",
      "Group 5: (3) [0,0,3,1,1]\n"
     ]
    }
   ],
   "source": [
    "n = 20\n",
    "k = 5\n",
    "train_data = data(n = n, g = k)\n",
    "\n",
    "inputs = map(v -> float(v[1]), train_data)\n",
    "\n",
    "# inicialização com amostragem sem reposição de k objetos como centros iniciais\n",
    "means = map(i -> inputs[i], randperm(length(inputs))[1:k])\n",
    "\n",
    "\"função que calcula o índice do centro de menor distância de v\"\n",
    "classify(v) = indmin(map(c -> norm(c - v), means))\n",
    "\n",
    "assignments = nothing\n",
    "iters = 0\n",
    "\n",
    "while true\n",
    "    iters += 1\n",
    "    # calcula o centro associado a cada objeto\n",
    "    new_assignments = map(classify, inputs)\n",
    "    \n",
    "    # encerra o processamento se não tiver mudança com a última iteração\n",
    "    assignments == new_assignments && break\n",
    "    \n",
    "    # recalcula os centros como a média dos pontos do último agrupamento\n",
    "    assignments = new_assignments\n",
    "\n",
    "    #println(\"Centros \", iters, \": \", means)\n",
    "    #println(\"Agrupamentos \", iters, \": \", new_assignments)\n",
    "    \n",
    "    for i=1:k\n",
    "        # lista todos os objetos do i-ésimo agrupamento\n",
    "        i_points = map(ii -> inputs[ii], findin(assignments, i))\n",
    "        \n",
    "        isempty(i_points) && continue\n",
    "        means[i] = mean(i_points)\n",
    "    end\n",
    "end\n",
    "\n",
    "println(\"Número de grupos: \", k)\n",
    "println(\"Número de objetos: \", length(inputs))\n",
    "println(\"Número de iterações: \", iters)\n",
    "\n",
    "groups = map(v -> v[2], train_data)\n",
    "for i=1:k\n",
    "    g_index = findin(groups, i)\n",
    "    centers = map(i -> assignments[i], g_index)\n",
    "    counts = hist(centers, 0:k)[2]\n",
    "    println(\"Group \", i, \": (\", indmax(counts), \") \", counts)\n",
    "end\n",
    "sleep(0.2)"
   ]
  },
  {
   "cell_type": "markdown",
   "metadata": {},
   "source": [
    "#### Mixed Integer Programming with Nonlinear Objective\n",
    "\n",
    "$$\n",
    "\\begin{align}\n",
    "\\text{minimize} \\qquad & \\sum_{j=1}^{k}\\sum_{i=1}^{n} x_{ij} || s_i - c_j||^2 \\\\\n",
    " \\text{subject to} \\quad \\quad & \\sum_{j=1}^{k} x_{ij} = 1 & i = 1, \\ldots, n \\\\\n",
    " \\qquad \\qquad & \\sum_{i=1}^{n} x_{ij} \\ge 1 & j = 1, \\ldots, k \\\\\n",
    " \\qquad \\qquad & x_{ij} \\in \\{0, 1\\} & i = 1, \\ldots, n; j = 1, \\ldots, k \\\\\n",
    "\\end{align}\n",
    "$$\n",
    "\n",
    "$$\n",
    "\\begin{align}\n",
    "c_j = \\frac{\\sum_{l=1}^{n} x_{lj} s_l}{\\sum_{l=1}^{n} x_{lj}}\n",
    "\\end{align}\n",
    "$$"
   ]
  },
  {
   "cell_type": "code",
   "execution_count": 118,
   "metadata": {
    "collapsed": false
   },
   "outputs": [],
   "source": [
    "using JuMP\n",
    "\n",
    "S = inputs\n",
    "c = 16\n",
    "\n",
    "# function dist2(i,j)\n",
    "#     C = S[1]\n",
    "#     cx = x[1,j]\n",
    "#     for l=2:n\n",
    "#         C += x[l,j] * S[l]\n",
    "#         cx += x[l,j]\n",
    "#     end\n",
    "#     V = S[i] - C / cx\n",
    "#     V ̇⋅ V\n",
    "# end\n",
    "\n",
    "m = Model()\n",
    "\n",
    "@defVar(m, x[1:n,1:k] ≥ 0, Bin)\n",
    "@defVar(m, d2[1:n,1:k] ≥ 0)\n",
    "@defVar(m, cs[1:k,1:c] ≥ 0)\n",
    "@defVar(m, cx[1:k] ≥ 0)\n",
    "\n",
    "for j=1:k\n",
    "    @addConstraint(m, cx[j] == sum{x[l,j], l=1:n})\n",
    "end\n",
    "\n",
    "for j=1:k, t=1:c\n",
    "    @addConstraint(m, cs[j,t] == sum{x[l,j] * S[l][t], l=1:n})\n",
    "end\n",
    "\n",
    "for i=1:n, j=1:k\n",
    "    @addNLConstraint(m, d2[i,j] == sum{(S[i][t] - cs[j,t] / cx[j])^2, t=1:c})\n",
    "end\n",
    "\n",
    "@setObjective(m, Min, sum{x[i,j] * d2[i, j], i=1:n, j=1:k})\n",
    "\n",
    "\n",
    "for i=1:n\n",
    "    @addConstraint(m, sum{x[i,j], j=1:k} == 1)\n",
    "end\n",
    "\n",
    "for j=1:k\n",
    "    @addConstraint(m, sum{x[i,j], i=1:n} ≥ 1)\n",
    "end\n",
    "\n",
    "m;"
   ]
  },
  {
   "cell_type": "code",
   "execution_count": 119,
   "metadata": {
    "collapsed": false
   },
   "outputs": [
    {
     "ename": "LoadError",
     "evalue": "LoadError: MethodError: `NonlinearModel` has no method matching NonlinearModel(::Cbc.CbcMathProgSolverInterface.CbcSolver)\nwhile loading In[119], in expression starting on line 1",
     "output_type": "error",
     "traceback": [
      "LoadError: MethodError: `NonlinearModel` has no method matching NonlinearModel(::Cbc.CbcMathProgSolverInterface.CbcSolver)\nwhile loading In[119], in expression starting on line 1",
      "",
      " in _buildInternalModel_nlp at /home/cavani/.julia/v0.4/JuMP/src/nlp.jl:518",
      " in buildInternalModel at /home/cavani/.julia/v0.4/JuMP/src/solvers.jl:247",
      " in solve at /home/cavani/.julia/v0.4/JuMP/src/solvers.jl:81"
     ]
    }
   ],
   "source": [
    "solve(m)"
   ]
  },
  {
   "cell_type": "code",
   "execution_count": 112,
   "metadata": {
    "collapsed": false
   },
   "outputs": [
    {
     "data": {
      "text/plain": [
       "20x5 Array{Float64,2}:\n",
       " 0.2  0.2  0.2  0.2  0.2\n",
       " 0.2  0.2  0.2  0.2  0.2\n",
       " 0.2  0.2  0.2  0.2  0.2\n",
       " 0.2  0.2  0.2  0.2  0.2\n",
       " 0.2  0.2  0.2  0.2  0.2\n",
       " 0.2  0.2  0.2  0.2  0.2\n",
       " 0.2  0.2  0.2  0.2  0.2\n",
       " 0.2  0.2  0.2  0.2  0.2\n",
       " 0.2  0.2  0.2  0.2  0.2\n",
       " 0.2  0.2  0.2  0.2  0.2\n",
       " 0.2  0.2  0.2  0.2  0.2\n",
       " 0.2  0.2  0.2  0.2  0.2\n",
       " 0.2  0.2  0.2  0.2  0.2\n",
       " 0.2  0.2  0.2  0.2  0.2\n",
       " 0.2  0.2  0.2  0.2  0.2\n",
       " 0.2  0.2  0.2  0.2  0.2\n",
       " 0.2  0.2  0.2  0.2  0.2\n",
       " 0.2  0.2  0.2  0.2  0.2\n",
       " 0.2  0.2  0.2  0.2  0.2\n",
       " 0.2  0.2  0.2  0.2  0.2"
      ]
     },
     "execution_count": 112,
     "metadata": {},
     "output_type": "execute_result"
    }
   ],
   "source": [
    "getValue(x)"
   ]
  },
  {
   "cell_type": "markdown",
   "metadata": {},
   "source": [
    "#### Approximate Semidefinite programming (SDP) relaxation\n",
    "\n",
    "$$\n",
    "\\begin{align}\n",
    "\\text{minimize} \\qquad & Tr(W(I-Z)) \\\\\n",
    " \\text{subject to} \\quad \\quad & Ze = e \\\\\n",
    " \\qquad \\qquad & Tr(Z) = k \\\\\n",
    " \\qquad \\qquad & Z \\succeq 0\\\\\n",
    "\\end{align}\n",
    "$$\n",
    "\n",
    "$$\n",
    "\\begin{align}\n",
    "W_{ij} = \\phi(s_i,s_j) = exp^{-\\frac{||s_i-s_j||^2}{\\sigma}}, \\sigma > 0\n",
    "\\end{align}\n",
    "$$"
   ]
  },
  {
   "cell_type": "code",
   "execution_count": null,
   "metadata": {
    "collapsed": false
   },
   "outputs": [],
   "source": [
    "using JuMP\n",
    "\n",
    "p = length(inputs)\n",
    "\n",
    "W = zeros(p,p)\n",
    "for i=1:p, j=i+1:p\n",
    "    dist = exp(-norm(inputs[i] - inputs[j])/1.0)\n",
    "    W[i,j] = dist\n",
    "    W[j,i] = dist\n",
    "end\n",
    "\n",
    "m = Model()\n",
    "\n",
    "@defVar(m, Z[1:p,1:p], SDP)\n",
    "@addConstraint(m, Z .≥ 0)\n",
    "\n",
    "@setObjective(m, Min, trace(W * (eye(p,p) - Z)))\n",
    "\n",
    "@addConstraint(m, Z * ones(p) .== ones(p))\n",
    "\n",
    "@addConstraint(m, trace(Z) == k)\n",
    "\n",
    "solve(m)\n",
    "\n",
    "Z_val = getValue(Z)[:,:]\n",
    "\n",
    "println(\"Raw solution\")\n",
    "println(round(Z_val,4))\n",
    "\n",
    "# A simple rounding scheme\n",
    "which_cluster = zeros(Int,p)\n",
    "num_clusters = 0\n",
    "for i = 1:p\n",
    "    Z_val[i,i] <= 1e-6 && continue\n",
    "\n",
    "    if which_cluster[i] == 0\n",
    "        num_clusters += 1\n",
    "        which_cluster[i] = num_clusters\n",
    "        for j = i+1:p\n",
    "            println(num_clusters, \" \", round(norm(Z_val[i,j] - Z_val[i,i]),2))\n",
    "            if norm(Z_val[i,j] - Z_val[i,i]) <= 1e-1\n",
    "                which_cluster[j] = num_clusters\n",
    "            end\n",
    "        end\n",
    "    end\n",
    "end\n",
    "\n",
    "println(\"Clusters: \", which_cluster)\n",
    "# Print results\n",
    "for cluster = 1:k\n",
    "    println(\"Cluster $cluster\")\n",
    "    for i = 1:p\n",
    "        if which_cluster[i] == cluster\n",
    "            println(i, \"->\", inputs[i])\n",
    "        end\n",
    "    end\n",
    "end\n",
    "\n",
    "sleep(0.2)"
   ]
  }
 ],
 "metadata": {
  "kernelspec": {
   "display_name": "Julia 0.4.3",
   "language": "julia",
   "name": "julia-0.4"
  },
  "language_info": {
   "file_extension": ".jl",
   "mimetype": "application/julia",
   "name": "julia",
   "version": "0.4.3"
  }
 },
 "nbformat": 4,
 "nbformat_minor": 0
}
