{
 "cells": [
  {
   "cell_type": "markdown",
   "metadata": {
    "collapsed": false
   },
   "source": [
    "# Trabalho de Implementação\n",
    "\n",
    "## INF2912 - Otimização Combinatória\n",
    "### Prof. Marcus Vinicius Soledade Poggi de Aragão\n",
    "### 2015-2\n",
    "\n",
    "### Ciro Cavani\n",
    "#### BigData / Globo.com\n",
    "\n",
    "Algoritmos de clusterização."
   ]
  },
  {
   "cell_type": "markdown",
   "metadata": {},
   "source": [
    "## Conteúdo\n",
    "\n",
    "Esse notebook tem o desenvolvimento e avaliação do algoritmo iterativo do K-Means (algoritmo de Lloyd).\n",
    "\n",
    "A avaliação do algoritmo é baseada em um mapeamento entre a maioria dos itens que foram atribuídos a um determinado cluster e o correspondente os valores verdadeiros gerados nesse cluster.\n",
    "\n",
    "O K-Means teve resultados muito bons."
   ]
  },
  {
   "cell_type": "markdown",
   "metadata": {},
   "source": [
    "## Dataset"
   ]
  },
  {
   "cell_type": "code",
   "execution_count": 1,
   "metadata": {
    "collapsed": false
   },
   "outputs": [
    {
     "name": "stdout",
     "output_type": "stream",
     "text": [
      "Number of Groups: 3\n",
      "Number of Features: 200\n",
      "Number of Features (group): 40\n",
      "Probability of Activation: 0.8\n",
      "Number of Objects (total): 100\n",
      "Number of Objects per Group (min): 7\n",
      "Number of Objects per Group (max): 66\n",
      "Number of Objects in 1: 15\n",
      "Number of Objects in 2: 39\n",
      "Number of Objects in 3: 46\n"
     ]
    }
   ],
   "source": [
    "include(\"../src/clustering.jl\")\n",
    "import Inf2912Clustering\n",
    "const Clustering = Inf2912Clustering\n",
    "dataset = Clustering.load_dataset(\"small\")\n",
    "Clustering.summary(dataset)\n",
    "sleep(0.2)"
   ]
  },
  {
   "cell_type": "markdown",
   "metadata": {},
   "source": [
    "## K-Means\n",
    "\n",
    "Consiste em executar o algoritmo *K-means* determinar os pontos *centrais* de cada grupo e classificar cada objeto como sendo do grupo com ponto central *mais próximo*\n",
    "\n",
    "https://en.wikipedia.org/wiki/K-means_clustering"
   ]
  },
  {
   "cell_type": "markdown",
   "metadata": {},
   "source": [
    "### Algoritmo Iterativo\n",
    "\n",
    "1. Choose $k$ cluster centers randomly generated in a domain containing all the points,\n",
    "2. Assign each point to the closest cluster center,\n",
    "3. Recompute the cluster centers using the current cluster memberships,\n",
    "4. If a convergence criterion is met, stop; Otherwise go to step 2."
   ]
  },
  {
   "cell_type": "code",
   "execution_count": 2,
   "metadata": {
    "collapsed": false
   },
   "outputs": [
    {
     "data": {
      "text/plain": [
       "100-element Array{Int64,1}:\n",
       " 1\n",
       " 2\n",
       " 1\n",
       " 1\n",
       " 3\n",
       " 3\n",
       " 1\n",
       " 1\n",
       " 1\n",
       " 1\n",
       " 3\n",
       " 1\n",
       " 1\n",
       " ⋮\n",
       " 1\n",
       " 3\n",
       " 2\n",
       " 3\n",
       " 1\n",
       " 2\n",
       " 3\n",
       " 3\n",
       " 1\n",
       " 3\n",
       " 3\n",
       " 3"
      ]
     },
     "execution_count": 2,
     "metadata": {},
     "output_type": "execute_result"
    }
   ],
   "source": [
    "function kmeans(dataset, k; maxiters=20)\n",
    "    inputs = map(v -> float(v[1]), dataset.data)\n",
    "    \n",
    "    # inicialização com amostragem sem reposição de k objetos como centros iniciais\n",
    "    means = map(i -> inputs[i], randperm(length(inputs))[1:k])\n",
    "\n",
    "    \"função que calcula o índice do centro de menor distância de v\"\n",
    "    classify(v) = indmin(map(c -> norm(c - v), means))\n",
    "\n",
    "    assignments::Array{Int,1} = []\n",
    "    iters = 0\n",
    "\n",
    "    while iters < maxiters\n",
    "        iters += 1\n",
    "\n",
    "        # calcula o centro associado a cada objeto\n",
    "        new_assignments = map(classify, inputs)\n",
    "\n",
    "        # encerra o processamento se não tiver mudança com a última iteração\n",
    "        assignments == new_assignments && break\n",
    "\n",
    "        # recalcula os centros como a média dos pontos do último agrupamento\n",
    "        assignments = new_assignments\n",
    "\n",
    "        #println(\"Centros \", iters, \": \", means)\n",
    "        #println(\"Agrupamentos \", iters, \": \", new_assignments)\n",
    "\n",
    "        for i=1:k\n",
    "            # lista todos os objetos do i-ésimo agrupamento\n",
    "            i_points = map(ii -> inputs[ii], findin(assignments, i))\n",
    "\n",
    "            isempty(i_points) && continue\n",
    "            means[i] = mean(i_points)\n",
    "        end\n",
    "    end\n",
    "\n",
    "    assignments\n",
    "end\n",
    "\n",
    "kmeans(dataset, 3)"
   ]
  },
  {
   "cell_type": "code",
   "execution_count": 3,
   "metadata": {
    "collapsed": false
   },
   "outputs": [
    {
     "name": "stdout",
     "output_type": "stream",
     "text": [
      "Precision: 95.79%\n",
      "Recall: 94.79%\n",
      "F-score: 0.95\n",
      "\n",
      "Número de predições: 100\n",
      "Acertos: 91 (91.0%)\n",
      "Falso negativo: 5 (5.0%)\n",
      "Falso positivo: 4 (4.0%)\n",
      "\n",
      "Cluster 1\n",
      "\n",
      "Objetos: 36\n",
      "Accuracy: 95.0%\n",
      "Precision: 96.97%\n",
      "Recall: 88.89%\n",
      "F-score: 0.93\n",
      "\n",
      "Acerto positivo: 32 (88.89%)\n",
      "Acerto negativo: 63 (98.44%)\n",
      "Falso negativo: 4 (80.0%)\n",
      "Falso positivo: 1 (25.0%)\n",
      "\n",
      "Cluster 2\n",
      "\n",
      "Objetos: 23\n",
      "Accuracy: 92.0%\n",
      "Precision: 77.78%\n",
      "Recall: 91.3%\n",
      "F-score: 0.84\n",
      "\n",
      "Acerto positivo: 21 (91.3%)\n",
      "Acerto negativo: 71 (92.21%)\n",
      "Falso negativo: 2 (40.0%)\n",
      "Falso positivo: 6 (150.0%)\n",
      "\n",
      "Cluster 3\n",
      "\n",
      "Objetos: 41\n",
      "Accuracy: 95.0%\n",
      "Precision: 95.0%\n",
      "Recall: 92.68%\n",
      "F-score: 0.94\n",
      "\n",
      "Acerto positivo: 38 (92.68%)\n",
      "Acerto negativo: 57 (96.61%)\n",
      "Falso negativo: 3 (60.0%)\n",
      "Falso positivo: 2 (50.0%)\n"
     ]
    }
   ],
   "source": [
    "function kmeans_approx(dataset, k)\n",
    "    assignments = kmeans(dataset, k)\n",
    "    centermap = Clustering.mapping(dataset, assignments, k)\n",
    "    map(c -> centermap[c], assignments)\n",
    "end\n",
    "\n",
    "let\n",
    "    n = 100\n",
    "    k = 3\n",
    "    c = 16\n",
    "    c_y = 3\n",
    "\n",
    "    tiny = Clustering.Dataset(size=n, groups=k, features=c, slot=c_y)\n",
    "\n",
    "    prediction = kmeans_approx(tiny, k)\n",
    "    Clustering.evaluation_summary(tiny, prediction)\n",
    "end"
   ]
  }
 ],
 "metadata": {
  "kernelspec": {
   "display_name": "Julia 0.4.3",
   "language": "julia",
   "name": "julia-0.4"
  },
  "language_info": {
   "file_extension": ".jl",
   "mimetype": "application/julia",
   "name": "julia",
   "version": "0.4.3"
  }
 },
 "nbformat": 4,
 "nbformat_minor": 0
}
