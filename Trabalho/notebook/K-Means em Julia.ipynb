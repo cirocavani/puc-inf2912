{
 "cells": [
  {
   "cell_type": "markdown",
   "metadata": {
    "collapsed": false
   },
   "source": [
    "# Trabalho de Implementação\n",
    "\n",
    "## INF2912 - Otimização Combinatória\n",
    "### Prof. Marcus Vinicius Soledade Poggi de Aragão\n",
    "### 2015-2\n",
    "\n",
    "### Ciro Cavani\n",
    "#### BigData / Globo.com\n",
    "\n",
    "Algoritmos de clusterização."
   ]
  },
  {
   "cell_type": "markdown",
   "metadata": {},
   "source": [
    "## Conteúdo\n",
    "\n",
    "Esse notebook tem o desenvolvimento e avaliação do algoritmo iterativo do K-Means (algoritmo de Lloyd).\n",
    "\n",
    "A avaliação do algoritmo é baseada em um mapeamento entre a maioria dos itens que foram atribuídos a um determinado cluster e o correspondente os valores verdadeiros gerados nesse cluster.\n",
    "\n",
    "O K-Means teve resultados muito bons."
   ]
  },
  {
   "cell_type": "markdown",
   "metadata": {},
   "source": [
    "## Dataset"
   ]
  },
  {
   "cell_type": "code",
   "execution_count": 1,
   "metadata": {
    "collapsed": false
   },
   "outputs": [
    {
     "data": {
      "text/plain": [
       "Inf2912Clustering"
      ]
     },
     "execution_count": 1,
     "metadata": {},
     "output_type": "execute_result"
    }
   ],
   "source": [
    "include(\"../src/clustering.jl\")\n",
    "import Inf2912Clustering\n",
    "const Clustering = Inf2912Clustering"
   ]
  },
  {
   "cell_type": "code",
   "execution_count": 2,
   "metadata": {
    "collapsed": false
   },
   "outputs": [
    {
     "name": "stdout",
     "output_type": "stream",
     "text": [
      "Number of Groups: 3\n",
      "Number of Features: 16\n",
      "Number of Features (group): 3\n",
      "Probability of Activation: 0.8\n",
      "Number of Objects (total): 100\n",
      "Number of Objects per Group (min): 20\n",
      "Number of Objects per Group (max): 40\n",
      "Number of Objects in 1: 35\n",
      "Number of Objects in 2: 32\n",
      "Number of Objects in 3: 33\n"
     ]
    }
   ],
   "source": [
    "dataset = Clustering.dataset_tiny()\n",
    "Clustering.summary(dataset)\n",
    "sleep(0.2)"
   ]
  },
  {
   "cell_type": "markdown",
   "metadata": {},
   "source": [
    "## K-Means\n",
    "\n",
    "Consiste em executar o algoritmo *K-means* determinar os pontos *centrais* de cada grupo e classificar cada objeto como sendo do grupo com ponto central *mais próximo*\n",
    "\n",
    "https://en.wikipedia.org/wiki/K-means_clustering"
   ]
  },
  {
   "cell_type": "markdown",
   "metadata": {},
   "source": [
    "### Algoritmo Iterativo\n",
    "\n",
    "1. Choose $k$ cluster centers randomly generated in a domain containing all the points,\n",
    "2. Assign each point to the closest cluster center,\n",
    "3. Recompute the cluster centers using the current cluster memberships,\n",
    "4. If a convergence criterion is met, stop; Otherwise go to step 2."
   ]
  },
  {
   "cell_type": "code",
   "execution_count": 3,
   "metadata": {
    "collapsed": false
   },
   "outputs": [
    {
     "data": {
      "text/plain": [
       "100-element Array{Int64,1}:\n",
       " 2\n",
       " 1\n",
       " 1\n",
       " 3\n",
       " 3\n",
       " 3\n",
       " 1\n",
       " 3\n",
       " 3\n",
       " 2\n",
       " 1\n",
       " 3\n",
       " 2\n",
       " ⋮\n",
       " 1\n",
       " 1\n",
       " 3\n",
       " 2\n",
       " 1\n",
       " 3\n",
       " 2\n",
       " 2\n",
       " 3\n",
       " 3\n",
       " 2\n",
       " 3"
      ]
     },
     "execution_count": 3,
     "metadata": {},
     "output_type": "execute_result"
    }
   ],
   "source": [
    "\"Algoritmo de clusterização K-Means (algoritmo de Lloyd).\"\n",
    "function kmeans(dataset, k; maxiters=20)\n",
    "    inputs = map(v -> float(v[1]), dataset.data)\n",
    "    \n",
    "    # inicialização com amostragem sem reposição de k objetos como centros iniciais\n",
    "    means = map(i -> inputs[i], randperm(length(inputs))[1:k])\n",
    "\n",
    "    # função que calcula o índice do centro de menor distância de v\n",
    "    classify(v) = indmin(map(c -> norm(c - v), means))\n",
    "\n",
    "    assignments::Array{Int,1} = []\n",
    "    iters = 0\n",
    "\n",
    "    while iters < maxiters\n",
    "        iters += 1\n",
    "\n",
    "        # calcula o centro associado a cada objeto\n",
    "        new_assignments = map(classify, inputs)\n",
    "\n",
    "        # encerra o processamento se não tiver mudança com a última iteração\n",
    "        assignments == new_assignments && break\n",
    "\n",
    "        # recalcula os centros como a média dos pontos do último agrupamento\n",
    "        assignments = new_assignments\n",
    "\n",
    "        #println(\"Centros \", iters, \": \", means)\n",
    "        #println(\"Agrupamentos \", iters, \": \", new_assignments)\n",
    "\n",
    "        for i=1:k\n",
    "            # lista todos os objetos do i-ésimo agrupamento\n",
    "            i_points = map(ii -> inputs[ii], findin(assignments, i))\n",
    "\n",
    "            isempty(i_points) && continue\n",
    "            means[i] = mean(i_points)\n",
    "        end\n",
    "    end\n",
    "\n",
    "    assignments\n",
    "end\n",
    "\n",
    "kmeans(dataset, 3)"
   ]
  },
  {
   "cell_type": "code",
   "execution_count": 4,
   "metadata": {
    "collapsed": false
   },
   "outputs": [
    {
     "name": "stdout",
     "output_type": "stream",
     "text": [
      "  0.138747 seconds (140.42 k allocations: 7.028 MB, 5.72% gc time)\n",
      "Matriz de Confusão:\n",
      "\n",
      "[31 2 2\n",
      " 1 27 4\n",
      " 3 1 29]\n",
      "\n",
      "Tamanho: 100\n",
      "Acertos: 87\n",
      "Erros: 13\n",
      "Accuracy: 87.0%\n",
      "\n",
      "Cluster 1\n",
      "\n",
      "Tamanho: 35\n",
      "Accuracy: 92.0%\n",
      "Precision: 88.57%\n",
      "Recall: 88.57%\n",
      "F-score: 0.89\n",
      "\n",
      "Acerto positivo: 31 (88.57%)\n",
      "Acerto negativo: 61 (93.85%)\n",
      "Falso negativo: 4 (30.77%)\n",
      "Falso positivo: 4 (30.77%)\n",
      "\n",
      "Cluster 2\n",
      "\n",
      "Tamanho: 32\n",
      "Accuracy: 92.0%\n",
      "Precision: 90.0%\n",
      "Recall: 84.38%\n",
      "F-score: 0.87\n",
      "\n",
      "Acerto positivo: 27 (84.38%)\n",
      "Acerto negativo: 65 (95.59%)\n",
      "Falso negativo: 5 (38.46%)\n",
      "Falso positivo: 3 (23.08%)\n",
      "\n",
      "Cluster 3\n",
      "\n",
      "Tamanho: 33\n",
      "Accuracy: 90.0%\n",
      "Precision: 82.86%\n",
      "Recall: 87.88%\n",
      "F-score: 0.85\n",
      "\n",
      "Acerto positivo: 29 (87.88%)\n",
      "Acerto negativo: 61 (91.04%)\n",
      "Falso negativo: 4 (30.77%)\n",
      "Falso positivo: 6 (46.15%)\n",
      "\n"
     ]
    }
   ],
   "source": [
    "import Clustering.mapping\n",
    "\n",
    "\"Algoritmo de clusterização K-Means (algoritmo de Lloyd) \\\n",
    "aproximado para os grupos pré-definidos do dataset.\"\n",
    "function kmeans_approx(dataset, k)\n",
    "    assignments = kmeans(dataset, k)\n",
    "    centermap = mapping(dataset, assignments, k)\n",
    "    map(c -> centermap[c], assignments)\n",
    "end\n",
    "\n",
    "let\n",
    "    k = dataset.groups\n",
    "    @time prediction = kmeans_approx(dataset, k)\n",
    "    Clustering.evaluation_summary(dataset, prediction; verbose=true)\n",
    "    sleep(0.2)\n",
    "end"
   ]
  },
  {
   "cell_type": "code",
   "execution_count": 5,
   "metadata": {
    "collapsed": false
   },
   "outputs": [
    {
     "name": "stdout",
     "output_type": "stream",
     "text": [
      "  0.024113 seconds (58.24 k allocations: 28.869 MB, 22.74% gc time)\n",
      "Matriz de Confusão:\n",
      "\n",
      "[359 0 0\n",
      " 0 344 0\n",
      " 0 0 297]\n",
      "\n",
      "Tamanho: 1000\n",
      "Acertos: 1000\n",
      "Erros: 0\n",
      "Accuracy: 100.0%\n",
      "\n",
      "Cluster 1\n",
      "\n",
      "Tamanho: 359\n",
      "Accuracy: 100.0%\n",
      "Precision: 100.0%\n",
      "Recall: 100.0%\n",
      "F-score: 1.0\n",
      "\n",
      "Acerto positivo: 359 (100.0%)\n",
      "Acerto negativo: 641 (100.0%)\n",
      "Falso negativo: 0 (NaN%)\n",
      "Falso positivo: 0 (NaN%)\n",
      "\n",
      "Cluster 2\n",
      "\n",
      "Tamanho: 344\n",
      "Accuracy: 100.0%\n",
      "Precision: 100.0%\n",
      "Recall: 100.0%\n",
      "F-score: 1.0\n",
      "\n",
      "Acerto positivo: 344 (100.0%)\n",
      "Acerto negativo: 656 (100.0%)\n",
      "Falso negativo: 0 (NaN%)\n",
      "Falso positivo: 0 (NaN%)\n",
      "\n",
      "Cluster 3\n",
      "\n",
      "Tamanho: 297\n",
      "Accuracy: 100.0%\n",
      "Precision: 100.0%\n",
      "Recall: 100.0%\n",
      "F-score: 1.0\n",
      "\n",
      "Acerto positivo: 297 (100.0%)\n",
      "Acerto negativo: 703 (100.0%)\n",
      "Falso negativo: 0 (NaN%)\n",
      "Falso positivo: 0 (NaN%)\n",
      "\n"
     ]
    }
   ],
   "source": [
    "Clustering.test_dataset(\"small\", kmeans_approx)\n",
    "sleep(0.2)"
   ]
  },
  {
   "cell_type": "code",
   "execution_count": 6,
   "metadata": {
    "collapsed": false
   },
   "outputs": [
    {
     "name": "stdout",
     "output_type": "stream",
     "text": [
      "  0.219657 seconds (448.74 k allocations: 216.615 MB, 40.77% gc time)\n",
      "Matriz de Confusão:\n",
      "\n",
      "[4086 0 0\n",
      " 0 2899 0\n",
      " 0 0 3015]\n",
      "\n",
      "Tamanho: 10000\n",
      "Acertos: 10000\n",
      "Erros: 0\n",
      "Accuracy: 100.0%\n",
      "\n",
      "Cluster 1\n",
      "\n",
      "Tamanho: 4086\n",
      "Accuracy: 100.0%\n",
      "Precision: 100.0%\n",
      "Recall: 100.0%\n",
      "F-score: 1.0\n",
      "\n",
      "Acerto positivo: 4086 (100.0%)\n",
      "Acerto negativo: 5914 (100.0%)\n",
      "Falso negativo: 0 (NaN%)\n",
      "Falso positivo: 0 (NaN%)\n",
      "\n",
      "Cluster 2\n",
      "\n",
      "Tamanho: 2899\n",
      "Accuracy: 100.0%\n",
      "Precision: 100.0%\n",
      "Recall: 100.0%\n",
      "F-score: 1.0\n",
      "\n",
      "Acerto positivo: 2899 (100.0%)\n",
      "Acerto negativo: 7101 (100.0%)\n",
      "Falso negativo: 0 (NaN%)\n",
      "Falso positivo: 0 (NaN%)\n",
      "\n",
      "Cluster 3\n",
      "\n",
      "Tamanho: 3015\n",
      "Accuracy: 100.0%\n",
      "Precision: 100.0%\n",
      "Recall: 100.0%\n",
      "F-score: 1.0\n",
      "\n",
      "Acerto positivo: 3015 (100.0%)\n",
      "Acerto negativo: 6985 (100.0%)\n",
      "Falso negativo: 0 (NaN%)\n",
      "Falso positivo: 0 (NaN%)\n",
      "\n"
     ]
    }
   ],
   "source": [
    "Clustering.test_dataset(\"large\", kmeans_approx)\n",
    "sleep(0.2)"
   ]
  }
 ],
 "metadata": {
  "kernelspec": {
   "display_name": "Julia 0.4.2",
   "language": "julia",
   "name": "julia-0.4"
  },
  "language_info": {
   "file_extension": ".jl",
   "mimetype": "application/julia",
   "name": "julia",
   "version": "0.4.2"
  }
 },
 "nbformat": 4,
 "nbformat_minor": 0
}
