{
 "cells": [
  {
   "cell_type": "markdown",
   "metadata": {
    "collapsed": false
   },
   "source": [
    "# Trabalho de Implementação\n",
    "\n",
    "## INF2912 - Otimização Combinatória\n",
    "### Prof. Marcus Vinicius Soledade Poggi de Aragão\n",
    "### 2015-2\n",
    "\n",
    "### Ciro Cavani\n",
    "#### BigData / Globo.com\n",
    "\n",
    "Algoritmos de clusterização."
   ]
  },
  {
   "cell_type": "markdown",
   "metadata": {},
   "source": [
    "## Conteúdo\n",
    "\n",
    "Esse notebook tem o desenvolvimento e avaliação do algoritmo iterativo do K-Means (algoritmo de Lloyd).\n",
    "\n",
    "A avaliação do algoritmo é baseada em um mapeamento entre a maioria dos itens que foram atribuídos a um determinado cluster e o correspondente os valores verdadeiros gerados nesse cluster.\n",
    "\n",
    "O K-Means teve resultados muito bons."
   ]
  },
  {
   "cell_type": "markdown",
   "metadata": {},
   "source": [
    "## Dataset"
   ]
  },
  {
   "cell_type": "code",
   "execution_count": 1,
   "metadata": {
    "collapsed": false
   },
   "outputs": [
    {
     "name": "stderr",
     "output_type": "stream",
     "text": [
      "WARNING: type Dataset not present in workspace; reconstructing\n"
     ]
    },
    {
     "ename": "LoadError",
     "evalue": "LoadError: MethodError: `summary` has no method matching summary(::JLD.##Dataset#8091)\nyou may have intended to import Base.summary\nwhile loading In[1], in expression starting on line 5",
     "output_type": "error",
     "traceback": [
      "LoadError: MethodError: `summary` has no method matching summary(::JLD.##Dataset#8091)\nyou may have intended to import Base.summary\nwhile loading In[1], in expression starting on line 5",
      ""
     ]
    }
   ],
   "source": [
    "include(\"../src/clustering.jl\")\n",
    "import Inf2912Clustering\n",
    "const Clustering = Inf2912Clustering\n",
    "dataset = Clustering.load_dataset(\"small\")\n",
    "Clustering.summary(dataset)\n",
    "sleep(0.2)"
   ]
  },
  {
   "cell_type": "markdown",
   "metadata": {},
   "source": [
    "## K-Means\n",
    "\n",
    "Consiste em executar o algoritmo *K-means* determinar os pontos *centrais* de cada grupo e classificar cada objeto como sendo do grupo com ponto central *mais próximo*\n",
    "\n",
    "https://en.wikipedia.org/wiki/K-means_clustering"
   ]
  },
  {
   "cell_type": "markdown",
   "metadata": {},
   "source": [
    "### Algoritmo Iterativo\n",
    "\n",
    "1. Choose $k$ cluster centers randomly generated in a domain containing all the points,\n",
    "2. Assign each point to the closest cluster center,\n",
    "3. Recompute the cluster centers using the current cluster memberships,\n",
    "4. If a convergence criterion is met, stop; Otherwise go to step 2."
   ]
  },
  {
   "cell_type": "code",
   "execution_count": 2,
   "metadata": {
    "collapsed": false
   },
   "outputs": [
    {
     "data": {
      "text/plain": [
       "100-element Array{Int64,1}:\n",
       " 2\n",
       " 2\n",
       " 3\n",
       " 3\n",
       " 1\n",
       " 3\n",
       " 3\n",
       " 2\n",
       " 3\n",
       " 3\n",
       " 3\n",
       " 3\n",
       " 3\n",
       " ⋮\n",
       " 1\n",
       " 3\n",
       " 3\n",
       " 3\n",
       " 3\n",
       " 3\n",
       " 3\n",
       " 3\n",
       " 1\n",
       " 1\n",
       " 3\n",
       " 3"
      ]
     },
     "execution_count": 2,
     "metadata": {},
     "output_type": "execute_result"
    }
   ],
   "source": [
    "function kmeans(dataset, k; maxiters=20)\n",
    "    inputs = map(v -> float(v[1]), dataset.data)\n",
    "    \n",
    "    # inicialização com amostragem sem reposição de k objetos como centros iniciais\n",
    "    means = map(i -> inputs[i], randperm(length(inputs))[1:k])\n",
    "\n",
    "    \"função que calcula o índice do centro de menor distância de v\"\n",
    "    classify(v) = indmin(map(c -> norm(c - v), means))\n",
    "\n",
    "    assignments::Array{Int,1} = []\n",
    "    iters = 0\n",
    "\n",
    "    while iters < maxiters\n",
    "        iters += 1\n",
    "\n",
    "        # calcula o centro associado a cada objeto\n",
    "        new_assignments = map(classify, inputs)\n",
    "\n",
    "        # encerra o processamento se não tiver mudança com a última iteração\n",
    "        assignments == new_assignments && break\n",
    "\n",
    "        # recalcula os centros como a média dos pontos do último agrupamento\n",
    "        assignments = new_assignments\n",
    "\n",
    "        #println(\"Centros \", iters, \": \", means)\n",
    "        #println(\"Agrupamentos \", iters, \": \", new_assignments)\n",
    "\n",
    "        for i=1:k\n",
    "            # lista todos os objetos do i-ésimo agrupamento\n",
    "            i_points = map(ii -> inputs[ii], findin(assignments, i))\n",
    "\n",
    "            isempty(i_points) && continue\n",
    "            means[i] = mean(i_points)\n",
    "        end\n",
    "    end\n",
    "\n",
    "    assignments\n",
    "end\n",
    "\n",
    "kmeans(dataset, 3)"
   ]
  },
  {
   "cell_type": "code",
   "execution_count": 3,
   "metadata": {
    "collapsed": false
   },
   "outputs": [
    {
     "name": "stdout",
     "output_type": "stream",
     "text": [
      "Matriz de Confusão:\n",
      "\n",
      "[9 7 0\n",
      " 2 14 0\n",
      " 17 8 43]\n",
      "\n",
      "Tamanho: 100\n",
      "Acertos: 66\n",
      "Erros: 34\n",
      "Accuracy: 66.0%\n",
      "\n",
      "Cluster 1\n",
      "\n",
      "Tamanho: 16\n",
      "Accuracy: 74.0%\n",
      "Precision: 32.14%\n",
      "Recall: 56.25%\n",
      "F-score: 0.41\n",
      "\n",
      "Acerto positivo: 9 (56.25%)\n",
      "Acerto negativo: 65 (77.38%)\n",
      "Falso negativo: 7 (20.59%)\n",
      "Falso positivo: 19 (55.88%)\n",
      "\n",
      "Cluster 2\n",
      "\n",
      "Tamanho: 16\n",
      "Accuracy: 83.0%\n",
      "Precision: 48.28%\n",
      "Recall: 87.5%\n",
      "F-score: 0.62\n",
      "\n",
      "Acerto positivo: 14 (87.5%)\n",
      "Acerto negativo: 69 (82.14%)\n",
      "Falso negativo: 2 (5.88%)\n",
      "Falso positivo: 15 (44.12%)\n",
      "\n",
      "Cluster 3\n",
      "\n",
      "Tamanho: 68\n",
      "Accuracy: 75.0%\n",
      "Precision: 100.0%\n",
      "Recall: 63.24%\n",
      "F-score: 0.77\n",
      "\n",
      "Acerto positivo: 43 (63.24%)\n",
      "Acerto negativo: 32 (100.0%)\n",
      "Falso negativo: 25 (73.53%)\n",
      "Falso positivo: 0 (0.0%)\n",
      "\n"
     ]
    }
   ],
   "source": [
    "function kmeans_approx(dataset, k)\n",
    "    assignments = kmeans(dataset, k)\n",
    "    centermap = Clustering.mapping(dataset, assignments, k)\n",
    "    map(c -> centermap[c], assignments)\n",
    "end\n",
    "\n",
    "let\n",
    "    n = 100\n",
    "    k = 3\n",
    "    c = 16\n",
    "    c_y = 3\n",
    "\n",
    "    tiny = Clustering.Dataset(size=n, groups=k, features=c, slot=c_y)\n",
    "\n",
    "    prediction = kmeans_approx(tiny, k)\n",
    "    Clustering.evaluation_summary(tiny, prediction; verbose=true)\n",
    "end"
   ]
  }
 ],
 "metadata": {
  "kernelspec": {
   "display_name": "Julia 0.4.3",
   "language": "julia",
   "name": "julia-0.4"
  },
  "language_info": {
   "file_extension": ".jl",
   "mimetype": "application/julia",
   "name": "julia",
   "version": "0.4.3"
  }
 },
 "nbformat": 4,
 "nbformat_minor": 0
}
