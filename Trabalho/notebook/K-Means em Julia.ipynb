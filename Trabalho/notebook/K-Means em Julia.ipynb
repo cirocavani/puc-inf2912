{
 "cells": [
  {
   "cell_type": "markdown",
   "metadata": {
    "collapsed": false
   },
   "source": [
    "# Trabalho de Implementação\n",
    "\n",
    "## INF2912 - Otimização Combinatória\n",
    "### Prof. Marcus Vinicius Soledade Poggi de Aragão\n",
    "### 2015-2\n",
    "\n",
    "### Ciro Cavani\n",
    "#### BigData / Globo.com\n",
    "\n",
    "Algoritmos de clusterização."
   ]
  },
  {
   "cell_type": "markdown",
   "metadata": {},
   "source": [
    "## Conteúdo\n",
    "\n",
    "Esse notebook tem o desenvolvimento e avaliação do algoritmo iterativo do K-Means (algoritmo de Lloyd).\n",
    "\n",
    "A avaliação do algoritmo é baseada em um mapeamento entre a maioria dos itens que foram atribuídos a um determinado cluster e o correspondente os valores verdadeiros gerados nesse cluster.\n",
    "\n",
    "O K-Means teve resultados muito bons."
   ]
  },
  {
   "cell_type": "markdown",
   "metadata": {},
   "source": [
    "## Dataset"
   ]
  },
  {
   "cell_type": "code",
   "execution_count": 1,
   "metadata": {
    "collapsed": false
   },
   "outputs": [
    {
     "name": "stderr",
     "output_type": "stream",
     "text": [
      "WARNING: redefining constant srcdir\n",
      "WARNING: redefining constant default_datasetdir\n"
     ]
    },
    {
     "data": {
      "text/plain": [
       "Inf2912Clustering"
      ]
     },
     "execution_count": 1,
     "metadata": {},
     "output_type": "execute_result"
    }
   ],
   "source": [
    "include(\"../src/clustering.jl\")\n",
    "import Inf2912Clustering\n",
    "const Clustering = Inf2912Clustering"
   ]
  },
  {
   "cell_type": "code",
   "execution_count": 2,
   "metadata": {
    "collapsed": false
   },
   "outputs": [
    {
     "name": "stdout",
     "output_type": "stream",
     "text": [
      "Clusters: 3\n",
      "Dimension (features): 16\n",
      "Features per Cluster: 3\n",
      "Probability of Activation: 0.8\n",
      "\n",
      "Size: 100\n",
      "Min Cluster size: 20\n",
      "Max Cluster size: 40\n",
      "Cluster 1 size: 31\n",
      "Cluster 2 size: 27\n",
      "Cluster 3 size: 42\n"
     ]
    }
   ],
   "source": [
    "dataset = Clustering.dataset_tiny()\n",
    "Clustering.summary(dataset)\n",
    "sleep(0.2)"
   ]
  },
  {
   "cell_type": "markdown",
   "metadata": {},
   "source": [
    "## K-Means\n",
    "\n",
    "Consiste em executar o algoritmo *K-means* determinar os pontos *centrais* de cada grupo e classificar cada objeto como sendo do grupo com ponto central *mais próximo*\n",
    "\n",
    "https://en.wikipedia.org/wiki/K-means_clustering"
   ]
  },
  {
   "cell_type": "markdown",
   "metadata": {},
   "source": [
    "### Algoritmo Iterativo\n",
    "\n",
    "1. Choose $k$ cluster centers randomly generated in a domain containing all the points,\n",
    "2. Assign each point to the closest cluster center,\n",
    "3. Recompute the cluster centers using the current cluster memberships,\n",
    "4. If a convergence criterion is met, stop; Otherwise go to step 2."
   ]
  },
  {
   "cell_type": "code",
   "execution_count": 3,
   "metadata": {
    "collapsed": false
   },
   "outputs": [
    {
     "data": {
      "text/plain": [
       "100-element Array{Int64,1}:\n",
       " 3\n",
       " 2\n",
       " 2\n",
       " 3\n",
       " 1\n",
       " 2\n",
       " 1\n",
       " 3\n",
       " 2\n",
       " 3\n",
       " 3\n",
       " 2\n",
       " 1\n",
       " ⋮\n",
       " 3\n",
       " 2\n",
       " 1\n",
       " 1\n",
       " 2\n",
       " 3\n",
       " 2\n",
       " 2\n",
       " 1\n",
       " 1\n",
       " 2\n",
       " 2"
      ]
     },
     "execution_count": 3,
     "metadata": {},
     "output_type": "execute_result"
    }
   ],
   "source": [
    "import Clustering: Input, Dataset\n",
    "\n",
    "\"Algoritmo de clusterização K-Means (algoritmo de Lloyd).\"\n",
    "function kmeans(input::Input, k::Int; maxiters=20)\n",
    "    inputs = map(v -> float(v), input.data)\n",
    "    \n",
    "    # inicialização com amostragem sem reposição de k objetos como centros iniciais\n",
    "    means = map(i -> inputs[i], randperm(length(inputs))[1:k])\n",
    "\n",
    "    # função que calcula o índice do centro de menor distância de v\n",
    "    classify(v) = indmin(map(c -> norm(c - v), means))\n",
    "\n",
    "    assignments::Array{Int,1} = []\n",
    "    iters = 0\n",
    "\n",
    "    while iters < maxiters\n",
    "        iters += 1\n",
    "\n",
    "        # calcula o centro associado a cada objeto\n",
    "        new_assignments = map(classify, inputs)\n",
    "\n",
    "        # encerra o processamento se não tiver mudança com a última iteração\n",
    "        assignments == new_assignments && break\n",
    "\n",
    "        # recalcula os centros como a média dos pontos do último agrupamento\n",
    "        assignments = new_assignments\n",
    "\n",
    "        #println(\"Centros \", iters, \": \", means)\n",
    "        #println(\"Agrupamentos \", iters, \": \", new_assignments)\n",
    "\n",
    "        for i=1:k\n",
    "            # lista todos os objetos do i-ésimo agrupamento\n",
    "            i_points = map(ii -> inputs[ii], findin(assignments, i))\n",
    "\n",
    "            isempty(i_points) && continue\n",
    "            means[i] = mean(i_points)\n",
    "        end\n",
    "    end\n",
    "\n",
    "    assignments\n",
    "end\n",
    "\n",
    "kmeans(dataset::Dataset, k::Int) = kmeans(dataset.input, k)\n",
    "\n",
    "kmeans(dataset, 3)"
   ]
  },
  {
   "cell_type": "code",
   "execution_count": 4,
   "metadata": {
    "collapsed": false
   },
   "outputs": [
    {
     "name": "stdout",
     "output_type": "stream",
     "text": [
      "  0.114707 seconds (125.34 k allocations: 6.254 MB, 5.45% gc time)\n",
      "Confusion Matrix:\n",
      "\n",
      "[30 0 1\n",
      " 0 26 1\n",
      " 5 2 35]\n",
      "\n",
      "Size: 100\n",
      "Correct: 91\n",
      "Mistakes: 9\n",
      "Accuracy: 91.0%\n",
      "\n",
      "Cluster 1\n",
      "\n",
      "Size: 31\n",
      "Accuracy: 94.0%\n",
      "Precision: 85.71%\n",
      "Recall: 96.77%\n",
      "F-score: 0.91\n",
      "\n",
      "True Positive: 30 (96.77%)\n",
      "True Negative: 64 (92.75%)\n",
      "False Negative: 1 (11.11%)\n",
      "False Positive: 5 (55.56%)\n",
      "\n",
      "Cluster 2\n",
      "\n",
      "Size: 27\n",
      "Accuracy: 97.0%\n",
      "Precision: 92.86%\n",
      "Recall: 96.3%\n",
      "F-score: 0.95\n",
      "\n",
      "True Positive: 26 (96.3%)\n",
      "True Negative: 71 (97.26%)\n",
      "False Negative: 1 (11.11%)\n",
      "False Positive: 2 (22.22%)\n",
      "\n",
      "Cluster 3\n",
      "\n",
      "Size: 42\n",
      "Accuracy: 91.0%\n",
      "Precision: 94.59%\n",
      "Recall: 83.33%\n",
      "F-score: 0.89\n",
      "\n",
      "True Positive: 35 (83.33%)\n",
      "True Negative: 56 (96.55%)\n",
      "False Negative: 7 (77.78%)\n",
      "False Positive: 2 (22.22%)\n",
      "\n"
     ]
    }
   ],
   "source": [
    "import Clustering.mapping\n",
    "\n",
    "\"Algoritmo de clusterização K-Means (algoritmo de Lloyd) \\\n",
    "aproximado para os grupos pré-definidos do dataset.\"\n",
    "function kmeans_approx(dataset::Dataset, k::Int)\n",
    "    assignments = kmeans(dataset, k)\n",
    "    centermap = mapping(dataset, assignments, k)\n",
    "    map(c -> centermap[c], assignments)\n",
    "end\n",
    "\n",
    "let\n",
    "    k = dataset.clusters\n",
    "    @time prediction = kmeans_approx(dataset, k)\n",
    "    Clustering.evaluation_summary(dataset, prediction; verbose=true)\n",
    "    sleep(0.2)\n",
    "end"
   ]
  },
  {
   "cell_type": "code",
   "execution_count": 5,
   "metadata": {
    "collapsed": false
   },
   "outputs": [
    {
     "name": "stdout",
     "output_type": "stream",
     "text": [
      "  0.058521 seconds (58.23 k allocations: 28.858 MB, 27.28% gc time)\n",
      "Confusion Matrix:\n",
      "\n",
      "[367 0 0\n",
      " 0 266 0\n",
      " 0 0 367]\n",
      "\n",
      "Size: 1000\n",
      "Correct: 1000\n",
      "Mistakes: 0\n",
      "Accuracy: 100.0%\n",
      "\n",
      "Cluster 1\n",
      "\n",
      "Size: 367\n",
      "Accuracy: 100.0%\n",
      "Precision: 100.0%\n",
      "Recall: 100.0%\n",
      "F-score: 1.0\n",
      "\n",
      "True Positive: 367 (100.0%)\n",
      "True Negative: 633 (100.0%)\n",
      "False Negative: 0 (NaN%)\n",
      "False Positive: 0 (NaN%)\n",
      "\n",
      "Cluster 2\n",
      "\n",
      "Size: 266\n",
      "Accuracy: 100.0%\n",
      "Precision: 100.0%\n",
      "Recall: 100.0%\n",
      "F-score: 1.0\n",
      "\n",
      "True Positive: 266 (100.0%)\n",
      "True Negative: 734 (100.0%)\n",
      "False Negative: 0 (NaN%)\n",
      "False Positive: 0 (NaN%)\n",
      "\n",
      "Cluster 3\n",
      "\n",
      "Size: 367\n",
      "Accuracy: 100.0%\n",
      "Precision: 100.0%\n",
      "Recall: 100.0%\n",
      "F-score: 1.0\n",
      "\n",
      "True Positive: 367 (100.0%)\n",
      "True Negative: 633 (100.0%)\n",
      "False Negative: 0 (NaN%)\n",
      "False Positive: 0 (NaN%)\n",
      "\n"
     ]
    }
   ],
   "source": [
    "Clustering.test_dataset(\"small\", kmeans_approx)\n",
    "sleep(0.2)"
   ]
  },
  {
   "cell_type": "code",
   "execution_count": 6,
   "metadata": {
    "collapsed": false
   },
   "outputs": [
    {
     "name": "stdout",
     "output_type": "stream",
     "text": [
      "  0.227942 seconds (448.74 k allocations: 216.538 MB, 41.41% gc time)\n",
      "Confusion Matrix:\n",
      "\n",
      "[3814 0 0\n",
      " 0 3973 0\n",
      " 0 0 2213]\n",
      "\n",
      "Size: 10000\n",
      "Correct: 10000\n",
      "Mistakes: 0\n",
      "Accuracy: 100.0%\n",
      "\n",
      "Cluster 1\n",
      "\n",
      "Size: 3814\n",
      "Accuracy: 100.0%\n",
      "Precision: 100.0%\n",
      "Recall: 100.0%\n",
      "F-score: 1.0\n",
      "\n",
      "True Positive: 3814 (100.0%)\n",
      "True Negative: 6186 (100.0%)\n",
      "False Negative: 0 (NaN%)\n",
      "False Positive: 0 (NaN%)\n",
      "\n",
      "Cluster 2\n",
      "\n",
      "Size: 3973\n",
      "Accuracy: 100.0%\n",
      "Precision: 100.0%\n",
      "Recall: 100.0%\n",
      "F-score: 1.0\n",
      "\n",
      "True Positive: 3973 (100.0%)\n",
      "True Negative: 6027 (100.0%)\n",
      "False Negative: 0 (NaN%)\n",
      "False Positive: 0 (NaN%)\n",
      "\n",
      "Cluster 3\n",
      "\n",
      "Size: 2213\n",
      "Accuracy: 100.0%\n",
      "Precision: 100.0%\n",
      "Recall: 100.0%\n",
      "F-score: 1.0\n",
      "\n",
      "True Positive: 2213 (100.0%)\n",
      "True Negative: 7787 (100.0%)\n",
      "False Negative: 0 (NaN%)\n",
      "False Positive: 0 (NaN%)\n",
      "\n"
     ]
    }
   ],
   "source": [
    "Clustering.test_dataset(\"large\", kmeans_approx)\n",
    "sleep(0.2)"
   ]
  }
 ],
 "metadata": {
  "kernelspec": {
   "display_name": "Julia 0.4.3",
   "language": "julia",
   "name": "julia-0.4"
  },
  "language_info": {
   "file_extension": ".jl",
   "mimetype": "application/julia",
   "name": "julia",
   "version": "0.4.3"
  }
 },
 "nbformat": 4,
 "nbformat_minor": 0
}
